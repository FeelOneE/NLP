{
 "cells": [
  {
   "cell_type": "code",
   "execution_count": 73,
   "id": "marine-criterion",
   "metadata": {},
   "outputs": [],
   "source": [
    "######################################################################\n",
    "######################### 댓글 크롤링 시작 ############################\n",
    "######################################################################\n",
    "\n",
    "import urllib.parse as rep\n",
    "import urllib.request as req\n",
    "from bs4 import BeautifulSoup\n",
    "from fake_useragent import UserAgent\n",
    "import gzip\n",
    "import pandas as pd\n",
    "import json"
   ]
  },
  {
   "cell_type": "code",
   "execution_count": 3,
   "id": "sophisticated-judgment",
   "metadata": {},
   "outputs": [
    {
     "output_type": "stream",
     "name": "stdout",
     "text": [
      "더 없음\n"
     ]
    }
   ],
   "source": [
    "\n",
    "\n",
    "# Header 정보 초기화\n",
    "opener = req.build_opener()\n",
    "# User-Agent 정보\n",
    "#opener.addheaders = [('User-agent', UserAgent())]\n",
    "# Header 정보 삽입\n",
    "req.install_opener(opener)\n",
    "\n",
    "# 쇼핑 댓글 요청 헤더\n",
    "# https://search.shopping.naver.com/catalog/24178126692?cat_id=50000814&nv_mid=24178126692&NaPm=ct%3Dkmochwcg%7Cci%3D5fbcf90319f44a9577a7ba53d9afec4cf0af44e8%7Ctr%3Dsl%7Csn%3D95694%7Chk%3D180c476dc3ec1764ae9d356ee403773d5f2382ca\n",
    "# https://search.shopping.naver.com/catalog/14742158672?NaPm=ct%3Dkmyyltb4%7Cci%3D8fb2739c338be12299472ccff160ded9bc19122f%7Ctr%3Dslsl%7Csn%3D95694%7Chk%3D0186b9292ab060733115318dcfd65d3aefb527b7\n",
    "\n",
    "    \n",
    "# Request\n",
    "flag = True\n",
    "pageNum = 1\n",
    "result = []\n",
    "while flag:\n",
    "    try:\n",
    "        \n",
    "        # 쇼핑 댓글 요청 헤더\n",
    "        hdr = {'authority': 'search.shopping.naver.com', \\\n",
    "        'method': 'GET',\\\n",
    "        'path': '/review?nvMid=14742158672&reviewType=ALL&sort=QUALITY&isNeedAggregation=N&isApplyFilter=N&page='+str(pageNum)+'&pageSize=20',\\\n",
    "        'scheme': 'https',\\\n",
    "        'accept': 'application/json, text/plain, */*',\\\n",
    "        'accept-encoding': 'gzip, deflate, br',\\\n",
    "        'accept-language': 'ko-KR,ko;q=0.9,en-US;q=0.8,en;q=0.7',\\\n",
    "        'cache-control': 'no-cache',\\\n",
    "        'pragma': 'no-cache',\\\n",
    "        'referer': 'https://search.shopping.naver.com/catalog/14742158672?NaPm=ct%3Dkmyyltb4%7Cci%3D8fb2739c338be12299472ccff160ded9bc19122f%7Ctr%3Dslsl%7Csn%3D95694%7Chk%3D0186b9292ab060733115318dcfd65d3aefb527b7',\\\n",
    "        'sec-ch-ua': '\"Google Chrome\";v=\"89\", \"Chromium\";v=\"89\", \";Not A Brand\";v=\"99\"',\\\n",
    "        'sec-ch-ua-mobile': '?0',\\\n",
    "        'sec-fetch-dest': 'empty',\\\n",
    "        'sec-fetch-mode': 'cors',\\\n",
    "        'sec-fetch-site': 'same-origin',\\\n",
    "        'urlprefix': '/api',\\\n",
    "        'user-agent': 'M'}\n",
    "\n",
    "        url = 'https://search.shopping.naver.com/review?nvMid=14742158672&reviewType=ALL&sort=QUALITY&isNeedAggregation=N&isApplyFilter=N&page='+str(pageNum)+'&pageSize=20'        \n",
    "        \n",
    "        reqeust = req.Request(url,headers=hdr)\n",
    "        res = gzip.decompress(req.urlopen(reqeust).read()).decode('utf-8')\n",
    "        #print(res)\n",
    "        data = json.loads(res)\n",
    "        result.extend(data['reviews'])\n",
    "        pageNum = pageNum + 1\n",
    "    except:\n",
    "        print('더 없음')\n",
    "        flag = False\n",
    "\n",
    "\n",
    "#res = req.urlopen(reqeust).read().decode('utf-8')\n",
    "\n"
   ]
  },
  {
   "cell_type": "code",
   "execution_count": 4,
   "id": "distributed-effect",
   "metadata": {},
   "outputs": [
    {
     "output_type": "execute_result",
     "data": {
      "text/plain": [
       "<bound method NDFrame.describe of         mallId mallProductId updateType mallReviewId mallSeq        nvMid  \\\n",
       "0         evas     450072517     UPSERT    884568151  196900  10110341669   \n",
       "1      lgeshop      21606783     UPSERT    159716221       1  22167213896   \n",
       "2      lgeshop      21606783     UPSERT    161640758       1  22167213896   \n",
       "3      lgeshop      21606783     UPSERT    161686778       1  22167213896   \n",
       "4         evas     450072517     UPSERT    884651289  196900  10110341669   \n",
       "...        ...           ...        ...          ...     ...          ...   \n",
       "1355  goodsdaq    1416294630     UPSERT    103747044      24  19131673418   \n",
       "1356   auction    B696708275     UPSERT   1859480857     114  19827525082   \n",
       "1357  goodsdaq    1416294630     UPSERT    103268818      24  19131673418   \n",
       "1358   lgeshop      21606783     UPSERT    158009524       1  22167213896   \n",
       "1359   lgeshop      21606783     UPSERT    157887144       1  22167213896   \n",
       "\n",
       "       matchNvMid    userId  \\\n",
       "0     14742158672  khsk****   \n",
       "1     14742158672  zz******   \n",
       "2     14742158672  lo******   \n",
       "3     14742158672  jh******   \n",
       "4     14742158672  siny****   \n",
       "...           ...       ...   \n",
       "1355  14742158672  s*v*****   \n",
       "1356  14742158672  t*w*****   \n",
       "1357  14742158672  m*o*****   \n",
       "1358  14742158672  asu*****   \n",
       "1359  14742158672  eun*****   \n",
       "\n",
       "                                                  title  \\\n",
       "0     쑥 들어간 제품들을 평소에 좋아해서 쑥 화장품으로 대부분 쓰려고 해요 아침 저녁으로...   \n",
       "1     화장품 상자에 한번 더 뽁뽁이  포장으로  꼼꼼하게 담아져 있었고  화장품 용기는 ...   \n",
       "2     대용량에 헐 감동입니다 1개는 지인도 팍팍 쓰라고 선물했어요이건 화장솜에 듬뿍 하셔...   \n",
       "3     아직 사용전인데 오자마자 간병이모님이 머냐고 물어 보셔서 약쑥스킨이라고  하니 한번...   \n",
       "4     프레쥬 진정토너 여름에 시원하게 토너팩 하기 좋아요 향은 쑥 냄새보다는 시트러스계열...   \n",
       "...                                                 ...   \n",
       "1355                                             좋아요좋아요   \n",
       "1356                  향은 무난하다네요. 선물로 보냈는데 대용량이라 막 쓰기...   \n",
       "1357                                       자극적이지 않고 좋아요   \n",
       "1358                                      향도 무난하고 촉촉하네요   \n",
       "1359                                    쑥향이 과해서..이상해요..   \n",
       "\n",
       "                                                content  ...  \\\n",
       "0     쑥 들어간 <em>제품들을 평소에 좋아해서 </em>쑥 화장품으로 대부분 쓰려고 해...  ...   \n",
       "1     화장품 상자에 한번 더 뽁뽁이  포장으로  꼼꼼하게 담아져 있었고  <em>화장품 ...  ...   \n",
       "2     <em>대용량에 헐 감동입니다</em> <br>1개는 지인도 팍팍 쓰라고 선물했어요...  ...   \n",
       "3     아직 사용전인데 오자마자 간병이모님이 머냐고 물어 보셔서 약쑥스킨이라고  하니 한번...  ...   \n",
       "4     프레쥬 진정토너 여름에 시원하게 토너팩 하기 좋아요 향은 쑥 냄새보다는 시트러스계열...  ...   \n",
       "...                                                 ...  ...   \n",
       "1355                              <em>가격도착하게사고좋으네요</em>  ...   \n",
       "1356   <em>향은 무난하다네요</em>. 선물로 보냈는데 대용량이라 막 쓰기 좋다고 하네요.  ...   \n",
       "1357                    <em>또 이용할께요</em> <em>번창하세요</em>  ...   \n",
       "1358                             <em>향도 무난하고</em> 촉촉하네요  ...   \n",
       "1359                           <em>쑥향이 과해서</em>..이상해요..  ...   \n",
       "\n",
       "                                                 images videoYn videoCount  \\\n",
       "0     [https://phinf.pstatic.net/checkout/20200627_2...       N          0   \n",
       "1     [https://shopping-phinf.pstatic.net/20210406_9...       N          0   \n",
       "2     [https://shopping-phinf.pstatic.net/20210530_1...       N          0   \n",
       "3     [https://shopping-phinf.pstatic.net/20210531_8...       N          0   \n",
       "4     [https://phinf.pstatic.net/checkout/20200627_1...       N          0   \n",
       "...                                                 ...     ...        ...   \n",
       "1355                                                NaN       N          0   \n",
       "1356                                                NaN       N          0   \n",
       "1357                                                NaN       N          0   \n",
       "1358                                                NaN       N          0   \n",
       "1359                                                NaN       N          0   \n",
       "\n",
       "      topicYn  topicCount                                             topics  \\\n",
       "0           Y           1  [{'topicCode': 'total', 'topicName': '만족도', 't...   \n",
       "1           Y           4  [{'topicCode': 'package', 'topicName': '용기', '...   \n",
       "2           Y           1  [{'topicCode': 'total', 'topicName': '만족도', 't...   \n",
       "3           Y           1  [{'topicCode': 'effect', 'topicName': '효과', 't...   \n",
       "4           Y           3  [{'topicCode': 'smell', 'topicName': '향기', 'to...   \n",
       "...       ...         ...                                                ...   \n",
       "1355        Y           1  [{'topicCode': 'price', 'topicName': '가격', 'to...   \n",
       "1356        Y           1  [{'topicCode': 'smell', 'topicName': '향기', 'to...   \n",
       "1357        Y           2  [{'topicCode': 'total', 'topicName': '만족도', 't...   \n",
       "1358        Y           1  [{'topicCode': 'smell', 'topicName': '향기', 'to...   \n",
       "1359        Y           1  [{'topicCode': 'total', 'topicName': '만족도', 't...   \n",
       "\n",
       "                          uniqueKey  mallName  \\\n",
       "0          884568151-evas-450072517   에바스코스메틱   \n",
       "1        159716221-lgeshop-21606783    GSSHOP   \n",
       "2        161640758-lgeshop-21606783    GSSHOP   \n",
       "3        161686778-lgeshop-21606783    GSSHOP   \n",
       "4          884651289-evas-450072517   에바스코스메틱   \n",
       "...                             ...       ...   \n",
       "1355  103747044-goodsdaq-1416294630       G마켓   \n",
       "1356  1859480857-auction-B696708275        옥션   \n",
       "1357  103268818-goodsdaq-1416294630       G마켓   \n",
       "1358     158009524-lgeshop-21606783    GSSHOP   \n",
       "1359     157887144-lgeshop-21606783    GSSHOP   \n",
       "\n",
       "                                               mallLogo buyOption  \n",
       "0     https://shopping-phinf.pstatic.net/20210216_27...       NaN  \n",
       "1     https://shopping-phinf.pstatic.net/20210512/67...       NaN  \n",
       "2     https://shopping-phinf.pstatic.net/20210512/67...       NaN  \n",
       "3     https://shopping-phinf.pstatic.net/20210512/67...       NaN  \n",
       "4     https://shopping-phinf.pstatic.net/20210216_27...       NaN  \n",
       "...                                                 ...       ...  \n",
       "1355  https://shopping-phinf.pstatic.net/20210217/76...       NaN  \n",
       "1356  https://shopping-phinf.pstatic.net/20210217/60...       NaN  \n",
       "1357  https://shopping-phinf.pstatic.net/20210217/76...       NaN  \n",
       "1358  https://shopping-phinf.pstatic.net/20210512/67...       NaN  \n",
       "1359  https://shopping-phinf.pstatic.net/20210512/67...       NaN  \n",
       "\n",
       "[1360 rows x 28 columns]>"
      ]
     },
     "metadata": {},
     "execution_count": 4
    }
   ],
   "source": [
    "df = pd.DataFrame(result)\n",
    "df.describe"
   ]
  },
  {
   "cell_type": "code",
   "execution_count": 5,
   "id": "individual-checklist",
   "metadata": {},
   "outputs": [
    {
     "output_type": "execute_result",
     "data": {
      "text/plain": [
       "1360"
      ]
     },
     "metadata": {},
     "execution_count": 5
    }
   ],
   "source": [
    "len(result)"
   ]
  },
  {
   "cell_type": "code",
   "execution_count": 6,
   "id": "three-citation",
   "metadata": {},
   "outputs": [
    {
     "output_type": "execute_result",
     "data": {
      "text/plain": [
       "{'mallId': 'goodsdaq',\n",
       " 'mallProductId': '1416294630',\n",
       " 'updateType': 'UPSERT',\n",
       " 'mallReviewId': '106684740',\n",
       " 'mallSeq': '24',\n",
       " 'nvMid': '19131673418',\n",
       " 'matchNvMid': '14742158672',\n",
       " 'userId': 's*8*****',\n",
       " 'title': '향이 강하네요',\n",
       " 'content': '<em>다른분 말처럼 향이 강하네요</em>발랐을때 깔끔한 느낌보다는 살짝 텁텁한 느낌이었어요 그렇다고 끈적이거나 그런건 아니지만 개운~깔끔하지는 않았어요.. 진정토너라해서 기대를 너무한건가요.......?진정효과는 두번째치고 볼은 열감으로 발그레되고 좁쌀같이 올라오고.. 건조하기까지.. 아침에 얼굴 당겨 거울봤다가 놀랬어요 땡기는 피부팩한줄.. 팩하고 굳었을때 웃으면 주름 생기듯 얼굴 근육에 따라 줄이 생기며 구겨지는데.. 이건 나랑은 아닌듯 싶네요..(토너+수분크림+팩 여기꺼만 사용)',\n",
       " 'registerDate': '2021-03-17',\n",
       " 'modifyDate': '2021-05-04',\n",
       " 'pageUrl': 'http://item2.gmarket.co.kr/Item/detailview/Item.aspx?goodscode=1416294630',\n",
       " 'createTime': 1621408774488,\n",
       " 'qualityScore': 0.791547,\n",
       " 'starScore': 1,\n",
       " 'imageYn': 'N',\n",
       " 'imageCount': 0,\n",
       " 'videoYn': 'N',\n",
       " 'videoCount': 0,\n",
       " 'topicYn': 'Y',\n",
       " 'topicCount': 1,\n",
       " 'topics': [{'topicCode': 'smell',\n",
       "   'topicName': '향기',\n",
       "   'topicNameRaw': '향기',\n",
       "   'startPosition': 0,\n",
       "   'endPosition': 38,\n",
       "   'reputationScore': 584,\n",
       "   'positiveYn': 'N'}],\n",
       " 'uniqueKey': '106684740-goodsdaq-1416294630',\n",
       " 'mallName': 'G마켓',\n",
       " 'mallLogo': 'https://shopping-phinf.pstatic.net/20210217/76c25d7d-6160-4537-ac4d-d3208d56c0b8.jpg'}"
      ]
     },
     "metadata": {},
     "execution_count": 6
    }
   ],
   "source": [
    "result[6]"
   ]
  },
  {
   "cell_type": "code",
   "execution_count": 7,
   "metadata": {},
   "outputs": [
    {
     "output_type": "stream",
     "name": "stdout",
     "text": [
      "쑥 들어간 <em>제품들을 평소에 좋아해서 </em>쑥 화장품으로 대부분 쓰려고 해요 아침 저녁으로 매일 매일 쓰기에 부담이 없고 좋습니다<br>자연약쑥 진정 토너라 자극없이 쓰기에도 좋고 녹차 루이보스 캐모마일 쑥 페퍼민트 로즈마리 유칼리투스잎이 들어간 그린 허브 성분이라 피부 진정에도 도움이 되는거 같아요\n"
     ]
    }
   ],
   "source": [
    "######################################################################\n",
    "######################### 댓글 크롤링 끝 ##############################\n",
    "######################################################################\n",
    "\n",
    "print(df.iloc[0]['content'])"
   ]
  },
  {
   "cell_type": "code",
   "execution_count": 55,
   "id": "closed-repair",
   "metadata": {},
   "outputs": [
    {
     "output_type": "stream",
     "name": "stdout",
     "text": [
      "Collecting kobert-transformers\n",
      "  Downloading kobert_transformers-0.4.1-py3-none-any.whl (12 kB)\n",
      "Collecting transformers>=2.9.1\n",
      "  Downloading transformers-4.6.1-py3-none-any.whl (2.2 MB)\n",
      "\u001b[K     |████████████████████████████████| 2.2 MB 693 kB/s \n",
      "\u001b[?25hCollecting torch>=1.1.0\n",
      "  Downloading torch-1.9.0-cp38-none-macosx_10_9_x86_64.whl (127.9 MB)\n",
      "\u001b[K     |████████████████████████████████| 127.9 MB 7.7 MB/s \n",
      "\u001b[?25hRequirement already satisfied: numpy>=1.17 in /opt/anaconda3/lib/python3.8/site-packages (from transformers>=2.9.1->kobert-transformers) (1.19.2)\n",
      "Requirement already satisfied: regex!=2019.12.17 in /opt/anaconda3/lib/python3.8/site-packages (from transformers>=2.9.1->kobert-transformers) (2020.10.15)\n",
      "Requirement already satisfied: filelock in /opt/anaconda3/lib/python3.8/site-packages (from transformers>=2.9.1->kobert-transformers) (3.0.12)\n",
      "Requirement already satisfied: tqdm>=4.27 in /opt/anaconda3/lib/python3.8/site-packages (from transformers>=2.9.1->kobert-transformers) (4.50.2)\n",
      "Collecting sacremoses\n",
      "  Downloading sacremoses-0.0.45-py3-none-any.whl (895 kB)\n",
      "\u001b[K     |████████████████████████████████| 895 kB 4.5 MB/s \n",
      "\u001b[?25hCollecting tokenizers<0.11,>=0.10.1\n",
      "  Downloading tokenizers-0.10.3-cp38-cp38-macosx_10_11_x86_64.whl (2.2 MB)\n",
      "\u001b[K     |████████████████████████████████| 2.2 MB 12.7 MB/s \n",
      "\u001b[?25hCollecting huggingface-hub==0.0.8\n",
      "  Downloading huggingface_hub-0.0.8-py3-none-any.whl (34 kB)\n",
      "Requirement already satisfied: packaging in /opt/anaconda3/lib/python3.8/site-packages (from transformers>=2.9.1->kobert-transformers) (20.4)\n",
      "Requirement already satisfied: requests in /opt/anaconda3/lib/python3.8/site-packages (from transformers>=2.9.1->kobert-transformers) (2.24.0)\n",
      "Requirement already satisfied: typing-extensions in /opt/anaconda3/lib/python3.8/site-packages (from torch>=1.1.0->kobert-transformers) (3.7.4.3)\n",
      "Requirement already satisfied: six in /opt/anaconda3/lib/python3.8/site-packages (from sacremoses->transformers>=2.9.1->kobert-transformers) (1.15.0)\n",
      "Requirement already satisfied: joblib in /opt/anaconda3/lib/python3.8/site-packages (from sacremoses->transformers>=2.9.1->kobert-transformers) (0.17.0)\n",
      "Requirement already satisfied: click in /opt/anaconda3/lib/python3.8/site-packages (from sacremoses->transformers>=2.9.1->kobert-transformers) (7.1.2)\n",
      "Requirement already satisfied: pyparsing>=2.0.2 in /opt/anaconda3/lib/python3.8/site-packages (from packaging->transformers>=2.9.1->kobert-transformers) (2.4.7)\n",
      "Requirement already satisfied: urllib3!=1.25.0,!=1.25.1,<1.26,>=1.21.1 in /opt/anaconda3/lib/python3.8/site-packages (from requests->transformers>=2.9.1->kobert-transformers) (1.25.11)\n",
      "Requirement already satisfied: chardet<4,>=3.0.2 in /opt/anaconda3/lib/python3.8/site-packages (from requests->transformers>=2.9.1->kobert-transformers) (3.0.4)\n",
      "Requirement already satisfied: idna<3,>=2.5 in /opt/anaconda3/lib/python3.8/site-packages (from requests->transformers>=2.9.1->kobert-transformers) (2.10)\n",
      "Requirement already satisfied: certifi>=2017.4.17 in /opt/anaconda3/lib/python3.8/site-packages (from requests->transformers>=2.9.1->kobert-transformers) (2020.6.20)\n",
      "Installing collected packages: sacremoses, tokenizers, huggingface-hub, transformers, torch, kobert-transformers\n",
      "Successfully installed huggingface-hub-0.0.8 kobert-transformers-0.4.1 sacremoses-0.0.45 tokenizers-0.10.3 torch-1.9.0 transformers-4.6.1\n"
     ]
    }
   ],
   "source": [
    "######################################################################\n",
    "######################### 댓글 TextRank ##############################\n",
    "######################################################################\n",
    "!pip install kobert-transformers"
   ]
  },
  {
   "cell_type": "code",
   "execution_count": 19,
   "metadata": {},
   "outputs": [
    {
     "output_type": "stream",
     "name": "stdout",
     "text": [
      "['쑥/MAG', '들어가/VV', 'ㄴ/ETM', '제품/NNG', '들/XSN', '을/JKO', '평소/NNG', '에/JKB', '좋아하/VV', '아서/EC', '쑥/MAG', '화장품/NNG', '으로/JKB', '대부분/NNG', '쓰/VV', '려고/EC', '하/VV', '아요/EC', '아침/NNG', '저녁/NNG', '으로/JKB', '매일/MAG', '매일/MAG', '쓰/VV', '기/ETN', '에/JKB', '부담/NNG', '이/JKS', '없/VA', '고/EC', '좋/VA', '습니다/EC', '자연/NNG', '약/NNG', '쑥/NNG', '진정/NNP', '토너/NNP', '이/VCP', '라/EC', '자극/NNG', '없이/MAG', '쓰/VV', '기/ETN', '에/JKB', '도/JX', '좋/VA', '고/EC', '녹차/NNP', '루이보스/NNP', '캐모마일/NNP', '쑥/MAG', '페퍼/NNP', '민트/NNP', '로즈마리/NNP', '유칼리투스잎이/NA', '들어가/VV', 'ㄴ/ETM', '그리/VV', 'ㄴ/ETM', '허브/NNP', '성분/NNG', '이/VCP', '라/EC', '피부/NNP', '진정/NNG', '에/JKB', '도/JX', '도움/NNG', '이/JKS', '되/VV', '는/ETM', '거/NNB', '같/VA', '아요/EC']\n"
     ]
    }
   ],
   "source": [
    "#형태소 분석기 Komoran\n",
    "\n",
    "from konlpy.tag import Komoran\n",
    "\n",
    "komoran = Komoran()\n",
    "sent = '쑥 들어간 제품들을 평소에 좋아해서 쑥 화장품으로 대부분 쓰려고 해요 아침 저녁으로 매일 매일 쓰기에 부담이 없고 좋습니다자연약쑥 진정 토너라 자극없이 쓰기에도 좋고 녹차 루이보스 캐모마일 쑥 페퍼민트 로즈마리 유칼리투스잎이 들어간 그린 허브 성분이라 피부 진정에도 도움이 되는거 같아요'\n",
    "\n",
    "words = komoran.pos(sent, join=True)\n",
    "print(words )\n"
   ]
  },
  {
   "cell_type": "code",
   "execution_count": 46,
   "metadata": {},
   "outputs": [
    {
     "output_type": "execute_result",
     "data": {
      "text/plain": [
       "0       쑥 들어간 제품들을 평소에 좋아해서 쑥 화장품으로 대부분 쓰려고 해요 아침 저녁으로...\n",
       "1       화장품 상자에 한번 더 뽁뽁이  포장으로  꼼꼼하게 담아져 있었고  화장품 용기는 ...\n",
       "2       대용량에 헐 감동입니다 개는 지인도 팍팍 쓰라고 선물했어요이건 화장솜에 듬뿍 하셔서...\n",
       "3       아직 사용전인데 오자마자 간병이모님이 머냐고 물어 보셔서 약쑥스킨이라고  하니 한번...\n",
       "4       프레쥬 진정토너 여름에 시원하게 토너팩 하기 좋아요 향은 쑥 냄새보다는 시트러스계열...\n",
       "                              ...                        \n",
       "1355                                         가격도착하게사고좋으네요\n",
       "1356                향은 무난하다네요 선물로 보냈는데 대용량이라 막 쓰기 좋다고 하네요\n",
       "1357                                        또 이용할께요 번창하세요\n",
       "1358                                        향도 무난하고 촉촉하네요\n",
       "1359                                          쑥향이 과해서이상해요\n",
       "Name: clean_content, Length: 1098, dtype: object"
      ]
     },
     "metadata": {},
     "execution_count": 46
    }
   ],
   "source": [
    "# cleasing 함수 \n",
    "import regex as re\n",
    "def cleasing(text):\n",
    "    repl =''\n",
    "    pattern = '([ㄱ-ㅎㅏ-ㅣ]+)' # 자음, 모음 제거\n",
    "    text = re.sub(pattern= pattern, repl=repl, string=text)\n",
    "    #pattern = '[^\\w\\s]' # 특수기호 제거\n",
    "    pattern = '[^가-히\\s]' # 특수기호 제거\n",
    "    text = re.sub(pattern= pattern, repl=repl, string=text)\n",
    "    pattern = '<[^>]*>' # html 제거\n",
    "    text = re.sub(pattern = pattern, repl='',string=text)\n",
    "    return text\n",
    "df['length'] = df.content.str.len()\n",
    "df['clean_content'] = df['content'].map(lambda x: cleasing(x))\n",
    "df2 = df[ df.length > 20 ] \n",
    "df2 = df2['clean_content']\n",
    "df2\n"
   ]
  },
  {
   "cell_type": "code",
   "execution_count": 53,
   "metadata": {
    "tags": [
     "outputPrepend"
    ]
   },
   "outputs": [
    {
     "output_type": "stream",
     "name": "stdout",
     "text": [
      "'송/NNP', '용량/NNP', '대신/NNG', '쑥/NNG', '향/NNG', '풀/NNG', '냄새/NNG', '만/NNB', '보습/NNG', '효과/NNG', '적극/NNG', '추천/NNG', '동시/NNG', '선물/NNG', '제품/NNP', '삽/NNG', '니다/NNP', '스킨/NNP', '오일/NNG', '미스트/NNP', '가격/NNP', '대비/NNP', '만족/NNG', '입/NNG', '니다/NNP', '용량/NNP', '대용량/NNG', '온몸/NNG', '계절/NNG', '건조/NNG', '얼굴/NNG', '화장/NNP', '솜/NNG', '팩/NNG', '사용/NNG', '용량/NNG', '가격/NNG', '것/NNB', '가격/NNG', '것/NNB', '라용/NNP', '량/NNB', '가격/NNG', '도/NNG', '구매/NNG', '스킨/NNP', '팩/NNG', '막/NNG', '쓰기/NNP', '성비/NNP', '제품/NNG', '세트/NNP', '행사/NNG', '상품/NNG', '용량/NNP', '만족/NNG', '향/NNG', '이정/NNP', '말/NNG', '요/NNG', '유통기한/NNP', '정/NNP', '효과/NNG', '사용/NNG', '만족/NNG', '건성/NNG', '질도/NNP', '타입/NNG', '구매/NNG', '조카/NNP', '선물/NNG', '요/NNG', '향/NNG', '양이/NNP', '부담/NNG', '도전/NNG', '피부/NNG', '상품/NNP', '평/NNB', '좋아서/NNP', '구입/NNG', '사용/NNG', '전인/NNP', '데/NNB', '기대/NNG', '중/NNB', '완전/NNG', '강/NNP', '추/NNP', '대박/NNP', '가격/NNG', '클렌징/NNG', '폼/NNG', '건/NNB', '줄/NNB', '완전/NNG', '주위/NNG', '사람/NNG', '완전/NNG', '적극/NNG', '추천/NNG', '사람/NNG', '원/NNB', '사신/NNP', '듯/NNB', '겨울/NNG', '건조/NNG', '얼굴/NNG', '이랑/NNP', '바/NNB', '디/NNP', '보습/NNG', '신경/NNG', '향도/NNP', '딸아이/NNG', '여/NNG', '처음/NNG', '사본/NNP', '브랜드/NNP', '딸아이/NNG', '것/NNB', '용량/NNP', '커서/NNP', '화장품/NNG', '냉장고/NNP', '보관/NNG', '중/NNB', '배/NNG', '송도/NNP', '예상/NNG', '배/NNG', '송/NNP', '날/NNG', '용량/NNP', '커서/NNP', '사용/NNG', '전인/NNP', '데/NNB', '용량/NNG', '향/NNG', '한편/NNG', '상품/NNG', '가격/NNG', '대비/NNG', '보지/NNP', '보아/NNP', '요/NNP', '용량/NNG', '클렌징/NNG', '폼/NNG', '선물/NNP', '감사/NNG', '제품/NNG', '판매/NNG', '감사/NNG', '토너/NNP', '클렌징/NNG', '폼/NNG', '은박/NNG', '씨/NNB', '오픈/NNG', '토너/NNP', '텐/NNG', '데/NNB', '입구/NNG', '불편/NNG', '거/NNB', '배/NNG', '송/NNP', '성비/NNP', '만족/NNG', '행사/NNG', '구입/NNG', '올해/NNG', '용량/NNP', '화장/NNP', '솜/NNG', '사용/NNG', '양이/NNP', '대박/NNP', '학/NNG', '토로/NNP', '용량/NNP', '커서/NNP', '사용/NNG', '듯/NNB', '양도/NNP', '향도/NNP', '마음/NNG', '냄새/NNG', '별로/NNG', '인대/NNP', '거/NNB', '용량/NNP', '원뿔/NNP', '원/NNB', '사용/NNG', '학/NNG', '토로/NNP', '배/NNG', '송/NNP', '가격/NNP', '대비/NNP', '만족/NNG', '스킨/NNP', '사용/NNG', '아침저녁/NNG', '회/NNB', '사용/NNG', '생각/NNG', '것/NNB', '용량/NNG', '가격/NNP', '대비/NNP', '용량/NNP', '촉/NNB', '촉/NNB', '하니/NNP', '구매/NNG', '느낌/NNG', '쑥/NNG', '향/NNG', '흡수/NNG', '향/NNG', '가격/NNP', '대비/NNP', '용량/NNP', '향도/NNP', '향도/NNP', '보습력/NNG', '향/NNG', '클렌징/NNG', '단계/NNG', '향도/NNG', '사용/NNG', '양/NNG', '양도/NNG', '추천/NNG', '거/NNB', '예/NNG', '성비/NNP', '갑/NNG', '쑥/NNG', '향/NNG', '가격/NNG', '만족/NNG', '딸/NNG', '거/NNB', '구매/NNG', '성비/NNP', '갑/NNG', '제품/NNG', '쑥/NNG', '향/NNG', '양이/NNP', '용도/NNG', '사용/NNG', '가격/NNP', '대비/NNP', '듯/NNB', '구매/NNG', '해/NNG', '여/NNP', '양도/NNP', '아/NNP', '것/NNB', '향도/NNP', '구매/NNG', '제품/NNG', '맘/NNG', '구매/NNG', '통째/NNG', '향/NNG', '양이/NNP', '대용량/NNG', '맘/NNG', '괘/NNG', '합/NNG', '니다/NNP', '향/NNG', '가격/NNP', '대비/NNP', '상품/NNG', '딸/NNG', '래미/NNP', '거/NNB', '예/NNG', '가격/NNP', '대비/NNP', '만족/NNG', '향/NNG', '이랑/NNP', '수분/NNP', '감/NNG', '수분/NNP', '감/NNG', '고순/NNP', '사용/NNG', '제품/NNG', '향도/NNP', '성비/NNP', '가격/NNG', '용량/NNP', '마음/NNG', '에/NNG', '용량/NNP', '향도/NNP', '사용/NNG', '피부/NNG', '세안/NNG', '후/NNG', '화장/NNP', '솜/NNG', '사용/NNG', '때/NNG', '부결/NNG', '정돈/NNG', '차/NNB', '수분/NNP', '급/NNG', '충전/NNP', '자연/NNG', '진정/NNP', '토너/NNP', '구매/NNG', '만족/NNG', '사용/NNG', '제/NNB', '예/NNG', '세안/NNG', '후/NNG', '시/NNG', '거/NNB', '구입/NNG', '향/NNG', '알콜/NNG', '향도/NNP', '진/NNG', '허브/NNP', '향도/NNP', '진/NNP', '하네/NNP', '요/NNP', '기존/NNG', '것/NNB', '각질/NNG', '관리/NNG', '제품/NNP', '구매/NNG', '습/NNG', '니다/NNP', '토너/NNP', '구입/NNG', '사용/NNG', '전입/NNG', '니다/NNP', '스킨/NNP', '사용/NNG', '처음/NNG', '번/NNB', '구매/NNG', '가격/NNG', '만족/NNP', '하면/NNP', '단골/NNG', '상품/NNG', '만족/NNG', '배/NNG', '송도/NNP', '만족/NNG', '꺼/NNB', '에/NNG', '바스/NNP', '화장품/NNG', '지금/NNG', '크림/NNP', '샴푸/NNP', '등/NNB', '제품/NNG', '만족/NNG', '만족/NNG', '가격/NNG', '용량/NNP', '가격/NNG', '용량/NNP', '최고/NNP', '사은품/NNG', '폼/NNG', '클렌징/NNG', '감사/NNG', '용량/NNP', '최고/NNG', '사용/NNG', '중/NNB', '용량/NNP', '여유/NNG', '첨/NNG', '때/NNG', '느낌/NNG', '거/NNB', '구매/NNG', '만족/NNG', '부담/NNG', '사용/NNG', '용량/NNG', '부담/NNG', '사용/NNG', '트레킹/NNG', '사용/NNG', '데/NNB', '냉장고/NNP', '사용/NNG', '진정/NNP', '효과/NNG', '듯/NNB', '하네/NNP', '요정/NNP', '말/NNG', '화장/NNP', '수/NNB', '용기/NNG', '펌프/NNP', '식/NNB', '손/NNP', '둘레/NNP', '조정/NNG', '배/NNG', '송이/NNP', '번/NNB', '구매/NNG', '세안/NNG', '화장/NNP', '솜/NNG', '피부/NNG', '느낌/NNG', '때/NNG', '아이템/NNP', '화장/NNP', '때/NNG', '세안/NNG', '후/NNG', '사용/NNG', '데자/NNP', '극도/NNG', '구매/NNG', '할거/NNG', '화장/NNP', '솜/NNG', '피부/NNG', '쿠/NNG', '링/NNG', '감/NNG', '수분/NNP', '감/NNG', '향도/NNP', '양도/NNP', '진짜/NNG', '냄새/NNG', '루지/NNP', '자극/NNG', '나름/NNB', '원/NNB', '이/NNP', '딸/NNG', '부담/NNG', '애/NNG', '토너/NNP', '예/NNG', '구매/NNG', '주변/NNG', '사용/NNG', '다/NNG', '최고/NNG', '가격/NNG', '품질/NNP', '마음/NNG', '사용/NNG', '거/NNB', '주관/NNG', '의견/NNG', '향/NNG', '편/NNB', '각질/NNG', '제거/NNG', '안/NNG', '요즘/NNG', '각질/NNG', '패드/NNP', '각질/NNG', '제거/NNG', '기능/NNG', '토너/NNP', '필/NNP', '링/NNG', '만큼/NNB', '피부/NNG', '좁쌀/NNG', '것/NNB', '달동/NNP', '안/NNP', '것/NNB', '괘/NNG', '흡수/NNG', '양도/NNP', '전/NNG', '사용/NNG', '구매/NNG', '사용/NNG', '대용량/NNG', '좋아서/NNP', '구매/NNG', '가격/NNG', '대용량/NNG', '보습/NNG', '것/NNB', '배/NNG', '송이/NNP', '오래/NNP', '걸리/NNP', '내/NNB', '가격/NNP', '변동/NNP', '향/NNG', '인공/NNG', '거/NNB', '수분/NNP', '크림/NNP', '좋아서/NNP', '토너/NNP', '사용/NNG', '구매/NNG', '가격/NNG', '만족/NNP', '향도/NNP', '대용량/NNG', '향도/NNP', '양도/NNP', '향도/NNP', '쑥/NNG', '향/NNG', '얼굴/NNG', '것/NNB', '거/NNB', '제가/NNP', '용량/NNP', '토너/NNP', '증/NNG', '가족/NNG', '다/NNG', '사용/NNG', '배/NNG', '송/NNP', '양도/NNP', '용량/NNP', '생각/NNG', '커서/NNP', '용량/NNP', '커서/NNP', '사용/NNG', '향/NNG', '쑥/NNG', '향/NNG', '인줄/NNG', '엄마/NNG', '스킨/NNP', '마니/NNP', '느낌/NNG', '청량/NNG', '피부/NNG', '가격/NNG', '쑥/NNG', '향기도/NNP', '좋아서/NNP', '번/NNB', '구매/NNG', '쑥/NNG', '향기/NNG', '세정/NNG', '토너/NNP', '사용/NNG', '순/NNG', '양/NNB', '용량/NNP', '바/NNB', '수/NNB', '향도/NNP', '양도/NNP', '물/NNG', '몸/NNG', '사서/NNP', '만족/NNG', '여드름/NNP', '피부/NNP', '딸아이/NNG', '구입/NNG', '고등학생/NNG', '딸/NNG', '이/NNP', '쓰기/NNP', '건조/NNG', '넘/NNG', '사용/NNG', '전/NNP', '향도/NNP', '양도/NNP', '막/NNG', '쓰기/NNP', '듯/NNB', '클렌징/NNG', '용도/NNG', '용량/NNP', '것/NNB', '일전/NNG', '사용/NNG', '좋아서/NNP', '구매/NNG', '분/NNB', '무기/NNP', '양/NNG', '온몸/NNG', '수분/NNG', '쑥/NNG', '향/NNG', '얼굴/NNG', '느낌/NNG', '가격/NNP', '대비/NNP', '양은/NNP', '향도/NNP', '하진/NNP', '구매/NNG', '피부/NNG', '사용/NNG', '감/NNG', '생각/NNG', '향도/NNP', '가격/NNG', '용량/NNP', '커서/NNP', '양도/NNG', '일단/NNG', '사용/NNG', '해/NNG', '보고/NNG', '추천/NNG', '제품/NNP', '입/NNG', '니다/NNP', '향도/NNG', '기초/NNG', '번/NNB', '단계/NNG', '향도/NNP', '피부/NNG', '부담/NNG', '용량/NNP', '트러블/NNP', '배/NNG', '송/NNP', '구입/NNG', '사용/NNG', '감/NNG', '나쁘지 않아/NNP', '진정/NNG', '넘/NNG', '조/NNP', '아/NNP', '번/NNB', '구매/NNG', '가격/NNG', '용량/NNP', '구매/NNG', '양이/NNP', '가격/NNG', '용량/NNP', '커서/NNP', '양/NNG', '주문/NNG', '제품/NNP', '용량/NNP', '좋아서/NNP', '구매/NNG', '용량/NNP', '쑥/NNG', '행/NNB', '양/NNB', '용량/NNP', '커서/NNP', '향도/NNG', '만족/NNG', '번/NNB', '구매/NNG', '가/NNG', '성비/NNP', '만족/NNG', '구매/NNG', '의향/NNG', '아/NNP', '번/NNB', '구매/NNG', '사용/NNG', '중/NNB', '임/NNP', '향도/NNP', '막/NNG', '쓰기/NNP', '괴물/NNG', '용량/NNP', '최고/NNP', '만족/NNG', '양이/NNP', '향도/NNG', '제품/NNP', '배/NNP', '송/NNP', '만족/NNP', '양도/NNP', '품질/NNP', '괜찮아/NNP', '요/NNP', '쑥/NNG', '향/NNG', '지인/NNP', '것/NNB', '구매/NNG', '양이/NNP', '용량/NNG', '스킨/NNP', '하네/NNP', '배/NNG', '송/NNP', '상품/NNP', '모두/NNG', '만족/NNG', '용량/NNP', '가격/NNG', '양이/NNP', '거/NNB', '만해/NNP', '성비/NNP', '갑/NNG', '가격/NNP', '대비/NNP', '성비/NNP', '갑/NNG', '가격/NNG', '제품/NNG', '사용/NNG', '만큼/NNB', '만족/NNG', '유통기한/NNP', '향/NNG', '포장/NNG', '안전/NNG', '배/NNG', '송/NNG', '상품/NNP', '구매/NNG', '중/NNB', '딸/NNG', '사용/NNG', '사용/NNG', '듯/NNB', '토너/NNP', '제일/NNG', '대/NNB', '용량/NNP', '마구마구/NNP', '부담/NNG', '쑥/NNG', '향/NNG', '닥지/NNG', '정/NNG', '배/NNP', '송/NNP', '복합/NNG', '지성/NNP', '피부/NNP', '토너/NNP', '듯/NNB', '사용/NNG', '구매/NNG', '사업/NNG', '번창/NNG', '대박/NNP', '나세/NNP', '애/NNG', '상품/NNP', '중/NNB', '상품/NNP', '대/NNB', '후반/NNP', '복합/NNG', '랑/NNP', '제품/NNG', '구입/NNG', '복합/NNG', '코/NNG', '이마/NNP', '지성/NNG', '용도/NNG', '스킨/NNP', '필요/NNG', '터/NNB', '에/NNG', '에/NNG', '제품/NNG', '가격/NNG', '셈/NNB', '구입/NNG', '닷/NNG', '향/NNG', '유통/NNP', '기간/NNP', '끈/NNG', '안/NNG', '만해/NNP', '요/NNP', '옥션/NNP', '안드로이드/NNP', '작성/NNG', '난/NNG', '하네/NNP', '요/NNP', '퍼스트/NNP', '스킨/NNP', '사용/NNG', '샤워/NNP', '후/NNG', '다리/NNG', '로션/NNP', '바르/NNP', '기도/NNP', '하/NNP', '고대/NNP', '용량/NNP', '부담/NNG', '수/NNB', '가격/NNP', '배/NNP', '송/NNP', '제품/NNP', '만족/NNP', '쑥/NNG', '냄새/NNG', '부담/NNG', '사용/NNG', '수/NNB', '구매/NNG', '의사/NNP', '용량/NNP', '제품/NNG', '좋아서/NNP', '구매/NNG', '스킨/NNG', '팩/NNG', '부담/NNG', '용량/NNP', '병/NNG', '길이/NNP', '몸/NNG', '건/NNB', '가요/NNP', '단골/NNG', '주문/NNG', '스킨/NNP', '부담/NNG', '가격/NNG', '용량/NNG', '순/NNG', '스킨/NNP', '팩/NNG', '구매/NNG', '구매/NNG', '토너/NNP', '거/NNB', '피지/NNP', '분/NNB', '사용/NNG', '듯/NNB', '신랑/NNG', '제품/NNP', '가격/NNG', '쓰기/NNP', '사용/NNG', '제품/NNP', '이예/NNP', '대용량/NNG', '순/NNG', '이번/NNG', '쑥/NNG', '향/NNG', '쑥/NNG', '향/NNG', '듯/NNB', '향/NNG', '첨/NNG', '사용/NNG', '쑥/NNG', '향냄새/NNG', '하네/NNP', '요약/NNG', '간/NNB', '거부감/NNG', '발라/NNP', '보니/NNP', '사용/NNG', '구입/NNG', '용량/NNP', '구입/NNG', '토너/NNP', '여유/NNG', '사용/NNG', '구매/NNG', '용량/NNP', '가격/NNG', '자극/NNG', '순/NNG', '최고/NNG', '전/NNG', '아침/NNG', '대용량/NNG', '요/NNG', '토너/NNP', '구멍/NNG', '커서/NNP', '아들/NNG', '통/NNB', '주문/NNG', '팩/NNG', '거즈/NNP', '이용/NNG', '자/NNB', '기전/NNP', '토너/NNP', '이용/NNG', '지성/NNP', '피부/NNP', '트러블/NNP', '사용/NNG', '중/NNB', '배/NNG', '송/NNP', '용량/NNP', '여드름/NNP', '딸/NNG', '대용량/NNG', '토너/NNP', '걱정/NNP', '수/NNB', '기대/NNG', '용량/NNP', '스킨/NNP', '편/NNB', '것/NNB', '건성/NNG', '피부/NNP', '전신/NNP', '살결/NNP', '구매/NNG', '후비/NNG', '보니/NNP', '성비/NNP', '듯/NNB', '가격/NNP', '대비/NNP', '만족/NNG', '용도/NNG', '쓰기/NNP', '향도/NNG', '쑥/NNG', '향/NNG', '상품/NNG', '성비/NNP', '감사/NNG', '사진/NNG', '후기/NNG', '것/NNB', '은/NNP', '처음/NNG', '감사/NNG', '마음/NNP', '후기/NNG', '제품/NNG', '마음/NNP', '향/NNG', '부담/NNG', '것/NNB', '중학생/NNG', '딸아/NNP', '이랑/NNP', '느낌/NNG', '가격/NNP', '용량/NNP', '향기도/NNP', '부담/NNG', '배/NNP', '송/NNP', '만족/NNG', '가/NNG', '성비/NNP', '추천/NNG', '향/NNG', '구매/NNG', '마스크/NNP', '팩/NNG', '번/NNB', '구매/NNG', '할인/NNG', '양/NNG', '거/NNB', '사용/NNG', '주식/NNG', '상장/NNG', '엉/NNG', '용량/NNP', '오랫동안/NNG', '수/NNB', '대/NNB', '딸아이/NNG', '위해/NNG', '주문/NNG', '더/NNG', '예뻐/NNP', '구매/NNG', '향도/NNP', '제품/NNP', '처음/NNG', '구매/NNG', '향도/NNG', '담/NNG', '구매/NNG', '것/NNB', '감사/NNG', '진정/NNP', '효과/NNG', '에/NNG', '듯/NNB', '성비/NNP', '굿/NNG', '배/NNG', '송/NNP', '유통기한/NNP', '양이/NNP', '구입/NNG', '용량/NNP', '배/NNG', '송도/NNP', '만족/NNG', '용량/NNP', '스킨/NNP', '부족/NNG', '양도/NNP', '향/NNG', '용량/NNP', '배/NNG', '송/NNP', '제품/NNG', '만족/NNG', '용량/NNP', '피부/NNG', '정돈/NNG', '것/NNB', '다음/NNG', '구매/NNG', '의사/NNP', '짐승/NNP', '용량/NNP', '가격/NNG', '최고/NNG', '가격/NNP', '거/NNB', '만족/NNG', '가격/NNP', '만족/NNG', '상품/NNG', '배/NNG', '송/NNP', '만족/NNG', '전/NNG', '거/NNB', '양이/NNP', '토너/NNP', '사용/NNG', '구매/NNG', '각질/NNG', '관리/NNG', '세/NNB', '번/NNB', '구매/NNG', '가격/NNP', '대비/NNP', '제품/NNP', '이예/NNP', '마음/NNG', '양이/NNP', '진정/NNP', '토너/NNP', '용량/NNP', '구매/NNG', '향/NNG', '양도/NNP', '향도/NNP', '양도/NNG', '향도/NNG', '마음/NNG', '번/NNB', '구매/NNG', '사용/NNG', '대용량/NNG', '몸/NNG', '사용/NNG', '필요/NNG', '토너/NNP', '행사/NNP', '가로/NNP', '주문/NNG', '가족/NNP', '만족/NNG', '용량/NNG', '사서/NNP', '만족/NNG', '상품/NNG', '만족/NNG', '사용/NNG', '색/NNG', '취향/NNG', '양/NNG', '말이/NNP', '구매/NNG', '화장/NNG', '솜/NNG', '개/NNB', '팩/NNG', '부담/NNG', '토너/NNP', '피부/NNG', '홍/NNP', '조끼/NNP', '때/NNG', '트러블/NNP', '날/NNG', '때/NNG', '것/NNB', '토너/NNP', '필요/NNG', '성비/NNP', '용량/NNP', '대용량/NNG', '향/NNG', '배/NNG', '송도/NNP', '용량/NNP', '맘/NNG', '향도/NNP', '맘/NNG', '플라스틱/NNP', '씨/NNP', '토너/NNP', '밀봉/NNG', '거/NNB', '제거/NNG', '불편/NNG', '딜로/NNP', '구매/NNG', '상품/NNG', '마음/NNG', '화장/NNP', '솜/NNG', '용량/NNP', '부담/NNG', '미스트/NNP', '통/NNG', '피부/NNG', '트러블/NNP', '대용량/NNG', '배/NNG', '송도/NNP', '냉장고/NNP', '성비/NNP', '구매/NNG', '사용/NNG', '처음/NNG', '구매/NNG', '건/NNB', '데/NNB', '상품/NNG', '개봉/NNP', '하니/NNP', '오염/NNP', '자국/NNG', '가요/NNP', '판매/NNG', '구입/NNG', '용량/NNP', '대/NNB', '용량/NNG', '한참/NNG', '사용/NNG', '것/NNB', '사용/NNG', '스킨/NNP', '용량/NNP', '세안/NNG', '후/NNG', '피부/NNG', '광택/NNP', '것/NNB', '이번/NNG', '번/NNB', '구매/NNG', '피부/NNG', '것/NNB', '용량/NNP', '효과/NNG', '쑥/NNG', '내음/NNG', '향/NNG', '과/NNG', '것/NNB', '향/NNG', '쑥/NNG', '성분/NNG', '진정/NNP', '효과/NNG', '것/NNB', '가격/NNP', '자연/NNG', '약/NNG', '쑥/NNG', '진정/NNP', '토너/NNP', '진짜/NNG', '사용/NNG', '것/NNB', '라/NNG', '생각/NNG', '배/NNP', '송도/NNP', '감/NNG', '사하/NNP', '고요/NNP', '적극/NNG', '추천/NNG', '쑥/NNG', '토너/NNP', '처음/NNG', '사용/NNG', '데자/NNP', '극/NNG', '흡수/NNP', '용량/NNP', '용량/NNP', '가격/NNG', '냄새/NNG', '나니/NNP', '청량감/NNG', '구매/NNG', '포장/NNG', '쓰기/NNP', '향도/NNP', '세/NNB', '구매/NNG', '생각/NNG', '만족/NNG', '제품/NNP', '번/NNB', '구매/NNG', '인지/NNP', '배/NNG', '송/NNP', '만족/NNG', '배/NNG', '송/NNP', '제품/NNG', '안전/NNG', '첨/NNG', '토너/NNP', '피부/NNG', '한편/NNG', '사용/NNG', '전/NNG', '양/NNG', '굿/NNG', '사업/NNP', '번창/NNG', '자연/NNG', '약/NNG', '쑥/NNG', '피부/NNG', '용량/NNP', '가격/NNG', '만족/NNG', '전/NNG', '것/NNB', '향/NNG', '마음/NNG', '휴전/NNP', '주문/NNG', '사용/NNG', '향도/NNG', '애용/NNG', '제품/NNG', '학/NNG', '토로/NNP', '구입/NNG', '요즘/NNG', '미세먼지/NNP', '구입/NNG', '사용/NNG', '가격/NNG', '사용/NNG', '전/NNG', '기대/NNG', '안/NNP', '후에/NNP', '화장/NNP', '솜/NNG', '사용/NNG', '중/NNB', '향도/NNP', '피부/NNP', '속/NNG', '느낌/NNG', '거/NNB', '사용/NNG', '대용량/NNG', '향/NNG', '해/NNG', '좀/NNG', '거부감/NNG', '향/NNG', '날/NNG', '아기/NNG', '하네/NNP', '용량/NNP', '이랑/NNP', '학/NNG', '것/NNB', '구매/NNG', '번/NNB', '주문/NNP', '선물/NNP', '예정/NNG', '크림/NNG', '학/NNG', '토/NNG', '스킨/NNP', '구매/NNG', '거/NNB', '구매/NNG', '만족/NNG', '배/NNG', '송도/NNP', '양이/NNP', '트러블/NNP', '진정/NNP', '효과/NNG', '향/NNG', '스킨/NNP', '바/NNB', '때/NNG', '화장/NNP', '수로/NNP', '용량/NNP', '가격/NNG', '얼굴/NNG', '흡수/NNP', '만족/NNG', '용량/NNP', '느낌/NNP', '사용/NNG', '전/NNG', '토너/NNP', '행사/NNG', '기간/NNG', '상품/NNP', '평/NNB', '호기심/NNG', '구매/NNG', '고맙습니다/NNP', '자연/NNG', '쑥/NNG', '진정/NNP', '토너/NNP', '화장/NNP', '솜/NNG', '토너/NNP', '사용/NNG', '구매/NNG', '처음/NNG', '구매/NNG', '구매/NNG', '제품/NNG', '입/NNG', '니다/NNP', '세수/NNG', '가격/NNG', '만족/NNG', '향도/NNP', '용량/NNP', '성비/NNP', '학/NNG', '토로/NNP', '자극/NNG', '양이/NNP', '부담/NNG', '냄새/NNG', '사용/NNG', '부담/NNG', '스킨/NNP', '을/NNG', '데/NNB', '양이/NNP', '배/NNG', '송/NNP', '성비/NNP', '갑/NNG', '대용량/NNG', '맘/NNG', '용량/NNP', '한참/NNG', '특유/NNG', '향/NNG', '만족/NNG', '향도/NNG', '양도/NNP', '향도/NNP', '좋아서/NNP', '양이/NNP', '사용/NNG', '배/NNP', '송/NNP', '가격/NNP', '용량/NNP', '만족/NNP', '애용/NNG', '제품/NNG', '구매/NNG', '것/NNB', '마구마구/NNP', '사춘기/NNP', '아들/NNP', '화장/NNP', '솜/NNG', '얼굴/NNG', '번/NNB', '구매/NNG', '요즘/NNG', '쑥/NNG', '도로변/NNG', '중금속/NNP', '쑥/NNG', '말/NNG', '봄/NNG', '온라인/NNG', '섬/NNG', '쑥/NNG', '구매/NNG', '제조/NNG', '만족/NNG', '맘/NNG', '애용/NNG', '제품/NNG', '상품/NNP', '가격/NNG', '상품/NNG', '사용/NNG', '전/NNG', '유효/NNG', '기일/NNG', '사용/NNG', '것/NNB', '만족/NNG', '만족/NNG', '가족/NNG', '아해/NNP', '요/NNP', '구매/NNG', '것/NNB', '라/NNG', '구매/NNG', '합/NNG', '당/NNP', '포장/NNP', '사용/NNG', '하/NNG', '넘/NNG', '토너/NNP', '냄새/NNG', '정착/NNG', '토너/NNP', '주문/NNP', '피부/NNP', '염증/NNP', '수분/NNP', '제품/NNG', '자연/NNG', '약/NNG', '쑥/NNG', '진정/NNP', '토너/NNP', '라 주/NNP', '문/NNG', '향도/NNG', '수분/NNP', '감/NNG', '사용/NNG', '지금/NNG', '향/NNG', '조금/NNG', '향/NNG', '쑥/NNG', '것/NNB', '라고/NNP', '생각/NNG', '이/NNG', '주문/NNG', '가격/NNG', '용량/NNP', '동생/NNG', '사용/NNG', '중/NNB', '좋아서/NNP', '구매/NNG', '뾰루지/NNG', '때/NNG', '진정/NNP', '효과/NNG', '것/NNB', '쿠폰/NNP', '사용/NNG', '물/NNG', '형/NNG', '생각/NNG', '트러블/NNP', '진정/NNP', '효과/NNG', '용량/NNP', '흡수력/NNG', '보습력/NNG', '배/NNG', '송/NNP', '감사/NNG', '해/NNG', '요/NNP', '토너/NNP', '아/NNG', '쓰기/NNP', '대/NNB', '용량/NNP', '부담/NNG', '하루/NNG', '결과/NNP', '대용량/NNG', '성비/NNP', '상품/NNP', '이/NNP', '요/NNP', '미스트/NNP', '학/NNG', '토너/NNP', '양이/NNP', '부담/NNG', '없어/NNP', '냉장고/NNP', '모공/NNP', '관리/NNP', '중/NNB', '구매/NNG', '평/NNB', '구매/NNG', '사용/NNG', '전/NNG', '제품/NNG', '구매/NNG', '사용/NNG', '기존/NNG', '것/NNB', '사용/NNG', '냄새/NNG', '눈/NNG', '데/NNB', '향기도/NNP', '구매/NNG', '생각/NNG', '가격/NNP', '제품/NNG', '제가/NNP', '피지/NNP', '제거/NNG', '시기/NNG', '피지/NNP', '피부/NNG', '거/NNB', '칠/NNG', '것/NNB', '부결/NNG', '정리/NNG', '가요/NNP', '피부/NNP', '결/NNB', '이랑/NNP', '피지/NNP', '정리/NNG', '꺼/NNB', '피부/NNP', '거/NNB', '주문/NNP', '한/NNP', '줄/NNB', '주문/NNG', '동안/NNP', '애/NNG', '향/NNG', '피부/NNG', '거/NNB', '볼/NNG', '가격/NNG', '스킨/NNP', '개/NNB', '것/NNB', '사용/NNG', '전/NNG', '반신반의/NNG', '완전/NNG', '요/NNG', '보/NNG', '거리/NNB', '느낌/NNG', '향도/NNP', '학/NNG', '토/NNG', '토너/NNP', '사용/NNG', '요/NNG', '번/NNB', '구매/NNG', '토너/NNP', '처음/NNG', '거/NNB', '번사/NNP', '보/NNB', '고담/NNP', '후기/NNG', '무릎/NNG', '팔꿈치/NNP', '용/NNG', '양이/NNP', '향/NNG', '생각/NNG', '가격/NNP', '대비/NNP', '만족/NNG', '듯/NNB', '흡수/NNG', '느낌/NNG', '사용/NNG', '전/NNG', '용량/NNG', '듯/NNB', '양이/NNP', '향/NNG', '쑥/NNG', '것/NNB', '제품/NNG', '가격/NNG', '구매/NNG', '감사/NNG', '배/NNG', '송이/NNP', '성비/NNP', '좋아서/NNP', '맘/NNG', '예전/NNG', '한번/NNG', '주문/NNG', '흡수력/NNG', '자극/NNG', '대용량/NNG', '것/NNB', '사용/NNG', '대용량/NNG', '아/NNP', '건조/NNG', '날씨/NNG', '거/NNB', '거/NNB', '용량/NNP', '커서/NNP', '쑥/NNG', '향/NNG', '처음/NNG', '요/NNG', '쑥/NNG', '향도/NNP', '아/NNP', '기존/NNG', '구매/NNG', '여드름/NNP', '이심/NNP', '한/NNP', '사춘기/NNP', '여아/NNG', '거/NNB', '예/NNG', '양도/NNG', '향도/NNP', '순/NNG', '스킨/NNP', '향/NNG', '예/NNG', '맛/NNG', '용량/NNP', '용량/NNP', '엄마/NNP', '사용/NNG', '제품/NNG', '냄새/NNG', '세번/NNP', '구매/NNG', '향도/NNP', '딸아/NNP', '이랑/NNP', '사용/NNG', '합/NNG', '감사/NNG', '구매/NNG', '청량/NNG', '느낌이 좋아/NNP', '양/NNG', '할인/NNG', '성비/NNP', '시/NNB', '쑥/NNG', '토너/NNP', '대/NNB', '용량/NNP', '도착/NNG', '용량/NNP', '쑥/NNG', '거/NNB', '번/NNB', '발라/NNP', '원형/NNG', '패드/NNP', '통/NNB', '미스/NNG', '공병/NNP', '미스트/NNP', '요/NNG', '향/NNG', '단점/NNG', '성비/NNP', '굿/NNG', '흡수력/NNG', '보습/NNG', '듯/NNB', '별점/NNG', '양이/NNP', '만족/NNG', '감사/NNG', '곳/NNG', '거/NNB', '병/NNG', '한쪽/NNG', '면/NNG', '토너/NNP', '토너/NNP', '바닥/NNP', '세안/NNG', '후/NNG', '토너/NNP', '사용/NNG', '한지/NNP', '한/NNP', '달/NNG', '정도/NNG', '거/NNB', '데/NNB', '성비/NNP', '갑/NNG', '부담/NNG', '살라/NNP', '고요/NNP', '추천/NNG', '피지/NNP', '여드름/NNP', '시작/NNG', '설명/NNG', '번사/NNP', '효과/NNG', '약도/NNG', '세일/NNP', '구매/NNG', '사용/NNG', '사용/NNG', '전/NNG', '평/NNB', '사용/NNG', '피부/NNG', '민강/NNP', '한/NNP', '편/NNB', '제품/NNP', '고민/NNG', '주문/NNG', '이건/NNP', '요즘/NNG', '건조/NNG', '제품/NNG', '구입/NNG', '집/NNG', '스프레이/NNP', '사용/NNG', '추천/NNG', '양도/NNP', '대/NNB', '폐/NNG', '그런지/NNP', '입술/NNP', '쪽/NNB', '좁쌀/NNG', '쑥/NNG', '진정/NNP', '효과/NNG', '구매/NNG', '쑥/NNG', '향/NNG', '마음/NNG', '딸/NNG', '사용/NNG', '꺼/NNB', '효과/NNG', '배/NNG', '송도/NNP', '가격/NNP', '이용량/NNG', '성비/NNP', '만족/NNG', '향/NNG', '진한/NNP', '편/NNB', '건/NNB', '느낌/NNG', '것/NNB', '성비/NNP', '쑥/NNG', '냄새/NNG', '레몬/NNP', '시트러스/NNP', '향/NNG', '애/NNG', '사용/NNG', '것/NNB', '애용/NNG', '향/NNG', '강/NNP', '하네/NNP', '요/NNP', '남/NNP', '친/NNP', '사우나/NNP', '냄새/NNG', '세안/NNG', '후/NNG', '거/NNB', '성비/NNP', '거/NNB', '여자/NNG', '쑥/NNG', '데이/NNP', '토너/NNP', '피부/NNG', '거/NNB', '생각/NNG', '쑥/NNG', '담/NNG', '처음/NNG', '사용/NNG', '쑥/NNG', '향/NNG', '화장/NNP', '솜/NNG', '제품/NNG', '사용/NNG', '금액/NNG', '용량/NNP', '스킨/NNP', '번/NNB', '구매/NNG', '딸/NNG', '이랑/NNP', '만족/NNG', '처음/NNG', '제품/NNG', '성분/NNG', '가성/NNP', '비도/NNP', '용량/NNP', '커서/NNP', '사용/NNG', '수/NNB', '생각/NNG', '향/NNG', '사용/NNG', '전인/NNP', '데/NNB', '수분/NNP', '크림/NNP', '좋아서/NNP', '구매/NNG', '얼굴/NNG', '에바/NNP', '때/NNG', '코/NNG', '입주/NNG', '변이/NNP', '후/NNG', '기/NNG', '찜/NNG', '이나/NNP', '가격/NNG', '양이/NNP', '부담/NNG', '사용/NNG', '수/NNB', '향/NNG', '조금/NNG', '각질/NNG', '때문/NNB', '사용/NNG', '제품/NNG', '이번/NNG', '구매/NNG', '토너/NNP', '느낌/NNG', '스킨/NNP', '느낌/NNP', '인/NNG', '듯/NNB', '크리니크/NNP', '구매/NNG', '나름/NNB', '만족/NNG', '가격/NNG', '구매/NNG', '토너/NNP', '스킨/NNP', '대용량/NNG', '것/NNB', '세안/NNG', '후/NNG', '부결/NNG', '정돈/NNG', '번/NNB', '구매/NNG', '사용/NNG', '구매/NNG', '대용량/NNG', '사용/NNG', '것/NNB', '세/NNB', '안/NNP', '후/NNG', '쑥/NNG', '향/NNG', '만족/NNG', '양도/NNP', '구매/NNG', '가격/NNG', '아/NNP', '향기도/NNP', '가격/NNG', '여드름/NNP', '딸/NNG', '화장/NNP', '클린/NNP', '징용/NNP', '사용/NNG', '것/NNB', '토너/NNP', '각질/NNG', '제거/NNG', '면/NNG', '가격/NNP', '사용/NNG', '사용/NNG', '안/NNG', '것/NNB', '대/NNB', '용량/NNP', '성비/NNP', '구매/NNG', '전/NNG', '구매/NNG', '제품/NNG', '이번/NNG', '구매/NNG', '한번/NNG', '가격/NNP', '것/NNB', '이랑/NNP', '산/NNG', '겁/NNG', '니다/NNP', '가격/NNP', '은/NNP', '맘/NNG', '용량/NNP', '고맙습니다/NNP', '마트/NNP', '가격/NNG', '구입/NNG', '가격/NNG', '강/NNP', '추/NNP', '성비/NNP', '최고/NNP', '입/NNG', '니다/NNP', '쑥/NNG', '향/NNG', '애용/NNG', '상품/NNG', '자극/NNG', '처음/NNG', '사용/NNG', '가격/NNP', '대비/NNP', '용량/NNP', '대용량/NNG', '가격/NNG', '양이/NNP', '사용/NNG', '거/NNB', '만족/NNG', '수/NNB', '향/NNG', '선물/NNG', '대용량/NNG', '쓰기/NNP', '이용/NNG', '번창/NNG', '향도/NNP', '쑥/NNG', '향/NNG', '해서/NNP', '이상해/NNP']\n"
     ]
    }
   ],
   "source": [
    "def komoran_tokenizer(sent):\n",
    "    try:\n",
    "        words = komoran.pos(sent, join=True)\n",
    "        #words = [w for w in words if ('/NN' in w or '/XR' in w or '/VA' in w or '/VV' in w)]\n",
    "        words = [w for w in words if ('/NN' in w )]\n",
    "    except:\n",
    "        return [0]\n",
    "    return words\n",
    "\n",
    "total_analysis = []\n",
    "\n",
    "for row in df2:\n",
    "    try:    \n",
    "        token_list = komoran_tokenizer(row)\n",
    "        total_analysis.extend(token_list)\n",
    "    except:\n",
    "        #pass\n",
    "        continue\n",
    "\n",
    "print(total_analysis)"
   ]
  },
  {
   "cell_type": "code",
   "execution_count": 48,
   "metadata": {
    "tags": []
   },
   "outputs": [
    {
     "output_type": "stream",
     "name": "stdout",
     "text": [
      "[('사용/NNG', 386), ('구매/NNG', 306), ('향/NNG', 298), ('것/NNB', 223), ('용량/NNP', 216), ('토너/NNP', 211), ('쑥/NNG', 156), ('가격/NNG', 152), ('거/NNB', 149), ('피부/NNG', 131), ('스킨/NNP', 120), ('만족/NNG', 112), ('향도/NNP', 102), ('제품/NNG', 100), ('대용량/NNG', 98), ('솜/NNG', 93), ('느낌/NNG', 89), ('배/NNG', 87), ('화장/NNP', 85), ('가격/NNP', 78), ('번/NNB', 76), ('성비/NNP', 76), ('트러블/NNP', 70), ('수/NNB', 65), ('때/NNG', 64), ('각질/NNG', 63), ('양이/NNP', 63), ('냄새/NNG', 62), ('구입/NNG', 60), ('송/NNP', 60), ('피부/NNP', 58), ('부담/NNG', 57), ('얼굴/NNG', 57), ('폼/NNG', 56), ('듯/NNB', 55), ('클렌징/NNG', 55), ('데/NNB', 55), ('팩/NNG', 55), ('처음/NNG', 54), ('생각/NNG', 52), ('요/NNP', 51), ('양도/NNP', 49), ('자극/NNG', 48), ('성분/NNG', 46), ('후/NNG', 46), ('쓰기/NNP', 45), ('진정/NNP', 44), ('전/NNG', 44), ('추천/NNG', 42), ('제품/NNP', 42), ('감사/NNG', 41), ('맘/NNG', 41), ('주문/NNG', 41), ('개/NNB', 40), ('효과/NNG', 39), ('대비/NNP', 39), ('중/NNB', 38), ('수분/NNP', 38), ('학/NNG', 38), ('안/NNG', 36), ('분/NNB', 35), ('세안/NNG', 35), ('건/NNB', 34), ('송도/NNP', 32), ('제거/NNG', 31), ('넘/NNG', 31), ('좋아서/NNP', 31), ('평/NNB', 31), ('편/NNB', 30), ('대/NNB', 30), ('감/NNG', 30), ('건조/NNG', 30), ('크림/NNP', 30), ('사은품/NNG', 30), ('기대/NNG', 29), ('요/NNG', 29), ('후기/NNG', 29), ('상품/NNG', 29), ('용량/NNG', 27), ('커서/NNP', 26), ('여름/NNG', 26), ('상품/NNP', 26), ('향도/NNG', 25), ('한/NNP', 24), ('자연/NNG', 23), ('이랑/NNP', 23), ('물/NNG', 23), ('바/NNB', 23), ('완전/NNG', 23), ('만족/NNP', 22), ('아/NNP', 22), ('예/NNG', 21), ('용도/NNG', 21), ('해/NNG', 21), ('마음/NNG', 21), ('굿/NNG', 20), ('원/NNB', 20), ('니다/NNP', 20), ('배/NNP', 20), ('향기/NNG', 19)]\n"
     ]
    }
   ],
   "source": [
    "# 명사만 추출한 것\n",
    "from collections import Counter\n",
    "\n",
    "count_result = Counter(total_analysis).most_common(100)\n",
    "print(count_result)"
   ]
  },
  {
   "cell_type": "code",
   "execution_count": null,
   "metadata": {},
   "outputs": [],
   "source": []
  },
  {
   "cell_type": "code",
   "execution_count": 49,
   "metadata": {
    "tags": []
   },
   "outputs": [
    {
     "output_type": "stream",
     "name": "stdout",
     "text": [
      "['쑥 들어간 제품들을 평소에 좋아해서 쑥 화장품으로 대부분 쓰려고 해요 아침 저녁으로 매일 매일 쓰기에 부담이 없고 좋습니다자연약쑥 진정 토너라 자극없이 쓰기에도 좋고 녹차 루이보스 캐모마일 쑥 페퍼민트 로즈마리 유칼리투스잎이 들어간 그린 허브 성분이라 피부 진정에도 도움이 되는거 같아요', '화장품 상자에 한번 더 뽁뽁이  포장으로  꼼꼼하게 담아져 있었고  화장품 용기는 플라스틱 용기인데  용량이 커서  한참 쓸 수 있어 좋네요 뚜껑을 열었을때  향기 좋네 하는 느낌이 없으니 향을 중요시  하는 분은  좋아하지  않을 듯 하네요바르고 조금 시간이 지나면  향이  없어지는 것  같아요용기에 적혀 있는 글씨가 너무 적어  안보였는데 세트 구입했더니 앰플인지 뭔지 모르겠는데  작은 샘플이 개가 있네요  싼 가격에  이 구성이면  좋네요', '대용량에 헐 감동입니다 개는 지인도 팍팍 쓰라고 선물했어요이건 화장솜에 듬뿍 하셔서 많이 하셔도 흡수는 잘됩니다 저는 얼굴에 흡수가 안되는 타입인데 제품이 흡수 잘되고요 약간의 알콜냄새는 살짝 스치는 정도 입니다 코로나에 다들 든데 이 가격에 정말 감사합니다 마구 쓰시고 싶은 분은 구입 하시고 쫀질한 느낌과 깊은 느낌분들은 살짝 고민하시고 클렌징으로 쓰고 싶다 하시는 분들은 차 쓰시고 고가의 스킨을 바르시는것도 좋을듯 합니다']\n"
     ]
    }
   ],
   "source": [
    "print(list(df2)[0:3])"
   ]
  },
  {
   "cell_type": "code",
   "execution_count": 54,
   "metadata": {},
   "outputs": [
    {
     "output_type": "stream",
     "name": "stdout",
     "text": [
      "[(192, 3.14962710789806, '쑥향 대용량 토너 찾던중에 진정 효과도있다고하여 시켜보았어요  세안후 화장솜으로 피부결정돈할때 사용하고 진정된다하여 화장솜에 적셔서 얼굴에 올려보았습니다생각보다 산뜻한느낌은아니고 살짝 미끌미끌한 촉감이에요 대용량이라 그냥 편하게쓰기좋은것같아요  재구매는 안할것같네요'), (554, 2.954101697713711, '조아용 처음 듣는 브랜드지만 배송도 빠르고 대용량 에 에 클렌징폼까지 딜이 너무 좋네요 사용 전이지만 항상 토너를 많이 써서 주문했어요 향은 진짜 제품명대로 쑥 향이 나요 막 쓰지도 않고 그냥 얼굴에 바르면 피부가 반드시 좋아질것 같은 향이 나요 향에 민감하시거나 거부감 드시는 분들도 쑥차 마시는 기분으로 가볍게 쓰시기 괜찮을것같아요 다 쓰게되면 재구매 할께요 좋은 구성 많이 많이 해주세요'), (176, 2.742398286651766, '약쑥이라 자연약쑥이 들어가서인지 향이 좋고 마음이 진정되는 느낌입니다 그리고 제 피부가 민감해서 약간 따갑다는 평을 보고 걱정을 했었는데 화한 느낌이 들긴 하지만 따갑거나 하지는 않습니다 눈에 살짝 들어갔는데도 별로 따갑다는 느낌을 못 받았습니다 그리고 용량이 무척 많고 가격도 싸고 거기에 폼클렌징까지 주니까 정말 잘 샀다는 생각이 듭니다 각질 제거까지는 모르겠고 산뜻한 느낌이고 모공도 약간 줄어든 느낌입니다 뚜껑 부분이 커서 많이 흘러나온다는 평이 있었는데 어차피 화장솜에 충분히 적셔서 사용해야 한다고 하면 별로 문제될 것이 없을 것 같습니다 보장도 잘 되어 왔고 배송도 바로 왔습니다 다음에 또 사고 싶습니다')]\n"
     ]
    }
   ],
   "source": [
    "# TextRank 중요문장 10개 추출\n",
    "from textranks.textrank import KeysentenceSummarizer\n",
    "from konlpy.tag import Komoran\n",
    "\n",
    "komoran = Komoran()\n",
    "\n",
    "summarizer = KeysentenceSummarizer(\n",
    "    tokenize = komoran_tokenizer,\n",
    "    min_sim = 0.3,\n",
    "    verbose = False\n",
    ")\n",
    "\n",
    "df2 = df2\n",
    "\n",
    "keysents = summarizer.summarize(list(df2)[:], topk=3)\n",
    "print(keysents)"
   ]
  },
  {
   "cell_type": "code",
   "execution_count": 38,
   "metadata": {},
   "outputs": [],
   "source": [
    "\n"
   ]
  },
  {
   "cell_type": "code",
   "execution_count": 41,
   "metadata": {},
   "outputs": [
    {
     "output_type": "execute_result",
     "data": {
      "text/plain": [
       "1360"
      ]
     },
     "metadata": {},
     "execution_count": 41
    }
   ],
   "source": []
  },
  {
   "cell_type": "code",
   "execution_count": 40,
   "metadata": {},
   "outputs": [
    {
     "output_type": "execute_result",
     "data": {
      "text/plain": [
       "1322"
      ]
     },
     "metadata": {},
     "execution_count": 40
    }
   ],
   "source": []
  }
 ],
 "metadata": {
  "kernelspec": {
   "name": "python3",
   "display_name": "Python 3.8.5 64-bit ('base': conda)"
  },
  "language_info": {
   "codemirror_mode": {
    "name": "ipython",
    "version": 3
   },
   "file_extension": ".py",
   "mimetype": "text/x-python",
   "name": "python",
   "nbconvert_exporter": "python",
   "pygments_lexer": "ipython3",
   "version": "3.8.5"
  },
  "metadata": {
   "interpreter": {
    "hash": "63fd5069d213b44bf678585dea6b12cceca9941eaf7f819626cde1f2670de90d"
   }
  },
  "interpreter": {
   "hash": "dca0ade3e726a953b501b15e8e990130d2b7799f14cfd9f4271676035ebe5511"
  }
 },
 "nbformat": 4,
 "nbformat_minor": 5
}