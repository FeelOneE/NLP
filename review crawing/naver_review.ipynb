{
 "cells": [
  {
   "cell_type": "code",
   "execution_count": 1,
   "id": "marine-criterion",
   "metadata": {},
   "outputs": [],
   "source": [
    "# first_session\n",
    "# 교보문고 순위 가져오기\n",
    "\n",
    "import urllib.parse as rep\n",
    "import urllib.request as req\n",
    "from bs4 import BeautifulSoup\n",
    "from fake_useragent import UserAgent\n",
    "import gzip\n",
    "import pandas as pd\n",
    "import json"
   ]
  },
  {
   "cell_type": "code",
   "execution_count": 5,
   "id": "sophisticated-judgment",
   "metadata": {},
   "outputs": [
    {
     "output_type": "stream",
     "name": "stdout",
     "text": [
      "더 없음\n"
     ]
    }
   ],
   "source": [
    "\n",
    "\n",
    "# Header 정보 초기화\n",
    "opener = req.build_opener()\n",
    "# User-Agent 정보\n",
    "opener.addheaders = [('User-agent', UserAgent())]\n",
    "# Header 정보 삽입\n",
    "req.install_opener(opener)\n",
    "\n",
    "# 쇼핑 댓글 요청 헤더\n",
    "# https://search.shopping.naver.com/catalog/24178126692?cat_id=50000814&nv_mid=24178126692&NaPm=ct%3Dkmochwcg%7Cci%3D5fbcf90319f44a9577a7ba53d9afec4cf0af44e8%7Ctr%3Dsl%7Csn%3D95694%7Chk%3D180c476dc3ec1764ae9d356ee403773d5f2382ca\n",
    "# https://search.shopping.naver.com/catalog/14742158672?NaPm=ct%3Dkmyyltb4%7Cci%3D8fb2739c338be12299472ccff160ded9bc19122f%7Ctr%3Dslsl%7Csn%3D95694%7Chk%3D0186b9292ab060733115318dcfd65d3aefb527b7\n",
    "\n",
    "    \n",
    "# Request\n",
    "flag = True\n",
    "pageNum = 1\n",
    "result = []\n",
    "while flag:\n",
    "    try:\n",
    "        \n",
    "        # 쇼핑 댓글 요청 헤더\n",
    "        hdr = {'authority': 'search.shopping.naver.com', \\\n",
    "        'method': 'GET',\\\n",
    "        'path': '/review?nvMid=14742158672&reviewType=ALL&sort=QUALITY&isNeedAggregation=N&isApplyFilter=N&page='+str(pageNum)+'&pageSize=20',\\\n",
    "        'scheme': 'https',\\\n",
    "        'accept': 'application/json, text/plain, */*',\\\n",
    "        'accept-encoding': 'gzip, deflate, br',\\\n",
    "        'accept-language': 'ko-KR,ko;q=0.9,en-US;q=0.8,en;q=0.7',\\\n",
    "        'cache-control': 'no-cache',\\\n",
    "        'pragma': 'no-cache',\\\n",
    "        'referer': 'https://search.shopping.naver.com/catalog/14742158672?NaPm=ct%3Dkmyyltb4%7Cci%3D8fb2739c338be12299472ccff160ded9bc19122f%7Ctr%3Dslsl%7Csn%3D95694%7Chk%3D0186b9292ab060733115318dcfd65d3aefb527b7',\\\n",
    "        'sec-ch-ua': '\"Google Chrome\";v=\"89\", \"Chromium\";v=\"89\", \";Not A Brand\";v=\"99\"',\\\n",
    "        'sec-ch-ua-mobile': '?0',\\\n",
    "        'sec-fetch-dest': 'empty',\\\n",
    "        'sec-fetch-mode': 'cors',\\\n",
    "        'sec-fetch-site': 'same-origin',\\\n",
    "        'urlprefix': '/api',\\\n",
    "        'user-agent': 'M'}\n",
    "\n",
    "        url = 'https://search.shopping.naver.com/review?nvMid=14742158672&reviewType=ALL&sort=QUALITY&isNeedAggregation=N&isApplyFilter=N&page='+str(pageNum)+'&pageSize=20'        \n",
    "        \n",
    "        reqeust = req.Request(url,headers=hdr)\n",
    "        res = gzip.decompress(req.urlopen(reqeust).read()).decode('utf-8')\n",
    "        #print(res)\n",
    "        data = json.loads(res)\n",
    "        result.extend(data['reviews'])\n",
    "        pageNum = pageNum + 1\n",
    "    except:\n",
    "        print('더 없음')\n",
    "        flag = False\n",
    "\n",
    "\n",
    "#res = req.urlopen(reqeust).read().decode('utf-8')\n",
    "\n"
   ]
  },
  {
   "cell_type": "code",
   "execution_count": 6,
   "id": "individual-checklist",
   "metadata": {},
   "outputs": [
    {
     "output_type": "execute_result",
     "data": {
      "text/plain": [
       "900"
      ]
     },
     "metadata": {},
     "execution_count": 6
    }
   ],
   "source": [
    "len(result)"
   ]
  },
  {
   "cell_type": "code",
   "execution_count": 7,
   "id": "three-citation",
   "metadata": {},
   "outputs": [
    {
     "output_type": "execute_result",
     "data": {
      "text/plain": [
       "{'mallId': 'evas',\n",
       " 'mallProductId': '450072517',\n",
       " 'updateType': 'UPSERT',\n",
       " 'mallReviewId': '884636874',\n",
       " 'mallSeq': '196900',\n",
       " 'nvMid': '10110341669',\n",
       " 'matchNvMid': '14742158672',\n",
       " 'userId': 'cyno****',\n",
       " 'title': '스킨은 프레쥬만 써요작년에 접촉성 피부염으로 고생했을 때 연고고 레이저고 아무 소용없었는데 프레쥬 스킨 쓰고 나았거든요 ㅋㅋ 그후로 계속 떨어뜨리지 않고 쟁여두게 돼요가격도 1+1',\n",
       " 'content': '스킨은 프레쥬만 써요<br><em>작년에 접촉성 피부염으로 고생했을 때 연고고 레이저고 아무 소용없었는데 </em>프레쥬 스킨 쓰고 나았거든요 ㅋㅋ 그후로 계속 떨어뜨리지 않고 쟁여두게 돼요<br><em>가격도 1+1에 너무 저렴해서 </em><em>품질 괜찮은가 했는데 </em>수분부족형지성인 저한테 워낙 잘 맞아서 제발 단종 안됐으면 좋겠습니다ㅎㅎ<br>세안하고 닦토 한번 하고 푹 적셔서 이마 턱쪽 코에 세개 화장솜 적셔서 잠시 올려둬요 여름인데도 <em>T존 트러블 걱정 없고 좋습니다</em>!',\n",
       " 'registerDate': '2020-06-27',\n",
       " 'modifyDate': '2020-06-27',\n",
       " 'pageUrl': 'https://smartstore.naver.com/main/products/450072517',\n",
       " 'createTime': 1610092068807,\n",
       " 'qualityScore': 0.740191,\n",
       " 'starScore': 5,\n",
       " 'imageYn': 'Y',\n",
       " 'imageCount': 3,\n",
       " 'images': ['https://phinf.pstatic.net/checkout/20200627_292/1593250942273b6Nmf_JPEG/20200627_182328.jpg',\n",
       "  'https://phinf.pstatic.net/checkout/20200627_254/1593250949243eDWoz_JPEG/20200627_182527.jpg',\n",
       "  'https://phinf.pstatic.net/checkout/20200627_268/15932509489483WWSX_JPEG/20200627_182512.jpg'],\n",
       " 'videoYn': 'N',\n",
       " 'videoCount': 0,\n",
       " 'topicYn': 'Y',\n",
       " 'topicCount': 4,\n",
       " 'topics': [{'topicCode': 'trouble',\n",
       "   'topicName': '트러블',\n",
       "   'topicNameRaw': '트러블',\n",
       "   'startPosition': 33,\n",
       "   'endPosition': 134,\n",
       "   'reputationScore': 650,\n",
       "   'positiveYn': 'Y'},\n",
       "  {'topicCode': 'price',\n",
       "   'topicName': '가격',\n",
       "   'topicNameRaw': '가격',\n",
       "   'startPosition': 245,\n",
       "   'endPosition': 281,\n",
       "   'reputationScore': 322,\n",
       "   'positiveYn': 'Y'},\n",
       "  {'topicCode': 'quality',\n",
       "   'topicName': '품질',\n",
       "   'topicNameRaw': '품질',\n",
       "   'startPosition': 282,\n",
       "   'endPosition': 311,\n",
       "   'reputationScore': 300,\n",
       "   'positiveYn': 'Y'},\n",
       "  {'topicCode': 'trouble',\n",
       "   'topicName': '트러블',\n",
       "   'topicNameRaw': '트러블',\n",
       "   'startPosition': 552,\n",
       "   'endPosition': 592,\n",
       "   'reputationScore': 414,\n",
       "   'positiveYn': 'Y'}],\n",
       " 'uniqueKey': '884636874-evas-450072517',\n",
       " 'mallName': '에바스코스메틱',\n",
       " 'mallLogo': 'https://shopping-phinf.pstatic.net/20210216_27/984ed8f5-f0e6-4179-80fa-665e4755942d.jpg'}"
      ]
     },
     "metadata": {},
     "execution_count": 7
    }
   ],
   "source": [
    "result[6]"
   ]
  },
  {
   "cell_type": "code",
   "execution_count": 9,
   "id": "distributed-effect",
   "metadata": {},
   "outputs": [
    {
     "output_type": "execute_result",
     "data": {
      "text/plain": [
       "      mallId mallProductId updateType mallReviewId mallSeq        nvMid  \\\n",
       "0       evas     450072517     UPSERT    884568151  196900  10110341669   \n",
       "1    lgeshop      21606783     UPSERT    159716221       1  22167213896   \n",
       "2    lgeshop      21606783     UPSERT    161640758       1  22167213896   \n",
       "3    lgeshop      21606783     UPSERT    161686778       1  22167213896   \n",
       "4       evas     450072517     UPSERT    884651289  196900  10110341669   \n",
       "..       ...           ...        ...          ...     ...          ...   \n",
       "895  lgeshop      21606783     UPSERT    159748350       1  22167213896   \n",
       "896  auction    B696708275     UPSERT   1874377140     114  19827525082   \n",
       "897  auction    B696708275     UPSERT   1872599936     114  19827525082   \n",
       "898  auction    B696708275     UPSERT   1872656715     114  19827525082   \n",
       "899  lgeshop      21606783     UPSERT    158883697       1  22167213896   \n",
       "\n",
       "      matchNvMid    userId                                              title  \\\n",
       "0    14742158672  khsk****  쑥 들어간 제품들을 평소에 좋아해서 쑥 화장품으로 대부분 쓰려고 해요 아침 저녁으로...   \n",
       "1    14742158672  zz******  화장품 상자에 한번 더 뽁뽁이  포장으로  꼼꼼하게 담아져 있었고  화장품 용기는 ...   \n",
       "2    14742158672  lo******  대용량에 헐 감동입니다 1개는 지인도 팍팍 쓰라고 선물했어요이건 화장솜에 듬뿍 하셔...   \n",
       "3    14742158672  jh******  아직 사용전인데 오자마자 간병이모님이 머냐고 물어 보셔서 약쑥스킨이라고  하니 한번...   \n",
       "4    14742158672  siny****  프레쥬 진정토너 여름에 시원하게 토너팩 하기 좋아요 향은 쑥 냄새보다는 시트러스계열...   \n",
       "..           ...       ...                                                ...   \n",
       "895  14742158672  yjs*****                                         좋은것 같애요...   \n",
       "896  14742158672  j*m*****                                           대용량 잘쓸께요   \n",
       "897  14742158672  c*n*****                  넉넉한 용량에 향도 좋아요. 꾸준히 사용하면 피부에좋아...   \n",
       "898  14742158672  s*o*****                                            저렴했어 구입   \n",
       "899  14742158672  lil*****    가격대비 가성비 갑입니다^^궂이 비싼 가격의 제품  사용하지 않아도 될만큼 만족합니다   \n",
       "\n",
       "                                               content  ...  \\\n",
       "0    쑥 들어간 <em>제품들을 평소에 좋아해서 </em>쑥 화장품으로 대부분 쓰려고 해...  ...   \n",
       "1    화장품 상자에 한번 더 뽁뽁이  포장으로  꼼꼼하게 담아져 있었고  <em>화장품 ...  ...   \n",
       "2    <em>대용량에 헐 감동입니다</em> <br>1개는 지인도 팍팍 쓰라고 선물했어요...  ...   \n",
       "3    아직 사용전인데 오자마자 간병이모님이 머냐고 물어 보셔서 약쑥스킨이라고  하니 한번...  ...   \n",
       "4    프레쥬 진정토너 여름에 시원하게 토너팩 하기 좋아요 향은 쑥 냄새보다는 시트러스계열...  ...   \n",
       "..                                                 ...  ...   \n",
       "895                                         좋은것 같애요...  ...   \n",
       "896                                  <em>대용량 잘쓸께요</em>  ...   \n",
       "897  <em>넉넉한 용량에 향도 좋아요</em>.<br><em>꾸준히 사용하면 피부에좋아...  ...   \n",
       "898                                   <em>저렴했어 </em>구입  ...   \n",
       "899  <em>가격대비 가성비 갑입니다</em>^^<br>궂이 비싼 가격의 제품  사용하지...  ...   \n",
       "\n",
       "                                                images videoYn videoCount  \\\n",
       "0    [https://phinf.pstatic.net/checkout/20200627_2...       N          0   \n",
       "1    [https://shopping-phinf.pstatic.net/20210406_9...       N          0   \n",
       "2    [https://shopping-phinf.pstatic.net/20210530_1...       N          0   \n",
       "3    [https://shopping-phinf.pstatic.net/20210531_8...       N          0   \n",
       "4    [https://phinf.pstatic.net/checkout/20200627_1...       N          0   \n",
       "..                                                 ...     ...        ...   \n",
       "895                                                NaN       N          0   \n",
       "896                                                NaN       N          0   \n",
       "897                                                NaN       N          0   \n",
       "898                                                NaN       N          0   \n",
       "899                                                NaN       N          0   \n",
       "\n",
       "     topicYn  topicCount                                             topics  \\\n",
       "0          Y           1  [{'topicCode': 'total', 'topicName': '만족도', 't...   \n",
       "1          Y           4  [{'topicCode': 'package', 'topicName': '용기', '...   \n",
       "2          Y           1  [{'topicCode': 'total', 'topicName': '만족도', 't...   \n",
       "3          Y           1  [{'topicCode': 'effect', 'topicName': '효과', 't...   \n",
       "4          Y           3  [{'topicCode': 'smell', 'topicName': '향기', 'to...   \n",
       "..       ...         ...                                                ...   \n",
       "895        N           0                                                NaN   \n",
       "896        Y           1  [{'topicCode': 'total', 'topicName': '만족도', 't...   \n",
       "897        Y           2  [{'topicCode': 'smell', 'topicName': '향기', 'to...   \n",
       "898        Y           1  [{'topicCode': 'price', 'topicName': '가격', 'to...   \n",
       "899        Y           2  [{'topicCode': 'price', 'topicName': '가격', 'to...   \n",
       "\n",
       "                         uniqueKey  mallName  \\\n",
       "0         884568151-evas-450072517   에바스코스메틱   \n",
       "1       159716221-lgeshop-21606783    GSSHOP   \n",
       "2       161640758-lgeshop-21606783    GSSHOP   \n",
       "3       161686778-lgeshop-21606783    GSSHOP   \n",
       "4         884651289-evas-450072517   에바스코스메틱   \n",
       "..                             ...       ...   \n",
       "895     159748350-lgeshop-21606783    GSSHOP   \n",
       "896  1874377140-auction-B696708275        옥션   \n",
       "897  1872599936-auction-B696708275        옥션   \n",
       "898  1872656715-auction-B696708275        옥션   \n",
       "899     158883697-lgeshop-21606783    GSSHOP   \n",
       "\n",
       "                                              mallLogo buyOption  \n",
       "0    https://shopping-phinf.pstatic.net/20210216_27...       NaN  \n",
       "1    https://shopping-phinf.pstatic.net/20210512/67...       NaN  \n",
       "2    https://shopping-phinf.pstatic.net/20210512/67...       NaN  \n",
       "3    https://shopping-phinf.pstatic.net/20210512/67...       NaN  \n",
       "4    https://shopping-phinf.pstatic.net/20210216_27...       NaN  \n",
       "..                                                 ...       ...  \n",
       "895  https://shopping-phinf.pstatic.net/20210512/67...       NaN  \n",
       "896  https://shopping-phinf.pstatic.net/20210217/60...       NaN  \n",
       "897  https://shopping-phinf.pstatic.net/20210217/60...       NaN  \n",
       "898  https://shopping-phinf.pstatic.net/20210217/60...       NaN  \n",
       "899  https://shopping-phinf.pstatic.net/20210512/67...       NaN  \n",
       "\n",
       "[900 rows x 28 columns]"
      ],
      "text/html": "<div>\n<style scoped>\n    .dataframe tbody tr th:only-of-type {\n        vertical-align: middle;\n    }\n\n    .dataframe tbody tr th {\n        vertical-align: top;\n    }\n\n    .dataframe thead th {\n        text-align: right;\n    }\n</style>\n<table border=\"1\" class=\"dataframe\">\n  <thead>\n    <tr style=\"text-align: right;\">\n      <th></th>\n      <th>mallId</th>\n      <th>mallProductId</th>\n      <th>updateType</th>\n      <th>mallReviewId</th>\n      <th>mallSeq</th>\n      <th>nvMid</th>\n      <th>matchNvMid</th>\n      <th>userId</th>\n      <th>title</th>\n      <th>content</th>\n      <th>...</th>\n      <th>images</th>\n      <th>videoYn</th>\n      <th>videoCount</th>\n      <th>topicYn</th>\n      <th>topicCount</th>\n      <th>topics</th>\n      <th>uniqueKey</th>\n      <th>mallName</th>\n      <th>mallLogo</th>\n      <th>buyOption</th>\n    </tr>\n  </thead>\n  <tbody>\n    <tr>\n      <td>0</td>\n      <td>evas</td>\n      <td>450072517</td>\n      <td>UPSERT</td>\n      <td>884568151</td>\n      <td>196900</td>\n      <td>10110341669</td>\n      <td>14742158672</td>\n      <td>khsk****</td>\n      <td>쑥 들어간 제품들을 평소에 좋아해서 쑥 화장품으로 대부분 쓰려고 해요 아침 저녁으로...</td>\n      <td>쑥 들어간 &lt;em&gt;제품들을 평소에 좋아해서 &lt;/em&gt;쑥 화장품으로 대부분 쓰려고 해...</td>\n      <td>...</td>\n      <td>[https://phinf.pstatic.net/checkout/20200627_2...</td>\n      <td>N</td>\n      <td>0</td>\n      <td>Y</td>\n      <td>1</td>\n      <td>[{'topicCode': 'total', 'topicName': '만족도', 't...</td>\n      <td>884568151-evas-450072517</td>\n      <td>에바스코스메틱</td>\n      <td>https://shopping-phinf.pstatic.net/20210216_27...</td>\n      <td>NaN</td>\n    </tr>\n    <tr>\n      <td>1</td>\n      <td>lgeshop</td>\n      <td>21606783</td>\n      <td>UPSERT</td>\n      <td>159716221</td>\n      <td>1</td>\n      <td>22167213896</td>\n      <td>14742158672</td>\n      <td>zz******</td>\n      <td>화장품 상자에 한번 더 뽁뽁이  포장으로  꼼꼼하게 담아져 있었고  화장품 용기는 ...</td>\n      <td>화장품 상자에 한번 더 뽁뽁이  포장으로  꼼꼼하게 담아져 있었고  &lt;em&gt;화장품 ...</td>\n      <td>...</td>\n      <td>[https://shopping-phinf.pstatic.net/20210406_9...</td>\n      <td>N</td>\n      <td>0</td>\n      <td>Y</td>\n      <td>4</td>\n      <td>[{'topicCode': 'package', 'topicName': '용기', '...</td>\n      <td>159716221-lgeshop-21606783</td>\n      <td>GSSHOP</td>\n      <td>https://shopping-phinf.pstatic.net/20210512/67...</td>\n      <td>NaN</td>\n    </tr>\n    <tr>\n      <td>2</td>\n      <td>lgeshop</td>\n      <td>21606783</td>\n      <td>UPSERT</td>\n      <td>161640758</td>\n      <td>1</td>\n      <td>22167213896</td>\n      <td>14742158672</td>\n      <td>lo******</td>\n      <td>대용량에 헐 감동입니다 1개는 지인도 팍팍 쓰라고 선물했어요이건 화장솜에 듬뿍 하셔...</td>\n      <td>&lt;em&gt;대용량에 헐 감동입니다&lt;/em&gt; &lt;br&gt;1개는 지인도 팍팍 쓰라고 선물했어요...</td>\n      <td>...</td>\n      <td>[https://shopping-phinf.pstatic.net/20210530_1...</td>\n      <td>N</td>\n      <td>0</td>\n      <td>Y</td>\n      <td>1</td>\n      <td>[{'topicCode': 'total', 'topicName': '만족도', 't...</td>\n      <td>161640758-lgeshop-21606783</td>\n      <td>GSSHOP</td>\n      <td>https://shopping-phinf.pstatic.net/20210512/67...</td>\n      <td>NaN</td>\n    </tr>\n    <tr>\n      <td>3</td>\n      <td>lgeshop</td>\n      <td>21606783</td>\n      <td>UPSERT</td>\n      <td>161686778</td>\n      <td>1</td>\n      <td>22167213896</td>\n      <td>14742158672</td>\n      <td>jh******</td>\n      <td>아직 사용전인데 오자마자 간병이모님이 머냐고 물어 보셔서 약쑥스킨이라고  하니 한번...</td>\n      <td>아직 사용전인데 오자마자 간병이모님이 머냐고 물어 보셔서 약쑥스킨이라고  하니 한번...</td>\n      <td>...</td>\n      <td>[https://shopping-phinf.pstatic.net/20210531_8...</td>\n      <td>N</td>\n      <td>0</td>\n      <td>Y</td>\n      <td>1</td>\n      <td>[{'topicCode': 'effect', 'topicName': '효과', 't...</td>\n      <td>161686778-lgeshop-21606783</td>\n      <td>GSSHOP</td>\n      <td>https://shopping-phinf.pstatic.net/20210512/67...</td>\n      <td>NaN</td>\n    </tr>\n    <tr>\n      <td>4</td>\n      <td>evas</td>\n      <td>450072517</td>\n      <td>UPSERT</td>\n      <td>884651289</td>\n      <td>196900</td>\n      <td>10110341669</td>\n      <td>14742158672</td>\n      <td>siny****</td>\n      <td>프레쥬 진정토너 여름에 시원하게 토너팩 하기 좋아요 향은 쑥 냄새보다는 시트러스계열...</td>\n      <td>프레쥬 진정토너 여름에 시원하게 토너팩 하기 좋아요 향은 쑥 냄새보다는 시트러스계열...</td>\n      <td>...</td>\n      <td>[https://phinf.pstatic.net/checkout/20200627_1...</td>\n      <td>N</td>\n      <td>0</td>\n      <td>Y</td>\n      <td>3</td>\n      <td>[{'topicCode': 'smell', 'topicName': '향기', 'to...</td>\n      <td>884651289-evas-450072517</td>\n      <td>에바스코스메틱</td>\n      <td>https://shopping-phinf.pstatic.net/20210216_27...</td>\n      <td>NaN</td>\n    </tr>\n    <tr>\n      <td>...</td>\n      <td>...</td>\n      <td>...</td>\n      <td>...</td>\n      <td>...</td>\n      <td>...</td>\n      <td>...</td>\n      <td>...</td>\n      <td>...</td>\n      <td>...</td>\n      <td>...</td>\n      <td>...</td>\n      <td>...</td>\n      <td>...</td>\n      <td>...</td>\n      <td>...</td>\n      <td>...</td>\n      <td>...</td>\n      <td>...</td>\n      <td>...</td>\n      <td>...</td>\n      <td>...</td>\n    </tr>\n    <tr>\n      <td>895</td>\n      <td>lgeshop</td>\n      <td>21606783</td>\n      <td>UPSERT</td>\n      <td>159748350</td>\n      <td>1</td>\n      <td>22167213896</td>\n      <td>14742158672</td>\n      <td>yjs*****</td>\n      <td>좋은것 같애요...</td>\n      <td>좋은것 같애요...</td>\n      <td>...</td>\n      <td>NaN</td>\n      <td>N</td>\n      <td>0</td>\n      <td>N</td>\n      <td>0</td>\n      <td>NaN</td>\n      <td>159748350-lgeshop-21606783</td>\n      <td>GSSHOP</td>\n      <td>https://shopping-phinf.pstatic.net/20210512/67...</td>\n      <td>NaN</td>\n    </tr>\n    <tr>\n      <td>896</td>\n      <td>auction</td>\n      <td>B696708275</td>\n      <td>UPSERT</td>\n      <td>1874377140</td>\n      <td>114</td>\n      <td>19827525082</td>\n      <td>14742158672</td>\n      <td>j*m*****</td>\n      <td>대용량 잘쓸께요</td>\n      <td>&lt;em&gt;대용량 잘쓸께요&lt;/em&gt;</td>\n      <td>...</td>\n      <td>NaN</td>\n      <td>N</td>\n      <td>0</td>\n      <td>Y</td>\n      <td>1</td>\n      <td>[{'topicCode': 'total', 'topicName': '만족도', 't...</td>\n      <td>1874377140-auction-B696708275</td>\n      <td>옥션</td>\n      <td>https://shopping-phinf.pstatic.net/20210217/60...</td>\n      <td>NaN</td>\n    </tr>\n    <tr>\n      <td>897</td>\n      <td>auction</td>\n      <td>B696708275</td>\n      <td>UPSERT</td>\n      <td>1872599936</td>\n      <td>114</td>\n      <td>19827525082</td>\n      <td>14742158672</td>\n      <td>c*n*****</td>\n      <td>넉넉한 용량에 향도 좋아요. 꾸준히 사용하면 피부에좋아...</td>\n      <td>&lt;em&gt;넉넉한 용량에 향도 좋아요&lt;/em&gt;.&lt;br&gt;&lt;em&gt;꾸준히 사용하면 피부에좋아...</td>\n      <td>...</td>\n      <td>NaN</td>\n      <td>N</td>\n      <td>0</td>\n      <td>Y</td>\n      <td>2</td>\n      <td>[{'topicCode': 'smell', 'topicName': '향기', 'to...</td>\n      <td>1872599936-auction-B696708275</td>\n      <td>옥션</td>\n      <td>https://shopping-phinf.pstatic.net/20210217/60...</td>\n      <td>NaN</td>\n    </tr>\n    <tr>\n      <td>898</td>\n      <td>auction</td>\n      <td>B696708275</td>\n      <td>UPSERT</td>\n      <td>1872656715</td>\n      <td>114</td>\n      <td>19827525082</td>\n      <td>14742158672</td>\n      <td>s*o*****</td>\n      <td>저렴했어 구입</td>\n      <td>&lt;em&gt;저렴했어 &lt;/em&gt;구입</td>\n      <td>...</td>\n      <td>NaN</td>\n      <td>N</td>\n      <td>0</td>\n      <td>Y</td>\n      <td>1</td>\n      <td>[{'topicCode': 'price', 'topicName': '가격', 'to...</td>\n      <td>1872656715-auction-B696708275</td>\n      <td>옥션</td>\n      <td>https://shopping-phinf.pstatic.net/20210217/60...</td>\n      <td>NaN</td>\n    </tr>\n    <tr>\n      <td>899</td>\n      <td>lgeshop</td>\n      <td>21606783</td>\n      <td>UPSERT</td>\n      <td>158883697</td>\n      <td>1</td>\n      <td>22167213896</td>\n      <td>14742158672</td>\n      <td>lil*****</td>\n      <td>가격대비 가성비 갑입니다^^궂이 비싼 가격의 제품  사용하지 않아도 될만큼 만족합니다</td>\n      <td>&lt;em&gt;가격대비 가성비 갑입니다&lt;/em&gt;^^&lt;br&gt;궂이 비싼 가격의 제품  사용하지...</td>\n      <td>...</td>\n      <td>NaN</td>\n      <td>N</td>\n      <td>0</td>\n      <td>Y</td>\n      <td>2</td>\n      <td>[{'topicCode': 'price', 'topicName': '가격', 'to...</td>\n      <td>158883697-lgeshop-21606783</td>\n      <td>GSSHOP</td>\n      <td>https://shopping-phinf.pstatic.net/20210512/67...</td>\n      <td>NaN</td>\n    </tr>\n  </tbody>\n</table>\n<p>900 rows × 28 columns</p>\n</div>"
     },
     "metadata": {},
     "execution_count": 9
    }
   ],
   "source": [
    "df = pd.DataFrame(result)\n",
    "df"
   ]
  },
  {
   "cell_type": "code",
   "execution_count": 10,
   "id": "earlier-mistress",
   "metadata": {},
   "outputs": [
    {
     "output_type": "execute_result",
     "data": {
      "text/plain": [
       "      mallId mallProductId updateType mallReviewId mallSeq        nvMid  \\\n",
       "895  lgeshop      21606783     UPSERT    159748350       1  22167213896   \n",
       "896  auction    B696708275     UPSERT   1874377140     114  19827525082   \n",
       "897  auction    B696708275     UPSERT   1872599936     114  19827525082   \n",
       "898  auction    B696708275     UPSERT   1872656715     114  19827525082   \n",
       "899  lgeshop      21606783     UPSERT    158883697       1  22167213896   \n",
       "\n",
       "      matchNvMid    userId                                            title  \\\n",
       "895  14742158672  yjs*****                                       좋은것 같애요...   \n",
       "896  14742158672  j*m*****                                         대용량 잘쓸께요   \n",
       "897  14742158672  c*n*****                넉넉한 용량에 향도 좋아요. 꾸준히 사용하면 피부에좋아...   \n",
       "898  14742158672  s*o*****                                          저렴했어 구입   \n",
       "899  14742158672  lil*****  가격대비 가성비 갑입니다^^궂이 비싼 가격의 제품  사용하지 않아도 될만큼 만족합니다   \n",
       "\n",
       "                                               content  ... images videoYn  \\\n",
       "895                                         좋은것 같애요...  ...    NaN       N   \n",
       "896                                  <em>대용량 잘쓸께요</em>  ...    NaN       N   \n",
       "897  <em>넉넉한 용량에 향도 좋아요</em>.<br><em>꾸준히 사용하면 피부에좋아...  ...    NaN       N   \n",
       "898                                   <em>저렴했어 </em>구입  ...    NaN       N   \n",
       "899  <em>가격대비 가성비 갑입니다</em>^^<br>궂이 비싼 가격의 제품  사용하지...  ...    NaN       N   \n",
       "\n",
       "    videoCount  topicYn  topicCount  \\\n",
       "895          0        N           0   \n",
       "896          0        Y           1   \n",
       "897          0        Y           2   \n",
       "898          0        Y           1   \n",
       "899          0        Y           2   \n",
       "\n",
       "                                                topics  \\\n",
       "895                                                NaN   \n",
       "896  [{'topicCode': 'total', 'topicName': '만족도', 't...   \n",
       "897  [{'topicCode': 'smell', 'topicName': '향기', 'to...   \n",
       "898  [{'topicCode': 'price', 'topicName': '가격', 'to...   \n",
       "899  [{'topicCode': 'price', 'topicName': '가격', 'to...   \n",
       "\n",
       "                         uniqueKey  mallName  \\\n",
       "895     159748350-lgeshop-21606783    GSSHOP   \n",
       "896  1874377140-auction-B696708275        옥션   \n",
       "897  1872599936-auction-B696708275        옥션   \n",
       "898  1872656715-auction-B696708275        옥션   \n",
       "899     158883697-lgeshop-21606783    GSSHOP   \n",
       "\n",
       "                                              mallLogo buyOption  \n",
       "895  https://shopping-phinf.pstatic.net/20210512/67...       NaN  \n",
       "896  https://shopping-phinf.pstatic.net/20210217/60...       NaN  \n",
       "897  https://shopping-phinf.pstatic.net/20210217/60...       NaN  \n",
       "898  https://shopping-phinf.pstatic.net/20210217/60...       NaN  \n",
       "899  https://shopping-phinf.pstatic.net/20210512/67...       NaN  \n",
       "\n",
       "[5 rows x 28 columns]"
      ],
      "text/html": "<div>\n<style scoped>\n    .dataframe tbody tr th:only-of-type {\n        vertical-align: middle;\n    }\n\n    .dataframe tbody tr th {\n        vertical-align: top;\n    }\n\n    .dataframe thead th {\n        text-align: right;\n    }\n</style>\n<table border=\"1\" class=\"dataframe\">\n  <thead>\n    <tr style=\"text-align: right;\">\n      <th></th>\n      <th>mallId</th>\n      <th>mallProductId</th>\n      <th>updateType</th>\n      <th>mallReviewId</th>\n      <th>mallSeq</th>\n      <th>nvMid</th>\n      <th>matchNvMid</th>\n      <th>userId</th>\n      <th>title</th>\n      <th>content</th>\n      <th>...</th>\n      <th>images</th>\n      <th>videoYn</th>\n      <th>videoCount</th>\n      <th>topicYn</th>\n      <th>topicCount</th>\n      <th>topics</th>\n      <th>uniqueKey</th>\n      <th>mallName</th>\n      <th>mallLogo</th>\n      <th>buyOption</th>\n    </tr>\n  </thead>\n  <tbody>\n    <tr>\n      <td>895</td>\n      <td>lgeshop</td>\n      <td>21606783</td>\n      <td>UPSERT</td>\n      <td>159748350</td>\n      <td>1</td>\n      <td>22167213896</td>\n      <td>14742158672</td>\n      <td>yjs*****</td>\n      <td>좋은것 같애요...</td>\n      <td>좋은것 같애요...</td>\n      <td>...</td>\n      <td>NaN</td>\n      <td>N</td>\n      <td>0</td>\n      <td>N</td>\n      <td>0</td>\n      <td>NaN</td>\n      <td>159748350-lgeshop-21606783</td>\n      <td>GSSHOP</td>\n      <td>https://shopping-phinf.pstatic.net/20210512/67...</td>\n      <td>NaN</td>\n    </tr>\n    <tr>\n      <td>896</td>\n      <td>auction</td>\n      <td>B696708275</td>\n      <td>UPSERT</td>\n      <td>1874377140</td>\n      <td>114</td>\n      <td>19827525082</td>\n      <td>14742158672</td>\n      <td>j*m*****</td>\n      <td>대용량 잘쓸께요</td>\n      <td>&lt;em&gt;대용량 잘쓸께요&lt;/em&gt;</td>\n      <td>...</td>\n      <td>NaN</td>\n      <td>N</td>\n      <td>0</td>\n      <td>Y</td>\n      <td>1</td>\n      <td>[{'topicCode': 'total', 'topicName': '만족도', 't...</td>\n      <td>1874377140-auction-B696708275</td>\n      <td>옥션</td>\n      <td>https://shopping-phinf.pstatic.net/20210217/60...</td>\n      <td>NaN</td>\n    </tr>\n    <tr>\n      <td>897</td>\n      <td>auction</td>\n      <td>B696708275</td>\n      <td>UPSERT</td>\n      <td>1872599936</td>\n      <td>114</td>\n      <td>19827525082</td>\n      <td>14742158672</td>\n      <td>c*n*****</td>\n      <td>넉넉한 용량에 향도 좋아요. 꾸준히 사용하면 피부에좋아...</td>\n      <td>&lt;em&gt;넉넉한 용량에 향도 좋아요&lt;/em&gt;.&lt;br&gt;&lt;em&gt;꾸준히 사용하면 피부에좋아...</td>\n      <td>...</td>\n      <td>NaN</td>\n      <td>N</td>\n      <td>0</td>\n      <td>Y</td>\n      <td>2</td>\n      <td>[{'topicCode': 'smell', 'topicName': '향기', 'to...</td>\n      <td>1872599936-auction-B696708275</td>\n      <td>옥션</td>\n      <td>https://shopping-phinf.pstatic.net/20210217/60...</td>\n      <td>NaN</td>\n    </tr>\n    <tr>\n      <td>898</td>\n      <td>auction</td>\n      <td>B696708275</td>\n      <td>UPSERT</td>\n      <td>1872656715</td>\n      <td>114</td>\n      <td>19827525082</td>\n      <td>14742158672</td>\n      <td>s*o*****</td>\n      <td>저렴했어 구입</td>\n      <td>&lt;em&gt;저렴했어 &lt;/em&gt;구입</td>\n      <td>...</td>\n      <td>NaN</td>\n      <td>N</td>\n      <td>0</td>\n      <td>Y</td>\n      <td>1</td>\n      <td>[{'topicCode': 'price', 'topicName': '가격', 'to...</td>\n      <td>1872656715-auction-B696708275</td>\n      <td>옥션</td>\n      <td>https://shopping-phinf.pstatic.net/20210217/60...</td>\n      <td>NaN</td>\n    </tr>\n    <tr>\n      <td>899</td>\n      <td>lgeshop</td>\n      <td>21606783</td>\n      <td>UPSERT</td>\n      <td>158883697</td>\n      <td>1</td>\n      <td>22167213896</td>\n      <td>14742158672</td>\n      <td>lil*****</td>\n      <td>가격대비 가성비 갑입니다^^궂이 비싼 가격의 제품  사용하지 않아도 될만큼 만족합니다</td>\n      <td>&lt;em&gt;가격대비 가성비 갑입니다&lt;/em&gt;^^&lt;br&gt;궂이 비싼 가격의 제품  사용하지...</td>\n      <td>...</td>\n      <td>NaN</td>\n      <td>N</td>\n      <td>0</td>\n      <td>Y</td>\n      <td>2</td>\n      <td>[{'topicCode': 'price', 'topicName': '가격', 'to...</td>\n      <td>158883697-lgeshop-21606783</td>\n      <td>GSSHOP</td>\n      <td>https://shopping-phinf.pstatic.net/20210512/67...</td>\n      <td>NaN</td>\n    </tr>\n  </tbody>\n</table>\n<p>5 rows × 28 columns</p>\n</div>"
     },
     "metadata": {},
     "execution_count": 10
    }
   ],
   "source": [
    "df.tail()"
   ]
  },
  {
   "cell_type": "code",
   "execution_count": 11,
   "id": "closed-repair",
   "metadata": {},
   "outputs": [],
   "source": [
    "df = df[['content','starScore']]"
   ]
  },
  {
   "cell_type": "code",
   "execution_count": null,
   "id": "polished-lemon",
   "metadata": {},
   "outputs": [],
   "source": [
    "df.to_csv('review2.csv', index=False)"
   ]
  }
 ],
 "metadata": {
  "kernelspec": {
   "name": "python374jvsc74a57bd0fc0dd9cb2f9514df2070d123e881f1c1ba8233769b87faa9f0e666abc050ad92",
   "display_name": "Python 3.7.4 64-bit ('base': conda)"
  },
  "language_info": {
   "codemirror_mode": {
    "name": "ipython",
    "version": 3
   },
   "file_extension": ".py",
   "mimetype": "text/x-python",
   "name": "python",
   "nbconvert_exporter": "python",
   "pygments_lexer": "ipython3",
   "version": "3.7.4"
  },
  "metadata": {
   "interpreter": {
    "hash": "63fd5069d213b44bf678585dea6b12cceca9941eaf7f819626cde1f2670de90d"
   }
  }
 },
 "nbformat": 4,
 "nbformat_minor": 5
}