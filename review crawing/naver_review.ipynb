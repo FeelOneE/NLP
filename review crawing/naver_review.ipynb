{
 "cells": [
  {
   "cell_type": "code",
   "execution_count": 73,
   "id": "marine-criterion",
   "metadata": {},
   "outputs": [],
   "source": [
    "######################################################################\n",
    "######################### 댓글 크롤링 시작 ############################\n",
    "######################################################################\n",
    "\n",
    "import urllib.parse as rep\n",
    "import urllib.request as req\n",
    "from bs4 import BeautifulSoup\n",
    "from fake_useragent import UserAgent\n",
    "import gzip\n",
    "import pandas as pd\n",
    "import json"
   ]
  },
  {
   "cell_type": "code",
   "execution_count": 75,
   "id": "sophisticated-judgment",
   "metadata": {},
   "outputs": [
    {
     "output_type": "stream",
     "name": "stdout",
     "text": [
      "더 없음\n"
     ]
    }
   ],
   "source": [
    "\n",
    "\n",
    "# Header 정보 초기화\n",
    "opener = req.build_opener()\n",
    "# User-Agent 정보\n",
    "#opener.addheaders = [('User-agent', UserAgent())]\n",
    "# Header 정보 삽입\n",
    "req.install_opener(opener)\n",
    "\n",
    "# 쇼핑 댓글 요청 헤더\n",
    "# https://search.shopping.naver.com/catalog/24178126692?cat_id=50000814&nv_mid=24178126692&NaPm=ct%3Dkmochwcg%7Cci%3D5fbcf90319f44a9577a7ba53d9afec4cf0af44e8%7Ctr%3Dsl%7Csn%3D95694%7Chk%3D180c476dc3ec1764ae9d356ee403773d5f2382ca\n",
    "# https://search.shopping.naver.com/catalog/14742158672?NaPm=ct%3Dkmyyltb4%7Cci%3D8fb2739c338be12299472ccff160ded9bc19122f%7Ctr%3Dslsl%7Csn%3D95694%7Chk%3D0186b9292ab060733115318dcfd65d3aefb527b7\n",
    "\n",
    "    \n",
    "# Request\n",
    "flag = True\n",
    "pageNum = 1\n",
    "result = []\n",
    "while flag:\n",
    "    try:\n",
    "        \n",
    "        # 쇼핑 댓글 요청 헤더\n",
    "        hdr = {'authority': 'search.shopping.naver.com', \\\n",
    "        'method': 'GET',\\\n",
    "        'path': '/review?nvMid=14742158672&reviewType=ALL&sort=QUALITY&isNeedAggregation=N&isApplyFilter=N&page='+str(pageNum)+'&pageSize=20',\\\n",
    "        'scheme': 'https',\\\n",
    "        'accept': 'application/json, text/plain, */*',\\\n",
    "        'accept-encoding': 'gzip, deflate, br',\\\n",
    "        'accept-language': 'ko-KR,ko;q=0.9,en-US;q=0.8,en;q=0.7',\\\n",
    "        'cache-control': 'no-cache',\\\n",
    "        'pragma': 'no-cache',\\\n",
    "        'referer': 'https://search.shopping.naver.com/catalog/14742158672?NaPm=ct%3Dkmyyltb4%7Cci%3D8fb2739c338be12299472ccff160ded9bc19122f%7Ctr%3Dslsl%7Csn%3D95694%7Chk%3D0186b9292ab060733115318dcfd65d3aefb527b7',\\\n",
    "        'sec-ch-ua': '\"Google Chrome\";v=\"89\", \"Chromium\";v=\"89\", \";Not A Brand\";v=\"99\"',\\\n",
    "        'sec-ch-ua-mobile': '?0',\\\n",
    "        'sec-fetch-dest': 'empty',\\\n",
    "        'sec-fetch-mode': 'cors',\\\n",
    "        'sec-fetch-site': 'same-origin',\\\n",
    "        'urlprefix': '/api',\\\n",
    "        'user-agent': 'M'}\n",
    "\n",
    "        url = 'https://search.shopping.naver.com/review?nvMid=14742158672&reviewType=ALL&sort=QUALITY&isNeedAggregation=N&isApplyFilter=N&page='+str(pageNum)+'&pageSize=20'        \n",
    "        \n",
    "        reqeust = req.Request(url,headers=hdr)\n",
    "        res = gzip.decompress(req.urlopen(reqeust).read()).decode('utf-8')\n",
    "        #print(res)\n",
    "        data = json.loads(res)\n",
    "        result.extend(data['reviews'])\n",
    "        pageNum = pageNum + 1\n",
    "    except:\n",
    "        print('더 없음')\n",
    "        flag = False\n",
    "\n",
    "\n",
    "#res = req.urlopen(reqeust).read().decode('utf-8')\n",
    "\n"
   ]
  },
  {
   "cell_type": "code",
   "execution_count": 76,
   "id": "distributed-effect",
   "metadata": {},
   "outputs": [
    {
     "output_type": "execute_result",
     "data": {
      "text/plain": [
       "<bound method NDFrame.describe of             mallId mallProductId updateType mallReviewId  mallSeq  \\\n",
       "0             evas     450072517     UPSERT    884568151   196900   \n",
       "1          lgeshop      21606783     UPSERT    159716221        1   \n",
       "2          lgeshop      21606783     UPSERT    161640758        1   \n",
       "3          lgeshop      21606783     UPSERT    161686778        1   \n",
       "4             evas     450072517     UPSERT    884651289   196900   \n",
       "..             ...           ...        ...          ...      ...   \n",
       "895        lgeshop      21606783     UPSERT    159640761        1   \n",
       "896        lgeshop      21606783     UPSERT    159060736        1   \n",
       "897  ncp_1o075c_01    5255900479     UPSERT   3136832054  1819586   \n",
       "898           evas     450072517     UPSERT    258304779   196900   \n",
       "899        lgeshop      21606783     UPSERT    155955225        1   \n",
       "\n",
       "           nvMid   matchNvMid    userId  \\\n",
       "0    10110341669  14742158672  khsk****   \n",
       "1    22167213896  14742158672  zz******   \n",
       "2    22167213896  14742158672  lo******   \n",
       "3    22167213896  14742158672  jh******   \n",
       "4    10110341669  14742158672  siny****   \n",
       "..           ...          ...       ...   \n",
       "895  22167213896  14742158672  308*****   \n",
       "896  22167213896  14742158672  wo******   \n",
       "897  82800422957  14742158672  jhoo****   \n",
       "898  10110341669  14742158672  jhbl****   \n",
       "899  22167213896  14742158672  cha*****   \n",
       "\n",
       "                                                 title  \\\n",
       "0    쑥 들어간 제품들을 평소에 좋아해서 쑥 화장품으로 대부분 쓰려고 해요 아침 저녁으로...   \n",
       "1    화장품 상자에 한번 더 뽁뽁이  포장으로  꼼꼼하게 담아져 있었고  화장품 용기는 ...   \n",
       "2    대용량에 헐 감동입니다 1개는 지인도 팍팍 쓰라고 선물했어요이건 화장솜에 듬뿍 하셔...   \n",
       "3    아직 사용전인데 오자마자 간병이모님이 머냐고 물어 보셔서 약쑥스킨이라고  하니 한번...   \n",
       "4    프레쥬 진정토너 여름에 시원하게 토너팩 하기 좋아요 향은 쑥 냄새보다는 시트러스계열...   \n",
       "..                                                 ...   \n",
       "895                                 싸게 잘샀어요 듬뿍듬뿍 바를꺼에요   \n",
       "896  쑥 토너라 산뜻한거 같아요! 피지가 많은 분들이 사용하시면 좋을듯해요 신랑이 좋아하...   \n",
       "897  믿고쓰는 에바스 화장품입니다ㅎ 지금까지 크림, 샴푸 등 많은 제품들을 써봤지만 모두...   \n",
       "898  만족합니다!! 가격 용량 모두^^ 우선 가격이 너무 착해요!! 용량최고!!!! 사은...   \n",
       "899              부담없이 사용하기 좋아요.용량이 많아서 부담없이 사용하기 좋습니다.   \n",
       "\n",
       "                                               content  ...  \\\n",
       "0    쑥 들어간 <em>제품들을 평소에 좋아해서 </em>쑥 화장품으로 대부분 쓰려고 해...  ...   \n",
       "1    화장품 상자에 한번 더 뽁뽁이  포장으로  꼼꼼하게 담아져 있었고  <em>화장품 ...  ...   \n",
       "2    <em>대용량에 헐 감동입니다</em> <br>1개는 지인도 팍팍 쓰라고 선물했어요...  ...   \n",
       "3    아직 사용전인데 오자마자 간병이모님이 머냐고 물어 보셔서 약쑥스킨이라고  하니 한번...  ...   \n",
       "4    프레쥬 진정토너 여름에 시원하게 토너팩 하기 좋아요 향은 쑥 냄새보다는 시트러스계열...  ...   \n",
       "..                                                 ...  ...   \n",
       "895                        <em>싸게 잘샀어요</em> 듬뿍듬뿍 바를꺼에요  ...   \n",
       "896  쑥 토너라 산뜻한거 같아요! 피지가 많은 분들이 사용하시면 좋을듯해요 <em>신랑이...  ...   \n",
       "897  믿고쓰는 에바스 화장품입니다ㅎ 지금까지 크림, 샴푸 등 많은 제품들을 써봤지만 모두...  ...   \n",
       "898  <em>만족합니다</em>!! 가격 용량 모두^^ <em>우선 가격이 너무 착해요<...  ...   \n",
       "899  <em>부담없이 사용하기 좋아요</em>.<br>용량이 많아서 <em>부담없이 사용...  ...   \n",
       "\n",
       "                                                images videoYn videoCount  \\\n",
       "0    [https://phinf.pstatic.net/checkout/20200627_2...       N          0   \n",
       "1    [https://shopping-phinf.pstatic.net/20210406_9...       N          0   \n",
       "2    [https://shopping-phinf.pstatic.net/20210530_1...       N          0   \n",
       "3    [https://shopping-phinf.pstatic.net/20210531_8...       N          0   \n",
       "4    [https://phinf.pstatic.net/checkout/20200627_1...       N          0   \n",
       "..                                                 ...     ...        ...   \n",
       "895                                                NaN       N          0   \n",
       "896                                                NaN       N          0   \n",
       "897                                                NaN       N          0   \n",
       "898                                                NaN       N          0   \n",
       "899  [https://shopping-phinf.pstatic.net/20201210_1...       N          0   \n",
       "\n",
       "     topicYn  topicCount                                             topics  \\\n",
       "0          Y           1  [{'topicCode': 'total', 'topicName': '만족도', 't...   \n",
       "1          Y           4  [{'topicCode': 'package', 'topicName': '용기', '...   \n",
       "2          Y           1  [{'topicCode': 'total', 'topicName': '만족도', 't...   \n",
       "3          Y           1  [{'topicCode': 'effect', 'topicName': '효과', 't...   \n",
       "4          Y           3  [{'topicCode': 'smell', 'topicName': '향기', 'to...   \n",
       "..       ...         ...                                                ...   \n",
       "895        Y           1  [{'topicCode': 'price', 'topicName': '가격', 'to...   \n",
       "896        Y           1  [{'topicCode': 'total', 'topicName': '만족도', 't...   \n",
       "897        Y           1  [{'topicCode': 'total', 'topicName': '만족도', 't...   \n",
       "898        Y           7  [{'topicCode': 'total', 'topicName': '만족도', 't...   \n",
       "899        Y           2  [{'topicCode': 'total', 'topicName': '만족도', 't...   \n",
       "\n",
       "                               uniqueKey  mallName  \\\n",
       "0               884568151-evas-450072517   에바스코스메틱   \n",
       "1             159716221-lgeshop-21606783    GSSHOP   \n",
       "2             161640758-lgeshop-21606783    GSSHOP   \n",
       "3             161686778-lgeshop-21606783    GSSHOP   \n",
       "4               884651289-evas-450072517   에바스코스메틱   \n",
       "..                                   ...       ...   \n",
       "895           159640761-lgeshop-21606783    GSSHOP   \n",
       "896           159060736-lgeshop-21606783    GSSHOP   \n",
       "897  3136832054-ncp_1o075c_01-5255900479    언니네정품관   \n",
       "898             258304779-evas-450072517   에바스코스메틱   \n",
       "899           155955225-lgeshop-21606783    GSSHOP   \n",
       "\n",
       "                                              mallLogo  \\\n",
       "0    https://shopping-phinf.pstatic.net/20210216_27...   \n",
       "1    https://shopping-phinf.pstatic.net/20210512/67...   \n",
       "2    https://shopping-phinf.pstatic.net/20210512/67...   \n",
       "3    https://shopping-phinf.pstatic.net/20210512/67...   \n",
       "4    https://shopping-phinf.pstatic.net/20210216_27...   \n",
       "..                                                 ...   \n",
       "895  https://shopping-phinf.pstatic.net/20210512/67...   \n",
       "896  https://shopping-phinf.pstatic.net/20210512/67...   \n",
       "897  https://shopping-phinf.pstatic.net/20210216_6/...   \n",
       "898  https://shopping-phinf.pstatic.net/20210216_27...   \n",
       "899  https://shopping-phinf.pstatic.net/20210512/67...   \n",
       "\n",
       "                              buyOption  \n",
       "0                                   NaN  \n",
       "1                                   NaN  \n",
       "2                                   NaN  \n",
       "3                                   NaN  \n",
       "4                                   NaN  \n",
       "..                                  ...  \n",
       "895                                 NaN  \n",
       "896                                 NaN  \n",
       "897                                 NaN  \n",
       "898  선택: 1.자연약쑥 진정토너 500ml+500ml(+폼클렌징)  \n",
       "899                                 NaN  \n",
       "\n",
       "[900 rows x 28 columns]>"
      ]
     },
     "metadata": {},
     "execution_count": 76
    }
   ],
   "source": [
    "df = pd.DataFrame(result)\n",
    "df.describe"
   ]
  },
  {
   "cell_type": "code",
   "execution_count": 7,
   "id": "individual-checklist",
   "metadata": {},
   "outputs": [
    {
     "output_type": "execute_result",
     "data": {
      "text/plain": [
       "900"
      ]
     },
     "metadata": {},
     "execution_count": 7
    }
   ],
   "source": [
    "len(result)"
   ]
  },
  {
   "cell_type": "code",
   "execution_count": 8,
   "id": "three-citation",
   "metadata": {},
   "outputs": [
    {
     "output_type": "execute_result",
     "data": {
      "text/plain": [
       "{'mallId': 'goodsdaq',\n",
       " 'mallProductId': '1416294630',\n",
       " 'updateType': 'UPSERT',\n",
       " 'mallReviewId': '106684740',\n",
       " 'mallSeq': '24',\n",
       " 'nvMid': '19131673418',\n",
       " 'matchNvMid': '14742158672',\n",
       " 'userId': 's*8*****',\n",
       " 'title': '향이 강하네요',\n",
       " 'content': '<em>다른분 말처럼 향이 강하네요</em>발랐을때 깔끔한 느낌보다는 살짝 텁텁한 느낌이었어요 그렇다고 끈적이거나 그런건 아니지만 개운~깔끔하지는 않았어요.. 진정토너라해서 기대를 너무한건가요.......?진정효과는 두번째치고 볼은 열감으로 발그레되고 좁쌀같이 올라오고.. 건조하기까지.. 아침에 얼굴 당겨 거울봤다가 놀랬어요 땡기는 피부팩한줄.. 팩하고 굳었을때 웃으면 주름 생기듯 얼굴 근육에 따라 줄이 생기며 구겨지는데.. 이건 나랑은 아닌듯 싶네요..(토너+수분크림+팩 여기꺼만 사용)',\n",
       " 'registerDate': '2021-03-17',\n",
       " 'modifyDate': '2021-05-04',\n",
       " 'pageUrl': 'http://item2.gmarket.co.kr/Item/detailview/Item.aspx?goodscode=1416294630',\n",
       " 'createTime': 1621408774488,\n",
       " 'qualityScore': 0.791547,\n",
       " 'starScore': 1,\n",
       " 'imageYn': 'N',\n",
       " 'imageCount': 0,\n",
       " 'videoYn': 'N',\n",
       " 'videoCount': 0,\n",
       " 'topicYn': 'Y',\n",
       " 'topicCount': 1,\n",
       " 'topics': [{'topicCode': 'smell',\n",
       "   'topicName': '향기',\n",
       "   'topicNameRaw': '향기',\n",
       "   'startPosition': 0,\n",
       "   'endPosition': 38,\n",
       "   'reputationScore': 584,\n",
       "   'positiveYn': 'N'}],\n",
       " 'uniqueKey': '106684740-goodsdaq-1416294630',\n",
       " 'mallName': 'G마켓',\n",
       " 'mallLogo': 'https://shopping-phinf.pstatic.net/20210217/76c25d7d-6160-4537-ac4d-d3208d56c0b8.jpg'}"
      ]
     },
     "metadata": {},
     "execution_count": 8
    }
   ],
   "source": [
    "result[6]"
   ]
  },
  {
   "cell_type": "code",
   "execution_count": 16,
   "metadata": {},
   "outputs": [
    {
     "output_type": "stream",
     "name": "stdout",
     "text": [
      "쑥 들어간 <em>제품들을 평소에 좋아해서 </em>쑥 화장품으로 대부분 쓰려고 해요 아침 저녁으로 매일 매일 쓰기에 부담이 없고 좋습니다<br>자연약쑥 진정 토너라 자극없이 쓰기에도 좋고 녹차 루이보스 캐모마일 쑥 페퍼민트 로즈마리 유칼리투스잎이 들어간 그린 허브 성분이라 피부 진정에도 도움이 되는거 같아요\n"
     ]
    }
   ],
   "source": [
    "######################################################################\n",
    "######################### 댓글 크롤링 끝 ##############################\n",
    "######################################################################\n",
    "\n",
    "print(df.iloc[0]['content'])"
   ]
  },
  {
   "cell_type": "code",
   "execution_count": 21,
   "id": "closed-repair",
   "metadata": {},
   "outputs": [
    {
     "output_type": "stream",
     "name": "stdout",
     "text": [
      "Requirement already satisfied: kobert-transformers in c:\\python39\\lib\\site-packages (0.4.1)\n",
      "Requirement already satisfied: torch>=1.1.0 in c:\\python39\\lib\\site-packages (from kobert-transformers) (1.8.1)\n",
      "Requirement already satisfied: transformers>=2.9.1 in c:\\users\\pil\\appdata\\roaming\\python\\python39\\site-packages (from kobert-transformers) (4.3.3)\n",
      "Requirement already satisfied: numpy in c:\\python39\\lib\\site-packages (from torch>=1.1.0->kobert-transformers) (1.19.4)\n",
      "Requirement already satisfied: typing-extensions in c:\\python39\\lib\\site-packages (from torch>=1.1.0->kobert-transformers) (3.7.4.3)\n",
      "Requirement already satisfied: tqdm>=4.27 in c:\\python39\\lib\\site-packages (from transformers>=2.9.1->kobert-transformers) (4.53.0)\n",
      "Requirement already satisfied: tokenizers<0.11,>=0.10.1 in c:\\python39\\lib\\site-packages (from transformers>=2.9.1->kobert-transformers) (0.10.1)\n",
      "Requirement already satisfied: requests in c:\\python39\\lib\\site-packages (from transformers>=2.9.1->kobert-transformers) (2.25.0)\n",
      "Requirement already satisfied: sacremoses in c:\\python39\\lib\\site-packages (from transformers>=2.9.1->kobert-transformers) (0.0.43)\n",
      "Requirement already satisfied: filelock in c:\\users\\pil\\appdata\\roaming\\python\\python39\\site-packages (from transformers>=2.9.1->kobert-transformers) (3.0.12)\n",
      "Requirement already satisfied: packaging in c:\\users\\pil\\appdata\\roaming\\python\\python39\\site-packages (from transformers>=2.9.1->kobert-transformers) (20.9)\n",
      "Requirement already satisfied: regex!=2019.12.17 in c:\\python39\\lib\\site-packages (from transformers>=2.9.1->kobert-transformers) (2021.3.17)\n",
      "Requirement already satisfied: pyparsing>=2.0.2 in c:\\users\\pil\\appdata\\roaming\\python\\python39\\site-packages (from packaging->transformers>=2.9.1->kobert-transformers) (2.4.7)\n",
      "Requirement already satisfied: urllib3<1.27,>=1.21.1 in c:\\python39\\lib\\site-packages (from requests->transformers>=2.9.1->kobert-transformers) (1.26.2)\n",
      "Requirement already satisfied: chardet<4,>=3.0.2 in c:\\python39\\lib\\site-packages (from requests->transformers>=2.9.1->kobert-transformers) (3.0.4)\n",
      "Requirement already satisfied: idna<3,>=2.5 in c:\\python39\\lib\\site-packages (from requests->transformers>=2.9.1->kobert-transformers) (2.10)\n",
      "Requirement already satisfied: certifi>=2017.4.17 in c:\\python39\\lib\\site-packages (from requests->transformers>=2.9.1->kobert-transformers) (2020.11.8)\n",
      "Requirement already satisfied: six in c:\\python39\\lib\\site-packages (from sacremoses->transformers>=2.9.1->kobert-transformers) (1.15.0)\n",
      "Requirement already satisfied: click in c:\\python39\\lib\\site-packages (from sacremoses->transformers>=2.9.1->kobert-transformers) (7.1.2)\n",
      "Requirement already satisfied: joblib in c:\\python39\\lib\\site-packages (from sacremoses->transformers>=2.9.1->kobert-transformers) (0.17.0)\n",
      "WARNING: You are using pip version 21.0.1; however, version 21.1.2 is available.\n",
      "You should consider upgrading via the 'c:\\python39\\python.exe -m pip install --upgrade pip' command.\n"
     ]
    }
   ],
   "source": [
    "######################################################################\n",
    "######################### 댓글 TextRank ##############################\n",
    "######################################################################\n",
    "\n",
    "#!pip install kobert-transformers"
   ]
  },
  {
   "cell_type": "code",
   "execution_count": 120,
   "metadata": {},
   "outputs": [
    {
     "output_type": "stream",
     "name": "stdout",
     "text": [
      "['쑥/MAG', '들어가/VV', 'ㄴ/ETM', '제품/NNG', '들/XSN', '을/JKO', '평소/NNG', '에/JKB', '좋아하/VV', '아서/EC', '쑥/MAG', '화장품/NNG', '으로/JKB', '대부분/NNG', '쓰/VV', '려고/EC', '하/VV', '아요/EC', '아침/NNG', '저녁/NNG', '으로/JKB', '매일/MAG', '매일/MAG', '쓰/VV', '기/ETN', '에/JKB', '부담/NNG', '이/JKS', '없/VA', '고/EC', '좋/VA', '습니다/EC', '자연/NNG', '약/NNG', '쑥/NNG', '진정/NNP', '토너/NNP', '이/VCP', '라/EC', '자극/NNG', '없이/MAG', '쓰/VV', '기/ETN', '에/JKB', '도/JX', '좋/VA', '고/EC', '녹차/NNP', '루이보스/NNP', '캐모마일/NNP', '쑥/MAG', '페퍼/NNP', '민트/NNP', '로즈마리/NNP', '유칼리투스잎이/NA', '들어가/VV', 'ㄴ/ETM', '그리/VV', 'ㄴ/ETM', '허브/NNP', '성분/NNG', '이/VCP', '라/EC', '피부/NNP', '진정/NNG', '에/JKB', '도/JX', '도움/NNG', '이/JKS', '되/VV', '는/ETM', '거/NNB', '같/VA', '아요/EC']\n"
     ]
    }
   ],
   "source": [
    "#형태소 분석기 Komoran\n",
    "\n",
    "from konlpy.tag import Komoran\n",
    "\n",
    "komoran = Komoran()\n",
    "sent = '쑥 들어간 제품들을 평소에 좋아해서 쑥 화장품으로 대부분 쓰려고 해요 아침 저녁으로 매일 매일 쓰기에 부담이 없고 좋습니다자연약쑥 진정 토너라 자극없이 쓰기에도 좋고 녹차 루이보스 캐모마일 쑥 페퍼민트 로즈마리 유칼리투스잎이 들어간 그린 허브 성분이라 피부 진정에도 도움이 되는거 같아요'\n",
    "\n",
    "words = komoran.pos(sent, join=True)\n",
    "print(words )\n",
    "def komoran_tokenizer(sent):\n",
    "    #words = komoran.pos(sent, join=True)\n",
    "    words = [w for w in words if ('/NN' in w or '/XR' in w or '/VA' in w or '/VV' in w)]\n",
    "    #words = [w for w in words if ('/NN' in w )]\n",
    "    return words"
   ]
  },
  {
   "cell_type": "code",
   "execution_count": 79,
   "metadata": {},
   "outputs": [
    {
     "output_type": "execute_result",
     "data": {
      "text/plain": [
       "'쑥 들어간 제품들을 평소에 좋아해서 쑥 화장품으로 대부분 쓰려고 해요 아침 저녁으로 매일 매일 쓰기에 부담이 없고 좋습니다자연약쑥 진정 토너라 자극없이 쓰기에도 좋고 녹차 루이보스 캐모마일 쑥 페퍼민트 로즈마리 유칼리투스잎이 들어간 그린 허브 성분이라 피부 진정에도 도움이 되는거 같아요'"
      ]
     },
     "metadata": {},
     "execution_count": 79
    }
   ],
   "source": [
    "# cleasing 함수 \n",
    "import regex as re\n",
    "def cleasing(text):\n",
    "    repl =''\n",
    "    pattern = '([ㄱ-ㅎㅏ-ㅣ]+)' # 자음, 모음 제거\n",
    "    text = re.sub(pattern= pattern, repl=repl, string=text)\n",
    "    #pattern = '[^\\w\\s]' # 특수기호 제거\n",
    "    pattern = '[^가-히\\s]' # 특수기호 제거\n",
    "    text = re.sub(pattern= pattern, repl=repl, string=text)\n",
    "    pattern = '<[^>]*>' # html 제거\n",
    "    text = re.sub(pattern = pattern, repl='',string=text)\n",
    "    return text\n",
    "df2 = df['content'].map(lambda x: cleasing(x))\n",
    "df2[0]"
   ]
  },
  {
   "cell_type": "code",
   "execution_count": 82,
   "metadata": {},
   "outputs": [
    {
     "output_type": "stream",
     "name": "stdout",
     "text": [
      "['제품/NNG', '평소/NNG', '화장품/NNG', '대부분/NNG', '아침/NNG', '저녁/NNG', '부담/NNG', '자연/NNG', '약/NNG', '쑥/NNG', '진정/NNP', '토너/NNP', '자극/NNG', '녹차/NNP', '루이보스/NNP', '캐모마일/NNP', '페퍼/NNP', '민트/NNP', '로즈마리/NNP', '허브/NNP', '성분/NNG', '피부/NNP', '진정/NNG', '도움/NNG', '거/NNB']\n"
     ]
    }
   ],
   "source": [
    "text =  df2[0]\n",
    "print(komoran_tokenize(text))"
   ]
  },
  {
   "cell_type": "code",
   "execution_count": 83,
   "metadata": {
    "tags": [
     "outputPrepend"
    ]
   },
   "outputs": [
    {
     "output_type": "stream",
     "name": "stdout",
     "text": [
      "'첨/NNG', '만족/NNG', '제품/NNG', '만족/NNG', '제품/NNP', '매일/NNG', '사용/NNG', '냄새/NNG', '도나/NNP', '보습/NNG', '편/NNB', '가격/NNP', '대비/NNP', '제품/NNG', '개/NNB', '거/NNB', '이번/NNG', '주문/NNG', '가족/NNP', '사용/NNG', '향도/NNP', '재구/NNG', '매입/NNG', '니다/NNP', '사은품/NNG', '향도/NNP', '양도/NNP', '만족/NNG', '향/NNG', '감사/NNG', '향도/NNP', '쑥/NNG', '향/NNG', '오렌지/NNP', '류/NNP', '과일/NNG', '향/NNG', '요/NNG', '애용/NNG', '자연/NNG', '약/NNG', '대용량/NNG', '수/NNB', '가격/NNP', '만족/NNP', '양이/NNP', '향기/NNG', '대용량/NNG', '데일리/NNP', '조/NNP', '으/NNG', '냄새/NNG', '가/NNG', '저/NNG', '향/NNG', '좋아서/NNP', '가격/NNG', '넘/NNG', '구매/NNG', '해/NNG', '어용/NNG', '가격/NNP', '구매/NNG', '생각/NNG', '이상/NNG', '좋아서/NNP', '만족/NNG', '토너/NNP', '냄새/NNG', '도/NNG', '굿/NNG', '가/NNG', '성비/NNP', '측면/NNG', '용량/NNG', '마/NNG', '제품/NNG', '성비/NNP', '최고/NNG', '향/NNG', '향/NNG', '곰팡이/NNP', '냄새/NNG', '대/NNB', '용량/NNP', '개/NNB', '여름/NNG', '냉장고/NNP', '스킨로션/NNG', '가격/NNP', '대비/NNP', '대용량/NNG', '바/NNB', '하/NNP', '토너/NNP', '바/NNB', '디/NNP', '주문/NNG', '용량/NNP', '개/NNB', '개/NNB', '선물/NNG', '것/NNB', '얼굴/NNG', '사용/NNG', '공용/NNP', '클렌징/NNG', '폼/NNG', '구성/NNG', '향도/NNP', '얼굴/NNG', '코/NNG', '턱/NNG', '블랙/NNP', '헤드/NNP', '기대/NNG', '이상/NNG', '만족/NNP', '중/NNP', '입/NNG', '니다/NNP', '옥션/NNP', '안드로이드/NNP', '작성/NNG', '향도/NNP', '맘/NNG', '양이/NNP', '따/NNG', '피부/NNG', '쑥/NNG', '향기/NNG', '피부/NNP', '진정/NNP', '느낌/NNG', '양도/NNP', '듬북/NNG', '듬북/NNG', '솜/NNG', '피부/NNG', '감사/NNG', '배/NNG', '송/NNP', '배/NNG', '송/NNP', '배/NNG', '송/NNP', '성비/NNP', '용량/NNP', '완전/NNG', '대용량/NNG', '구매/NNG', '용/NNP', '마구마구/NNP', '것/NNB', '점/NNB', '한/NNP', '건/NNB', '것/NNB', '개인/NNG', '향/NNG', '강/NNP', '한편/NNG', '적응/NNG', '듯/NNB', '악/NNG', '건성/NNG', '피부/NNG', '성분/NNG', '것/NNB', '년/NNB', '사용/NNG', '중등/NNG', '얼굴/NNG', '여드름/NNG', '등/NNB', '이벤트/NNP', '사은품/NNG', '배/NNG', '송도/NNP', '개별/NNG', '포장/NNP', '뽁뽁이/NNP', '포장/NNG', '유통기한/NNP', '널/NNG', '널/NNG', '쓰기/NNP', '구매/NNG', '여드름/NNP', '편/NNB', '친구/NNG', '추천/NNG', '구입/NNG', '행/NNB', '발림/NNP', '얼굴/NNG', '맘/NNG', '구입/NNG', '향/NNG', '사용/NNG', '전/NNG', '배/NNP', '송/NNP', '대용량/NNG', '상품/NNG', '감사/NNG', '사은품/NNG', '감사/NNG', '배/NNP', '송/NNP', '만족/NNG', '가격/NNG', '점/NNB', '달/NNG', '후기/NNG', '제품/NNG', '딸/NNG', '내/NNB', '미/NNP', '여드름/NNP', '땜/NNB', '효과/NNG', '향/NNG', '구매/NNG', '품/NNG', '용량/NNG', '화장/NNP', '솜/NNG', '가격/NNG', '할인/NNG', '행사/NNG', '때/NNG', '구매/NNG', '용량/NNG', '사용/NNG', '중/NNB', '이랑/NNP', '사용/NNG', '피부/NNP', '진정/NNP', '각질/NNG', '관리/NNG', '대용량/NNG', '가격/NNG', '만족/NNG', '인/NNG', '가격/NNG', '증말/NNG', '사용/NNG', '토너/NNP', '배/NNG', '송도/NNP', '구입/NNG', '용기/NNG', '물질/NNP', '화장/NNP', '솜/NNG', '토너/NNP', '피부/NNG', '자극/NNG', '요량/NNG', '상품/NNP', '평/NNB', '번/NNB', '구매/NNG', '가족/NNG', '사용/NNG', '양도/NNP', '수/NNB', '구매/NNG', '향기/NNG', '구매/NNG', '의사/NNP', '향/NNG', '양도/NNP', '부담/NNG', '거/NNB', '예/NNG', '대용량/NNG', '스킨/NNP', '사용/NNG', '대용량/NNG', '구입/NNG', '세안/NNG', '후/NNG', '양/NNG', '아주/NNP', '만족/NNP', '해/NNG', '요/NNP', '향도/NNP', '추천/NNG', '향도/NNP', '흡수력/NNG', '요가/NNG', '성비/NNP', '최고/NNG', '흡수/NNG', '향도/NNP', '재/NNG', '구매/NNG', '사용/NNG', '여름/NNG', '데/NNB', '실수/NNP', '한/NNP', '거/NNB', '구매/NNG', '선물/NNG', '토너/NNP', '아/NNP', '배/NNG', '송/NNP', '양도/NNP', '향기도/NNP', '화장/NNP', '솜/NNG', '팩/NNG', '조/NNP', '으/NNG', '용량/NNP', '맘/NNG', '사용/NNG', '중/NNB', '사용/NNG', '전/NNG', '용량/NNP', '만큼/NNB', '대박/NNP', '가격/NNG', '피부/NNG', '거/NNB', '처음/NNG', '양도/NNP', '화장/NNP', '솜/NNG', '이용/NNG', '냄새/NNG', '쓰임/NNG', '부담/NNG', '가격/NNP', '대비/NNP', '용량/NNP', '쑥/NNG', '향/NNG', '성비/NNP', '거/NNB', '여름/NNG', '만해/NNP', '배/NNG', '송/NNP', '상품/NNG', '가격/NNP', '부담/NNG', '사용/NNG', '양/NNG', '가격/NNG', '것/NNB', '어른/NNG', '친구/NNG', '것/NNB', '향도/NNP', '한/NNP', '거/NNB', '성비/NNP', '것/NNB', '가격/NNG', '제품/NNP', '감사/NNG', '맛/NNG', '여름/NNG', '막/NNG', '쓰기/NNP', '아/NNP', '양이/NNP', '여름/NNG', '사용/NNG', '대용량/NNG', '흡수력/NNG', '쑥/NNG', '토너/NNP', '처음/NNG', '사용/NNG', '거/NNB', '예/NNG', '넘/NNG', '양도/NNP', '향도/NNP', '향도/NNP', '양이/NNP', '것/NNB', '순간/NNG', '오늘/NNG', '상품/NNP', '배/NNG', '송/NNP', '배/NNG', '송/NNP', '용량/NNP', '사용/NNG', '구매/NNG', '수고/NNG', '토너/NNP', '가격/NNG', '만족/NNG', '샘플/NNG', '감사/NNG', '배/NNG', '송도/NNP', '만족/NNG', '만해/NNP', '용량/NNG', '항/NNG', '사/NNG', '거/NNB', '강/NNP', '추/NNP', '배/NNG', '송도/NNP', '가격/NNG', '향기도/NNP', '양도/NNP', '만해/NNP', '가격/NNP', '대비/NNP', '마음/NNG', '품/NNG', '평/NNB', '구입/NNG', '가격/NNG', '향/NNG', '배/NNG', '송/NNP', '상품/NNG', '만족/NNG', '제품/NNP', '수/NNB', '사용/NNG', '전/NNP', '사요/NNP', '양도/NNP', '용량/NNP', '굿/NNG', '사용/NNG', '중/NNB', '이예/NNP', '사용/NNG', '사용/NNG', '전/NNP', '최고/NNG', '남/NNG', '만족/NNG', '거/NNB', '줄/NNB', '대용량/NNG', '구매/NNG', '사용/NNG', '중/NNB', '가/NNG', '성비/NNP', '갑인/NNP', '제품/NNG', '가격/NNP', '대비/NNP', '향도/NNP', '파손/NNG', '부담/NNG', '사용/NNG', '트러블/NNP', '피부/NNG', '마스크/NNP', '인해/NNP', '피부/NNG', '트러블/NNP', '요즘/NNG', '날/NNG', '안성맞춤/NNG', '가격/NNG', '배/NNG', '송이/NNP', '처음/NNG', '때/NNG', '냄새/NNG', '거/NNB', '괜찮아/NNP', '요/NNP', '트러블/NNP', '향도/NNP', '피부/NNG', '한편/NNG', '아들/NNG', '외부/NNG', '미스트/NNP', '사용/NNG', '대용량/NNG', '구매/NNG', '생각/NNG', '통/NNB', '향/NNG', '호브드/NNP', '촉/NNB', '촉한/NNP', '게/NNG', '만족/NNG', '추천/NNG', '괜찮아/NNP', '배/NNG', '송도/NNP', '내용물/NNG', '차/NNP', '내/NNB', '요/NNP', '처음/NNP', '때/NNG', '때/NNG', '저/NNG', '지금/NNG', '은/NNG', '쑥/NNG', '향/NNG', '양/NNB', '피부/NNG', '트러블/NNP', '것/NNB', '짐승/NNP', '용량/NNP', '향도/NNP', '구매/NNG', '달/NNG', '듯/NNB', '가격/NNG', '구매/NNG', '용도/NNG', '얼굴/NNG', '용/NNG', '쓰기/NNP', '보습력/NNG', '친언니/NNG', '사용/NNG', '구매/NNG', '향도/NNG', '흡수력/NNG', '좋아서/NNP', '구매/NNG', '꺼/NNB', '예/NNG', '딸/NNG', '제품/NNP', '사용/NNG', '중/NNB', '주문/NNG', '대/NNB', '용량/NNP', '순/NNG', '번/NNB', '구매/NNG', '사용/NNG', '전/NNG', '상품/NNP', '평/NNB', '가격/NNG', '구매/NNG', '배/NNP', '송/NNP', '품질/NNP', '최상/NNG', '듯/NNB', '짐승/NNP', '용량/NNP', '향도/NNP', '대용량/NNG', '느낌/NNG', '향도/NNP', '맘/NNG', '징/NNG', '오일/NNG', '사용/NNG', '내용물/NNG', '만족/NNP', '진정/NNP', '효과/NNG', '구매/NNG', '제품/NNG', '쑥/NNG', '향/NNG', '피부/NNG', '느낌/NNG', '이것저것/NNG', '냄새/NNG', '수분/NNP', '감/NNG', '아/NNP', '피지/NNP', '노폐물/NNG', '제거/NNG', '피부/NNG', '쑥/NNG', '수/NNB', '가/NNG', '성비/NNP', '발라/NNP', '부담/NNG', '수/NNB', '와우/NNP', '마나/NNP', '온몸/NNG', '발라/NNP', '용량/NNP', '장난/NNG', '가격/NNP', '대비/NNP', '사실/NNG', '사용/NNG', '전/NNG', '달/NNG', '후/NNG', '가격/NNG', '대비/NNG', '아/NNP', '지인/NNP', '추척/NNG', '부담/NNG', '항이/NNP', '사용/NNG', '번/NNB', '양/NNB', '대용량/NNG', '피부/NNP', '주문/NNG', '좋아서/NNP', '구매/NNG', '겁/NNG', '니다/NNP', '향/NNG', '흡수력/NNG', '스킨/NNP', '부담/NNG', '사용/NNG', '구입/NNG', '성비/NNP', '끝판/NNG', '왕지/NNP', '인/NNG', '부탁/NNG', '사/NNG', '학/NNG', '토로/NNP', '이정/NNP', '도면/NNP', '완전/NNG', '만족/NNG', '다/NNP', '고향/NNP', '맘/NNG', '가족/NNP', '이만/NNP', '한/NNP', '게/NNG', '것/NNB', '담/NNG', '부탁/NNG', '향/NNG', '느낌/NNG', '배/NNP', '송/NNP', '감사/NNG', '사용/NNG', '전/NNG', '구매/NNG', '대/NNB', '용량/NNP', '쓰기/NNP', '구매/NNG', '용량/NNG', '용량/NNP', '행사/NNG', '때/NNG', '구매/NNG', '피부/NNP', '열/NNG', '쑥/NNG', '향도/NNG', '가격/NNP', '대/NNB', '넘/NNG', '쑥/NNG', '향/NNG', '을/NNG', '아/NNP', '해서/NNP', '처음/NNP', '구입/NNG', '쑥/NNG', '향/NNG', '은하/NNP', '세안/NNG', '솜/NNG', '발리/NNP', '주/NNB', '조와/NNP', '대용량/NNG', '한참/NNG', '데/NNB', '배/NNP', '송/NNP', '대용량/NNG', '구매/NNG', '토너/NNP', '향도/NNP', '배/NNG', '송금/NNG', '방/NNG', '미/NNP', '사용/NNG', '대용량/NNG', '쓰기/NNP', '여름/NNG', '쓰기/NNP', '듯/NNB', '뚜껑/NNP', '부분/NNG', '용량/NNP', '이/NNP', '커서/NNP', '막/NNG', '쓰기/NNP', '토너/NNP', '쓰기/NNP', '굿/NNG', '애용/NNG', '유통기한/NNP', '사용/NNG', '만족/NNG', '거/NNB', '용량/NNP', '대박/NNP', '제품/NNG', '좋아서/NNP', '구매/NNG', '가격/NNP', '대비/NNP', '각질/NNG', '관리도/NNP', '쑥/NNG', '것/NNB', '괘/NNG', '배/NNG', '송/NNP', '사은품/NNG', '감사/NNG', '감사/NNG', '만족/NNG', '용량/NNP', '배/NNG', '송/NNP', '도착/NNG', '점성/NNP', '강/NNP', '하진/NNP', '물/NNG', '토너/NNP', '것/NNB', '쑥/NNG', '향/NNG', '가/NNG', '성비/NNP', '용량/NNP', '딸/NNG', '사용/NNG', '학/NNG', '토/NNG', '구매/NNG', '수년/NNG', '로즈/NNP', '워터/NNP', '아/NNP', '모마/NNP', '가격/NNG', '구매/NNG', '쑥/NNG', '향/NNG', '느낌/NNG', '강/NNP', '하진/NNP', '연령/NNG', '피부/NNG', '타입/NNG', '건성/NNG', '지성/NNP', '복합/NNG', '제품/NNG', '사용/NNG', '횟수/NNG', '기간/NNG', '제조/NNG', '일자/NNG', '외/NNB', '도움/NNG', '만/NNB', '사용/NNG', '후기/NNG', '알/NNP', '것/NNB', '입구/NNG', '용기/NNP', '불편/NNG', '성비/NNP', '스킨/NNP', '클렌징/NNG', '마지막/NNG', '단계/NNG', '대용량/NNG', '화장/NNP', '솜/NNG', '뭍/NNG', '혀/NNG', '옥션/NNP', '안드로이드/NNP', '작성/NNG', '세안/NNG', '후/NNG', '용도/NNG', '사용/NNG', '가족/NNG', '공용/NNP', '쓰기/NNP', '상품/NNG', '바로/NNP', '사용/NNG', '느낌/NNG', '양이/NNP', '스프레이/NNP', '통/NNB', '감사/NNG', '상품/NNP', '평/NNB', '구매/NNG', '상품/NNP', '가격/NNP', '배/NNP', '송/NNP', '감사/NNG', '상품/NNP', '평/NNB', '향/NNG', '가격/NNG', '배/NNG', '송/NNP', '짐승/NNP', '용량/NNP', '원/NNB', '원/NNB', '모/NNG', '주문/NNP', '한/NNP', '거/NNB', '성비/NNP', '토너/NNP', '쑥/NNG', '향도/NNP', '과/NNG', '정도/NNG', '쑥/NNG', '향/NNG', '양이/NNP', '부담/NNG', '화장/NNG', '솜/NNG', '흡수력/NNG', '것/NNB', '성비/NNP', '굿/NNG', '요즘/NNP', '마스크/NNP', '때문/NNB', '얼굴/NNG', '진정/NNP', '효과/NNG', '듯/NNB', '배/NNG', '송/NNP', '상자/NNG', '순간/NNG', '무게/NNP', '감과/NNP', '용량/NNP', '가격/NNG', '용량/NNP', '토너/NNP', '사은품/NNG', '폼/NNG', '클렌징/NNG', '정품/NNG', '가격/NNG', '정도/NNP', '정도/NNP', '요/NNP', '토너/NNP', '물/NNG', '형/NNG', '스킨/NNP', '하기/NNP', '향/NNG', '아/NNG', '로마/NNP', '향/NNG', '기분/NNG', '우선/NNG', '가성/NNP', '최/NNP', '고구/NNP', '요/NNP', '쑥/NNG', '향/NNG', '굿/NNG', '배/NNG', '송도/NNP', '가격/NNG', '생각/NNG', '구입/NNG', '해/NNG', '데/NNB', '알/NNP', '르/NNG', '레/NNP', '기인/NNG', '피부/NNG', '아/NNP', '처음/NNG', '브랜드/NNP', '지만/NNP', '배/NNG', '송도/NNP', '용량/NNP', '클렌징/NNG', '폼/NNG', '디/NNP', '이/NNP', '사용/NNG', '전/NNG', '토너/NNP', '주문/NNG', '향/NNG', '제품/NNP', '명/NNB', '향/NNG', '얼굴/NNG', '피부/NNG', '것/NNB', '향/NNG', '향/NNG', '거부감/NNG', '분/NNB', '쑥/NNG', '차/NNG', '기분/NNG', '것/NNB', '구매/NNG', '구성/NNG', '원/NNB', '프러스/NNP', '원/NNB', '기대/NNG', '안/NNG', '느/NNG', '대사/NNP', '용감/NNG', '뜻/NNG', '하구/NNP', '용량/NNP', '진정/NNP', '효과/NNG', '스킨/NNP', '팩/NNG', '강/NNP', '추/NNP', '향/NNG', '이/NNP', '넘/NNG', '냄새/NNG', '에/NNG', '분/NNB', '밤/NNG', '세안/NNG', '후/NNG', '스킨/NNP', '구매/NNG', '사용/NNG', '전/NNG', '향/NNG', '대용량/NNG', '사용/NNG', '상품명/NNG', '보고서/NNG', '주문/NNG', '오늘/NNG', '도착/NNG', '사용/NNG', '감사/NNG', '배/NNG', '송도/NNP', '빠/NNG', '루/NNG', '향도/NNG', '가격/NNG', '도/NNG', '넘/NNG', '흡수/NNG', '연령/NNG', '중반/NNG', '피부/NNG', '타입/NNG', '건성/NNG', '지성/NNP', '복합/NNG', '복합/NNG', '제품/NNG', '사용/NNG', '횟수/NNG', '기간/NNG', '구매/NNG', '제조/NNG', '일자/NNG', '최신/NNG', '외/NNB', '도움/NNG', '만/NNB', '사용/NNG', '후기/NNG', '오늘/NNG', '꺼/NNB', '예/NNP', '요/NNP', '제품/NNP', '용량/NNP', '만/NNB', '족하/NNP', '고요/NNP', '향/NNG', '알/NNP', '러/NNP', '지가/NNG', '쑥/NNG', '향/NNG', '것/NNB', '촉/NNB', '촉한/NNP', '것/NNB', '요/NNG', '옥션/NNP', '안드로이드/NNP', '작성/NNG', '넘/NNG', '요/NNG', '자극/NNG', '용량/NNP', '원/NNB', '원/NNB', '수/NNB', '가성/NNP', '비도/NNP', '생각/NNG', '은/NNP', '것/NNB', '대용량/NNG', '오래/NNP', '사용/NNG', '향도/NNG', '자연/NNG', '쑥/NNG', '진정/NNP', '토너/NNP', '만족/NNG', '용량/NNP', '부담/NNG', '쓰기/NNP', '울/NNG', '딸/NNG', '만족/NNG', '사용/NNG', '피부/NNG', '구매/NNG', '여드름/NNP', '아들/NNP', '이정/NNP', '말/NNG', '제품/NNG', '만족/NNG', '값/NNG', '도/NNG', '구입/NNG', '해서/NNP', '물건/NNP', '고객/NNG', '만족/NNG', '물건/NNP', '생산/NNP', '하시/NNG', '길/NNG', '기원/NNG', '성비/NNP', '최고/NNP', '요/NNP', '만족/NNG', '제품/NNG', '성비/NNP', '사용/NNG', '전/NNG', '구매/NNG', '것/NNB', '사용/NNG', '전/NNP', '것/NNB', '사용/NNG', '전/NNG', '거/NNB', '통/NNG', '유/NNG', '향/NNG', '괘/NNG', '고/NNP', '얼굴/NNG', '양이/NNP', '친구/NNG', '양이/NNP', '기능/NNG', '대용량/NNG', '맘/NNG', '가격/NNP', '대비/NNP', '양이/NNP', '향/NNG', '특징/NNG', '음/NNG', '제품/NNG', '감사/NNG', '거/NNB', '번/NNB', '구매/NNG', '짐승/NNP', '용량/NNP', '사용/NNG', '미스트/NNP', '스킨/NNP', '패/NNG', '사용/NNG', '학/NNG', '토로/NNP', '피부/NNP', '정리/NNP', '데/NNB', '젤/NNG', '사용/NNG', '대용량/NNG', '쓰기/NNP', '편/NNG', '사용/NNG', '데/NNB', '품/NNB', '가격/NNP', '만족/NNG', '사용/NNG', '사용/NNG', '제품/NNG', '가격/NNP', '대비/NNP', '향/NNG', '성비/NNP', '듯/NNB', '향/NNG', '제가/NNP', '향/NNG', '제품/NNG', '용량/NNG', '커서/NNP', '한참/NNG', '용량/NNP', '넘/NNG', '시원/NNG', '스킨/NNP', '팩/NNG', '요/NNG', '굿/NNG', '로션/NNP', '구매/NNG', '발라/NNP', '양은/NNP', '용량/NNP', '향/NNG', '취향/NNG', '양/NNB', '굿/NNG', '양이/NNP', '봄철/NNG', '얼굴/NNG', '각질/NNG', '정리/NNG', '토너/NNP', '사용/NNG', '용량/NNP', '대용량/NNG', '각질/NNG', '피지/NNP', '정리/NNG', '중간/NNG', '토너/NNP', '사용/NNG', '토너/NNP', '게/NNG', '속/NNG', '사용/NNG', '시/NNB', '카/NNP', '크림/NNP', '수분/NNP', '만/NNP', '땅/NNG', '자극/NNG', '냄새/NNG', '도/NNG', '자극/NNG', '향/NNG', '가격/NNP', '강/NNP', '추/NNP', '강/NNP', '추/NNP', '보습/NNG', '효과/NNG', '적극/NNG', '추천/NNG', '동시/NNG', '선물/NNG', '복합/NNG', '피부/NNG', '딸/NNG', '향/NNG', '넘/NNG', '용량/NNG', '가격/NNG', '넘/NNG', '만족/NNG', '제품/NNG', '향/NNG', '성비/NNP', '최고/NNP', '스프레이/NNP', '용기/NNG', '미스트/NNP', '사용/NNG', '듯/NNB', '거/NNB', '으/NNG', '적극/NNG', '추천/NNG', '배/NNG', '송이/NNP', '사용/NNG', '전인/NNP', '데/NNB', '양이/NNP', '쓰기/NNP', '성비/NNP', '배/NNG', '송도/NNP', '만족/NNG', '향도/NNP', '제품/NNG', '토너/NNP', '성비/NNP', '갑/NNG', '딜로/NNP', '구매/NNG', '향도/NNP', '양이/NNP', '이벤트/NNG', '구매/NNG', '평/NNB', '좋아서/NNP', '향도/NNP', '흡수/NNP', '배/NNG', '송도/NNP', '아이들/NNP', '사용/NNG', '제품/NNG', '말/NNG', '수/NNB', '가격/NNP', '만족/NNG', '대용량/NNG', '느낌/NNG', '제품/NNG', '처음/NNG', '원래/NNG', '각질/NNG', '거/NNB', '연령/NNG', '피부/NNG', '타입/NNG', '건성/NNG', '지성/NNP', '복합/NNG', '제품/NNG', '사용/NNG', '횟수/NNG', '기간/NNG', '제조/NNG', '일자/NNG', '외/NNB', '도움/NNG', '만/NNB', '사용/NNG', '후기/NNG', '옥션/NNP', '안드로이드/NNP', '작성/NNG', '사용/NNG', '하진/NNP', '상품/NNP', '평/NNB', '좋아서/NNP', '구매/NNG', '가격/NNG', '한동안/NNG', '사용/NNG', '것/NNB', '배/NNG', '송도/NNP', '엄마/NNG', '양도/NNG', '스킨/NNP', '사용/NNG', '어머니/NNG', '구입/NNG', '만족/NNG', '향/NNG', '양이/NNP', '부담/NNG', '대용량/NNG', '구매/NNG', '쑥/NNG', '향도/NNP', '대용량/NNG', '사용/NNG', '쑥/NNG', '항이/NNP', '여름/NNG', '냉장고/NNP', '주문/NNP', '용량/NNP', '커서/NNP', '학/NNG', '토로/NNP', '사용/NNG', '부담/NNG', '만족/NNP', '만족/NNP', '스킨/NNP', '을/NNG', '편/NNB', '가격/NNG', '양이/NNP', '조/NNP', '으/NNG', '라라/NNP', '용량/NNP', '냉장고/NNP', '쓰기/NNP', '구입/NNG', '알콜/NNG', '냄새/NNG', '양/NNG', '화장/NNP', '솜/NNG', '향/NNG', '가격/NNG', '대비/NNP', '만족/NNG', '배/NNG', '송/NNP', '성비/NNP', '만족/NNG', '번/NNB', '주문/NNP', '인지/NNP', '흡수력/NNG', '보습력/NNG', '여름/NNG', '사용/NNG', '년/NNB', '이상/NNG', '용량/NNP', '화장/NNP', '솜/NNG', '사용/NNG', '엄마/NNG', '주문/NNG', '딸아/NNP', '이랑/NNP', '구매/NNG', '양도/NNP', '용량/NNG', '세일/NNP', '구매/NNG', '양도/NNP', '향도/NNP', '마음/NNG', '성비/NNP', '통/NNG', '가격/NNG', '대비/NNG', '괜찮아/NNP', '요/NNP', '용량/NNP', '용량/NNP', '오래/NNP', '동안/NNP', '생각/NNG', '외/NNB', '양/NNB', '토너/NNP', '전/NNP', '용/NNP', '도로/NNP', '사용/NNG', '흡수/NNG', '향/NNG', '양도/NNG', '데/NNB', '향/NNG', '흡수도/NNG', '가격/NNP', '대비/NNP', '만족/NNG', '제품/NNG', '용량/NNP', '순/NNG', '번/NNB', '구매/NNG', '가/NNG', '성비/NNP', '갑/NNG', '이예/NNP', '가격/NNP', '대비/NNP', '용량/NNP', '향도/NNP', '용량/NNP', '사용/NNG', '것/NNB', '향도/NNP', '번/NNB', '구매/NNG', '대용량/NNG', '조/NNB', '으/NNG', '완전/NNG', '데/NNB', '문/NNP', '재/NNG', '사용/NNG', '전/NNG', '사용/NNG', '감/NNG', '요/NNG', '요즘/NNG', '쓰기/NNP', '것/NNB', '양도/NNG', '추천/NNG', '사춘기/NNP', '아들/NNG', '사용/NNG', '중/NNB', '배/NNG', '송/NNP', '가격/NNP', '구입/NNG', '쑥/NNG', '향/NNG', '통째/NNG', '사용/NNG', '전/NNP', '이비/NNP', '구입/NNG', '구매/NNG', '해/NNG', '여/NNP', '양도/NNP', '아/NNP', '용량/NNP', '트러블/NNP', '배/NNG', '송/NNP', '만족/NNG', '것/NNB', '산성/NNP', '토너/NNP', '구입/NNG', '산성/NNP', '산도/NNP', '테스트/NNP', '택배/NNP', '사용/NNG', '카리/NNP', '제품/NNG', '피부/NNG', '거/NNB', '텐/NNG', '데/NNB', '산성/NNP', '지금/NNG', '마스크/NNP', '시트/NNG', '토너/NNP', '팩/NNG', '중/NNB', '만족/NNP', '해/NNG', '요/NNG', '가격/NNP', '대비/NNP', '상품/NNG', '가격/NNP', '대비/NNP', '만족/NNG', '수분/NNP', '감/NNG', '고순/NNP', '향도/NNP', '듯/NNB', '생각/NNG', '사용/NNG', '제품/NNP', '이예/NNP', '대용량/NNG', '양이/NNP', '죤/NNP', '물/NNG', '와우/NNP', '패키지/NNP', '배/NNP', '송/NNP', '제품/NNP', '제일/NNG', '판매/NNG', '구매/NNG', '대용량/NNG', '가격/NNG', '세안/NNG', '후/NNG', '화장/NNP', '솜/NNG', '사용/NNG', '때/NNG', '부결/NNG', '정돈/NNG', '차/NNB', '수분/NNP', '급/NNG', '충전/NNP', '자연/NNG', '진정/NNP', '토너/NNP', '구매/NNG', '만족/NNG', '양이/NNP', '수/NNB', '향도/NNP', '사용/NNG', '제/NNB', '예/NNG', '세안/NNG', '후/NNG', '시/NNG', '거/NNB', '용량/NNP', '구입/NNG', '애/NNG', '부담/NNG', '남녀/NNP', '공용/NNP', '향도/NNP', '배/NNG', '송/NNP', '용량/NNP', '대신/NNG', '쑥/NNG', '향/NNG', '풀/NNG', '냄새/NNG', '만/NNB', '제품/NNP', '삽/NNG', '니다/NNP', '스킨/NNP', '오일/NNG', '미스트/NNP', '가격/NNP', '대비/NNP', '만족/NNG', '입/NNG', '니다/NNP', '용량/NNP', '대용량/NNG', '온몸/NNG', '계절/NNG', '건조/NNG', '얼굴/NNG', '화장/NNP', '솜/NNG', '팩/NNG', '사용/NNG', '용량/NNG', '가격/NNG', '것/NNB', '가격/NNG', '것/NNB', '라용/NNP', '량/NNB', '가격/NNG', '도/NNG', '구매/NNG', '스킨/NNP', '팩/NNG', '막/NNG', '쓰기/NNP', '성비/NNP', '제품/NNG', '세트/NNP', '행사/NNG', '상품/NNG', '용량/NNP', '만족/NNG', '향/NNG', '이정/NNP', '말/NNG', '요/NNG', '유통기한/NNP', '정/NNP', '효과/NNG', '사용/NNG', '만족/NNG', '건성/NNG', '질도/NNP', '타입/NNG', '구매/NNG', '추천/NNG', '조카/NNP', '선물/NNG', '요/NNG', '도전/NNG', '피부/NNG', '상품/NNP', '평/NNB', '좋아서/NNP', '구입/NNG', '사용/NNG', '전인/NNP', '데/NNB', '기대/NNG', '중/NNB', '완전/NNG', '강/NNP', '추/NNP', '대박/NNP', '가격/NNG', '클렌징/NNG', '폼/NNG', '건/NNB', '줄/NNB', '완전/NNG', '주위/NNG', '사람/NNG', '완전/NNG', '적극/NNG', '추천/NNG', '사람/NNG', '원/NNB', '사신/NNP', '듯/NNB', '겨울/NNG', '건조/NNG', '얼굴/NNG', '이랑/NNP', '바/NNB', '디/NNP', '보습/NNG', '신경/NNG', '향도/NNP', '딸아이/NNG', '여/NNG', '가격/NNP', '변동/NNP', '향/NNG', '인공/NNG', '거/NNB', '수분/NNP', '크림/NNP', '좋아서/NNP', '토너/NNP', '사용/NNG', '구매/NNG', '향도/NNP', '대용량/NNG', '향도/NNP', '양도/NNP', '처음/NNG', '사본/NNP', '브랜드/NNP', '딸아이/NNG', '것/NNB', '용량/NNP', '커서/NNP', '화장품/NNG', '냉장고/NNP', '보관/NNG', '중/NNB', '배/NNG', '송도/NNP', '예상/NNG', '배/NNG', '송/NNP', '날/NNG', '용량/NNP', '커서/NNP', '사용/NNG', '전인/NNP', '데/NNB', '용량/NNG', '향/NNG', '한편/NNG', '상품/NNG', '가격/NNG', '대비/NNG', '보지/NNP', '용량/NNP', '바/NNB', '수/NNB', '여드름/NNP', '피부/NNP', '딸아이/NNG', '구입/NNG', '보아/NNP', '요/NNP', '용량/NNG', '클렌징/NNG', '폼/NNG', '선물/NNP', '감사/NNG', '제품/NNG', '판매/NNG', '감사/NNG', '토너/NNP', '클렌징/NNG', '폼/NNG', '은박/NNG', '씨/NNB', '오픈/NNG', '토너/NNP', '텐/NNG', '데/NNB', '입구/NNG', '불편/NNG', '거/NNB', '행사/NNG', '구입/NNG', '올해/NNG', '구매/NNG', '양이/NNP', '대박/NNP', '학/NNG', '토로/NNP', '행사/NNP', '중/NNB', '마니/NNP', '파/NNP', '셈/NNB', '용량/NNP', '커서/NNP', '사용/NNG', '듯/NNB', '냄새/NNG', '별로/NNG', '인대/NNP', '거/NNB', '용량/NNP', '트러블/NNP', '용량/NNP', '원뿔/NNP', '원/NNB', '사용/NNG', '학/NNG', '토로/NNP', '배/NNG', '송/NNP', '가격/NNP', '대비/NNP', '만족/NNG', '스킨/NNP', '사용/NNG', '아침저녁/NNG', '회/NNB', '사용/NNG', '생각/NNG', '것/NNB', '용량/NNG', '가격/NNP', '대비/NNP', '용량/NNP', '촉/NNB', '촉/NNB', '하니/NNP', '구매/NNG', '느낌/NNG', '가격/NNG', '용량/NNP', '쑥/NNG', '향/NNG', '보습력/NNG', '향/NNG', '번/NNB', '구매/NNG', '가/NNG', '성비/NNP', '클렌징/NNG', '단계/NNG', '향도/NNG', '사용/NNG', '양/NNG', '거/NNB', '예/NNG', '성비/NNP', '갑/NNG', '부담/NNG', '쓰기/NNP', '전/NNG', '사용/NNG', '토너/NNP', '가격/NNG', '만족/NNG', '딸/NNG', '거/NNB', '구매/NNG', '성비/NNP', '갑/NNG', '제품/NNG', '세안/NNG', '후/NNG', '얼굴/NNG', '쑥/NNG', '향/NNG', '양이/NNP', '용도/NNG', '사용/NNG', '가격/NNP', '대비/NNP', '듯/NNB', '양이/NNP', '향도/NNG', '상품/NNG', '향도/NNP', '구매/NNG', '제품/NNG', '맘/NNG', '구매/NNG', '통째/NNG', '향/NNG', '양이/NNP', '대용량/NNG', '맘/NNG', '괘/NNG', '합/NNG', '니다/NNP', '향/NNG', '피부/NNG', '딸/NNG', '래미/NNP', '거/NNB', '예/NNG', '대용량/NNG', '부담/NNG', '대용량/NNG', '완전/NNG', '대/NNB', '용량/NNP', '향/NNG', '이랑/NNP', '수분/NNP', '감/NNG', '사용/NNG', '제품/NNG', '향도/NNP', '성비/NNP', '용량/NNP', '가격/NNG', '가격/NNG', '용량/NNP', '마음/NNG', '에/NNG', '대용량/NNG', '맘/NNG', '가격/NNP', '대/NNB', '비양도/NNP', '아/NNG', '오/NNP', '처음/NNG', '구매/NNG', '가격/NNP', '대비/NNP', '완전/NNG', '향도/NNG', '후기/NNG', '구매/NNG', '흡수/NNG', '가격/NNP', '만족/NNG', '것/NNB', '용량/NNP', '향도/NNP', '사용/NNG', '피부/NNG', '배/NNP', '송/NNP', '복합/NNG', '지성/NNP', '피부/NNP', '토너/NNP', '듯/NNB', '사용/NNG', '구매/NNG', '사업/NNG', '번창/NNG', '대박/NNP', '나세/NNP', '거/NNB', '구입/NNG', '향/NNG', '알콜/NNG', '향도/NNP', '진/NNG', '허브/NNP', '향도/NNP', '진/NNP', '하네/NNP', '요/NNP', '기존/NNG', '것/NNB', '굿/NNG', '굿/NNG', '굿/NNG', '조/NNP', '각질/NNG', '관리/NNG', '제품/NNP', '구매/NNG', '습/NNG', '니다/NNP', '토너/NNP', '구입/NNG', '애/NNG', '상품/NNP', '중/NNB', '상품/NNP', '난/NNG', '하네/NNP', '요/NNP', '퍼스트/NNP', '스킨/NNP', '사용/NNG', '샤워/NNP', '후/NNG', '다리/NNG', '로션/NNP', '바르/NNP', '기도/NNP', '하/NNP', '고대/NNP', '용량/NNP', '부담/NNG', '수/NNB', '사용/NNG', '전입/NNG', '니다/NNP', '스킨/NNP', '사용/NNG', '처음/NNG', '번/NNB', '구매/NNG', '가격/NNG', '만족/NNP', '하면/NNP', '단골/NNG', '용량/NNP', '제품/NNG', '좋아서/NNP', '구매/NNG', '스킨/NNG', '팩/NNG', '부담/NNG', '상품/NNG', '만족/NNG', '배/NNG', '송도/NNP', '만족/NNG', '꺼/NNB', '토너/NNP', '거/NNB', '피지/NNP', '분/NNB', '사용/NNG', '듯/NNB', '신랑/NNG', '에/NNG', '바스/NNP', '화장품/NNG', '지금/NNG', '크림/NNP', '샴푸/NNP', '등/NNB', '제품/NNG', '만족/NNG', '만족/NNG', '가격/NNG', '용량/NNP', '가격/NNG', '용량/NNP', '최고/NNP', '사은품/NNG', '폼/NNG', '클렌징/NNG', '감사/NNG', '용량/NNP', '최고/NNG', '사용/NNG', '중/NNB', '용량/NNP', '여유/NNG', '첨/NNG', '때/NNG', '느낌/NNG', '거/NNB', '구매/NNG', '만족/NNG', '부담/NNG', '사용/NNG', '용량/NNG', '부담/NNG', '사용/NNG']\n"
     ]
    }
   ],
   "source": [
    "total_analysis = []\n",
    "for row in df2:\n",
    "    try:\n",
    "        token_list = komoran_tokenize(row)\n",
    "        total_analysis.extend(token_list)\n",
    "    except:\n",
    "        #pass\n",
    "        continue\n",
    "        \n",
    "print(total_analysis)"
   ]
  },
  {
   "cell_type": "code",
   "execution_count": 84,
   "metadata": {
    "tags": []
   },
   "outputs": [
    {
     "output_type": "stream",
     "name": "stdout",
     "text": [
      "[('사용/NNG', 318), ('향/NNG', 257), ('구매/NNG', 240), ('것/NNB', 188), ('토너/NNP', 180), ('용량/NNP', 168), ('거/NNB', 128), ('가격/NNG', 122), ('쑥/NNG', 119), ('피부/NNG', 115), ('스킨/NNP', 105), ('대용량/NNG', 92), ('솜/NNG', 87), ('향도/NNP', 84), ('제품/NNG', 83), ('만족/NNG', 83), ('느낌/NNG', 80), ('화장/NNP', 75), ('배/NNG', 74), ('가격/NNP', 67), ('트러블/NNP', 65), ('번/NNB', 61), ('수/NNB', 59), ('성비/NNP', 59), ('때/NNG', 57), ('각질/NNG', 57), ('폼/NNG', 56), ('클렌징/NNG', 54), ('얼굴/NNG', 53), ('냄새/NNG', 53), ('피부/NNP', 52), ('팩/NNG', 51), ('구입/NNG', 50), ('데/NNB', 50), ('송/NNP', 50), ('듯/NNB', 48), ('양이/NNP', 48), ('처음/NNG', 46), ('요/NNP', 45), ('부담/NNG', 44), ('자극/NNG', 44), ('성분/NNG', 44), ('생각/NNG', 44), ('쓰기/NNP', 41), ('후/NNG', 40), ('양도/NNP', 39), ('개/NNB', 38), ('감사/NNG', 38), ('추천/NNG', 38), ('맘/NNG', 37), ('대비/NNP', 36), ('중/NNB', 35), ('분/NNB', 34), ('수분/NNP', 34), ('진정/NNP', 33), ('안/NNG', 33), ('전/NNG', 33), ('학/NNG', 32), ('제품/NNP', 32), ('건/NNB', 31), ('세안/NNG', 31), ('주문/NNG', 31), ('사은품/NNG', 30), ('효과/NNG', 29), ('크림/NNP', 29), ('평/NNB', 29), ('넘/NNG', 28), ('송도/NNP', 28), ('여름/NNG', 27), ('건조/NNG', 27), ('후기/NNG', 27), ('제거/NNG', 26), ('편/NNB', 26), ('기대/NNG', 26), ('굿/NNG', 26), ('상품/NNG', 25), ('완전/NNG', 25), ('대/NNB', 24), ('감/NNG', 24), ('요/NNG', 24), ('좋아서/NNP', 23), ('용량/NNG', 23), ('물/NNG', 22), ('바/NNB', 22), ('상품/NNP', 21), ('자연/NNG', 20), ('만족/NNP', 20), ('한/NNP', 20), ('원/NNB', 19), ('커서/NNP', 18), ('향기/NNG', 18), ('이랑/NNP', 18), ('예/NNG', 18), ('용도/NNG', 18), ('해/NNG', 18), ('향도/NNG', 18), ('배/NNP', 18), ('허브/NNP', 17), ('정도/NNG', 17), ('걱정/NNG', 17)]\n"
     ]
    }
   ],
   "source": [
    "# 명사만 추출한 것\n",
    "from collections import Counter\n",
    "\n",
    "count_result = Counter(total_analysis).most_common(100)\n",
    "print(count_result)"
   ]
  },
  {
   "cell_type": "code",
   "execution_count": 115,
   "metadata": {
    "tags": []
   },
   "outputs": [
    {
     "output_type": "stream",
     "name": "stdout",
     "text": [
      "['쑥 들어간 제품들을 평소에 좋아해서 쑥 화장품으로 대부분 쓰려고 해요 아침 저녁으로 매일 매일 쓰기에 부담이 없고 좋습니다자연약쑥 진정 토너라 자극없이 쓰기에도 좋고 녹차 루이보스 캐모마일 쑥 페퍼민트 로즈마리 유칼리투스잎이 들어간 그린 허브 성분이라 피부 진정에도 도움이 되는거 같아요', '화장품 상자에 한번 더 뽁뽁이  포장으로  꼼꼼하게 담아져 있었고  화장품 용기는 플라스틱 용기인데  용량이 커서  한참 쓸 수 있어 좋네요 뚜껑을 열었을때  향기 좋네 하는 느낌이 없으니 향을 중요시  하는 분은  좋아하지  않을 듯 하네요바르고 조금 시간이 지나면  향이  없어지는 것  같아요용기에 적혀 있는 글씨가 너무 적어  안보였는데 세트 구입했더니 앰플인지 뭔지 모르겠는데  작은 샘플이 개가 있네요  싼 가격에  이 구성이면  좋네요', '대용량에 헐 감동입니다 개는 지인도 팍팍 쓰라고 선물했어요이건 화장솜에 듬뿍 하셔서 많이 하셔도 흡수는 잘됩니다 저는 얼굴에 흡수가 안되는 타입인데 제품이 흡수 잘되고요 약간의 알콜냄새는 살짝 스치는 정도 입니다 코로나에 다들 든데 이 가격에 정말 감사합니다 마구 쓰시고 싶은 분은 구입 하시고 쫀질한 느낌과 깊은 느낌분들은 살짝 고민하시고 클렌징으로 쓰고 싶다 하시는 분들은 차 쓰시고 고가의 스킨을 바르시는것도 좋을듯 합니다']\n"
     ]
    }
   ],
   "source": [
    "print(list(df2)[0:3])"
   ]
  },
  {
   "cell_type": "code",
   "execution_count": 119,
   "metadata": {},
   "outputs": [
    {
     "output_type": "error",
     "ename": "UnboundLocalError",
     "evalue": "local variable 'words' referenced before assignment",
     "traceback": [
      "\u001b[1;31m---------------------------------------------------------------------------\u001b[0m",
      "\u001b[1;31mUnboundLocalError\u001b[0m                         Traceback (most recent call last)",
      "\u001b[1;32m<ipython-input-119-32dfb3df3830>\u001b[0m in \u001b[0;36m<module>\u001b[1;34m\u001b[0m\n\u001b[0;32m     11\u001b[0m )\n\u001b[0;32m     12\u001b[0m \u001b[1;33m\u001b[0m\u001b[0m\n\u001b[1;32m---> 13\u001b[1;33m \u001b[0mkeysents\u001b[0m \u001b[1;33m=\u001b[0m \u001b[0msummarizer\u001b[0m\u001b[1;33m.\u001b[0m\u001b[0msummarize\u001b[0m\u001b[1;33m(\u001b[0m\u001b[0mlist\u001b[0m\u001b[1;33m(\u001b[0m\u001b[0mdf2\u001b[0m\u001b[1;33m)\u001b[0m\u001b[1;33m[\u001b[0m\u001b[1;33m:\u001b[0m\u001b[1;33m]\u001b[0m\u001b[1;33m,\u001b[0m \u001b[0mtopk\u001b[0m\u001b[1;33m=\u001b[0m\u001b[1;36m3\u001b[0m\u001b[1;33m)\u001b[0m\u001b[1;33m\u001b[0m\u001b[1;33m\u001b[0m\u001b[0m\n\u001b[0m\u001b[0;32m     14\u001b[0m \u001b[0mprint\u001b[0m\u001b[1;33m(\u001b[0m\u001b[0mkeysents\u001b[0m\u001b[1;33m)\u001b[0m\u001b[1;33m\u001b[0m\u001b[1;33m\u001b[0m\u001b[0m\n",
      "\u001b[1;32mc:\\Users\\pil\\Python\\NLP\\review crawing\\textranks\\textrank\\summarizer.py\u001b[0m in \u001b[0;36msummarize\u001b[1;34m(self, sents, topk, bias)\u001b[0m\n\u001b[0;32m    192\u001b[0m             \u001b[1;32mraise\u001b[0m \u001b[0mValueError\u001b[0m\u001b[1;33m(\u001b[0m\u001b[1;34m'The type of bias must be None or numpy.ndarray but the type is {}'\u001b[0m\u001b[1;33m.\u001b[0m\u001b[0mformat\u001b[0m\u001b[1;33m(\u001b[0m\u001b[0mtype\u001b[0m\u001b[1;33m(\u001b[0m\u001b[0mbias\u001b[0m\u001b[1;33m)\u001b[0m\u001b[1;33m)\u001b[0m\u001b[1;33m)\u001b[0m\u001b[1;33m\u001b[0m\u001b[1;33m\u001b[0m\u001b[0m\n\u001b[0;32m    193\u001b[0m \u001b[1;33m\u001b[0m\u001b[0m\n\u001b[1;32m--> 194\u001b[1;33m         \u001b[0mself\u001b[0m\u001b[1;33m.\u001b[0m\u001b[0mtrain_textrank\u001b[0m\u001b[1;33m(\u001b[0m\u001b[0msents\u001b[0m\u001b[1;33m,\u001b[0m \u001b[0mbias\u001b[0m\u001b[1;33m)\u001b[0m\u001b[1;33m\u001b[0m\u001b[1;33m\u001b[0m\u001b[0m\n\u001b[0m\u001b[0;32m    195\u001b[0m         \u001b[0midxs\u001b[0m \u001b[1;33m=\u001b[0m \u001b[0mself\u001b[0m\u001b[1;33m.\u001b[0m\u001b[0mR\u001b[0m\u001b[1;33m.\u001b[0m\u001b[0margsort\u001b[0m\u001b[1;33m(\u001b[0m\u001b[1;33m)\u001b[0m\u001b[1;33m[\u001b[0m\u001b[1;33m-\u001b[0m\u001b[0mtopk\u001b[0m\u001b[1;33m:\u001b[0m\u001b[1;33m]\u001b[0m\u001b[1;33m\u001b[0m\u001b[1;33m\u001b[0m\u001b[0m\n\u001b[0;32m    196\u001b[0m         \u001b[0mkeysents\u001b[0m \u001b[1;33m=\u001b[0m \u001b[1;33m[\u001b[0m\u001b[1;33m(\u001b[0m\u001b[0midx\u001b[0m\u001b[1;33m,\u001b[0m \u001b[0mself\u001b[0m\u001b[1;33m.\u001b[0m\u001b[0mR\u001b[0m\u001b[1;33m[\u001b[0m\u001b[0midx\u001b[0m\u001b[1;33m]\u001b[0m\u001b[1;33m,\u001b[0m \u001b[0msents\u001b[0m\u001b[1;33m[\u001b[0m\u001b[0midx\u001b[0m\u001b[1;33m]\u001b[0m\u001b[1;33m)\u001b[0m \u001b[1;32mfor\u001b[0m \u001b[0midx\u001b[0m \u001b[1;32min\u001b[0m \u001b[0mreversed\u001b[0m\u001b[1;33m(\u001b[0m\u001b[0midxs\u001b[0m\u001b[1;33m)\u001b[0m\u001b[1;33m]\u001b[0m\u001b[1;33m\u001b[0m\u001b[1;33m\u001b[0m\u001b[0m\n",
      "\u001b[1;32mc:\\Users\\pil\\Python\\NLP\\review crawing\\textranks\\textrank\\summarizer.py\u001b[0m in \u001b[0;36mtrain_textrank\u001b[1;34m(self, sents, bias)\u001b[0m\n\u001b[0;32m    156\u001b[0m         \"\"\"\n\u001b[0;32m    157\u001b[0m         g = sent_graph(sents, self.tokenize, self.min_count,\n\u001b[1;32m--> 158\u001b[1;33m             self.min_sim, self.similarity, self.vocab_to_idx, self.verbose)\n\u001b[0m\u001b[0;32m    159\u001b[0m         \u001b[0mself\u001b[0m\u001b[1;33m.\u001b[0m\u001b[0mR\u001b[0m \u001b[1;33m=\u001b[0m \u001b[0mpagerank\u001b[0m\u001b[1;33m(\u001b[0m\u001b[0mg\u001b[0m\u001b[1;33m,\u001b[0m \u001b[0mself\u001b[0m\u001b[1;33m.\u001b[0m\u001b[0mdf\u001b[0m\u001b[1;33m,\u001b[0m \u001b[0mself\u001b[0m\u001b[1;33m.\u001b[0m\u001b[0mmax_iter\u001b[0m\u001b[1;33m,\u001b[0m \u001b[0mbias\u001b[0m\u001b[1;33m)\u001b[0m\u001b[1;33m.\u001b[0m\u001b[0mreshape\u001b[0m\u001b[1;33m(\u001b[0m\u001b[1;33m-\u001b[0m\u001b[1;36m1\u001b[0m\u001b[1;33m)\u001b[0m\u001b[1;33m\u001b[0m\u001b[1;33m\u001b[0m\u001b[0m\n\u001b[0;32m    160\u001b[0m         \u001b[1;32mif\u001b[0m \u001b[0mself\u001b[0m\u001b[1;33m.\u001b[0m\u001b[0mverbose\u001b[0m\u001b[1;33m:\u001b[0m\u001b[1;33m\u001b[0m\u001b[1;33m\u001b[0m\u001b[0m\n",
      "\u001b[1;32mc:\\Users\\pil\\Python\\NLP\\review crawing\\textranks\\textrank\\sentence.py\u001b[0m in \u001b[0;36msent_graph\u001b[1;34m(sents, tokenize, min_count, min_sim, similarity, vocab_to_idx, verbose)\u001b[0m\n\u001b[0;32m     40\u001b[0m \u001b[1;33m\u001b[0m\u001b[0m\n\u001b[0;32m     41\u001b[0m     \u001b[1;32mif\u001b[0m \u001b[0mvocab_to_idx\u001b[0m \u001b[1;32mis\u001b[0m \u001b[1;32mNone\u001b[0m\u001b[1;33m:\u001b[0m\u001b[1;33m\u001b[0m\u001b[1;33m\u001b[0m\u001b[0m\n\u001b[1;32m---> 42\u001b[1;33m         \u001b[0midx_to_vocab\u001b[0m\u001b[1;33m,\u001b[0m \u001b[0mvocab_to_idx\u001b[0m \u001b[1;33m=\u001b[0m \u001b[0mscan_vocabulary\u001b[0m\u001b[1;33m(\u001b[0m\u001b[0msents\u001b[0m\u001b[1;33m,\u001b[0m \u001b[0mtokenize\u001b[0m\u001b[1;33m,\u001b[0m \u001b[0mmin_count\u001b[0m\u001b[1;33m)\u001b[0m\u001b[1;33m\u001b[0m\u001b[1;33m\u001b[0m\u001b[0m\n\u001b[0m\u001b[0;32m     43\u001b[0m     \u001b[1;32melse\u001b[0m\u001b[1;33m:\u001b[0m\u001b[1;33m\u001b[0m\u001b[1;33m\u001b[0m\u001b[0m\n\u001b[0;32m     44\u001b[0m         \u001b[0midx_to_vocab\u001b[0m \u001b[1;33m=\u001b[0m \u001b[1;33m[\u001b[0m\u001b[0mvocab\u001b[0m \u001b[1;32mfor\u001b[0m \u001b[0mvocab\u001b[0m\u001b[1;33m,\u001b[0m \u001b[0m_\u001b[0m \u001b[1;32min\u001b[0m \u001b[0msorted\u001b[0m\u001b[1;33m(\u001b[0m\u001b[0mvocab_to_idx\u001b[0m\u001b[1;33m.\u001b[0m\u001b[0mitems\u001b[0m\u001b[1;33m(\u001b[0m\u001b[1;33m)\u001b[0m\u001b[1;33m,\u001b[0m \u001b[0mkey\u001b[0m\u001b[1;33m=\u001b[0m\u001b[1;32mlambda\u001b[0m \u001b[0mx\u001b[0m\u001b[1;33m:\u001b[0m\u001b[0mx\u001b[0m\u001b[1;33m[\u001b[0m\u001b[1;36m1\u001b[0m\u001b[1;33m]\u001b[0m\u001b[1;33m)\u001b[0m\u001b[1;33m]\u001b[0m\u001b[1;33m\u001b[0m\u001b[1;33m\u001b[0m\u001b[0m\n",
      "\u001b[1;32mc:\\Users\\pil\\Python\\NLP\\review crawing\\textranks\\textrank\\utils.py\u001b[0m in \u001b[0;36mscan_vocabulary\u001b[1;34m(sents, tokenize, min_count)\u001b[0m\n\u001b[0;32m     22\u001b[0m         \u001b[0mVocabulary\u001b[0m \u001b[0mto\u001b[0m \u001b[0mindex\u001b[0m \u001b[0mmapper\u001b[0m\u001b[1;33m.\u001b[0m\u001b[1;33m\u001b[0m\u001b[1;33m\u001b[0m\u001b[0m\n\u001b[0;32m     23\u001b[0m     \"\"\"\n\u001b[1;32m---> 24\u001b[1;33m     \u001b[0mcounter\u001b[0m \u001b[1;33m=\u001b[0m \u001b[0mCounter\u001b[0m\u001b[1;33m(\u001b[0m\u001b[0mw\u001b[0m \u001b[1;32mfor\u001b[0m \u001b[0msent\u001b[0m \u001b[1;32min\u001b[0m \u001b[0msents\u001b[0m \u001b[1;32mfor\u001b[0m \u001b[0mw\u001b[0m \u001b[1;32min\u001b[0m \u001b[0mtokenize\u001b[0m\u001b[1;33m(\u001b[0m\u001b[0msent\u001b[0m\u001b[1;33m)\u001b[0m\u001b[1;33m)\u001b[0m\u001b[1;33m\u001b[0m\u001b[1;33m\u001b[0m\u001b[0m\n\u001b[0m\u001b[0;32m     25\u001b[0m     \u001b[0mcounter\u001b[0m \u001b[1;33m=\u001b[0m \u001b[1;33m{\u001b[0m\u001b[0mw\u001b[0m\u001b[1;33m:\u001b[0m\u001b[0mc\u001b[0m \u001b[1;32mfor\u001b[0m \u001b[0mw\u001b[0m\u001b[1;33m,\u001b[0m\u001b[0mc\u001b[0m \u001b[1;32min\u001b[0m \u001b[0mcounter\u001b[0m\u001b[1;33m.\u001b[0m\u001b[0mitems\u001b[0m\u001b[1;33m(\u001b[0m\u001b[1;33m)\u001b[0m \u001b[1;32mif\u001b[0m \u001b[0mc\u001b[0m \u001b[1;33m>=\u001b[0m \u001b[0mmin_count\u001b[0m\u001b[1;33m}\u001b[0m\u001b[1;33m\u001b[0m\u001b[1;33m\u001b[0m\u001b[0m\n\u001b[0;32m     26\u001b[0m     \u001b[0midx_to_vocab\u001b[0m \u001b[1;33m=\u001b[0m \u001b[1;33m[\u001b[0m\u001b[0mw\u001b[0m \u001b[1;32mfor\u001b[0m \u001b[0mw\u001b[0m\u001b[1;33m,\u001b[0m \u001b[0m_\u001b[0m \u001b[1;32min\u001b[0m \u001b[0msorted\u001b[0m\u001b[1;33m(\u001b[0m\u001b[0mcounter\u001b[0m\u001b[1;33m.\u001b[0m\u001b[0mitems\u001b[0m\u001b[1;33m(\u001b[0m\u001b[1;33m)\u001b[0m\u001b[1;33m,\u001b[0m \u001b[0mkey\u001b[0m\u001b[1;33m=\u001b[0m\u001b[1;32mlambda\u001b[0m \u001b[0mx\u001b[0m\u001b[1;33m:\u001b[0m\u001b[1;33m-\u001b[0m\u001b[0mx\u001b[0m\u001b[1;33m[\u001b[0m\u001b[1;36m1\u001b[0m\u001b[1;33m]\u001b[0m\u001b[1;33m)\u001b[0m\u001b[1;33m]\u001b[0m\u001b[1;33m\u001b[0m\u001b[1;33m\u001b[0m\u001b[0m\n",
      "\u001b[1;32m~\\Anaconda3\\lib\\collections\\__init__.py\u001b[0m in \u001b[0;36m__init__\u001b[1;34m(*args, **kwds)\u001b[0m\n\u001b[0;32m    566\u001b[0m             \u001b[1;32mraise\u001b[0m \u001b[0mTypeError\u001b[0m\u001b[1;33m(\u001b[0m\u001b[1;34m'expected at most 1 arguments, got %d'\u001b[0m \u001b[1;33m%\u001b[0m \u001b[0mlen\u001b[0m\u001b[1;33m(\u001b[0m\u001b[0margs\u001b[0m\u001b[1;33m)\u001b[0m\u001b[1;33m)\u001b[0m\u001b[1;33m\u001b[0m\u001b[1;33m\u001b[0m\u001b[0m\n\u001b[0;32m    567\u001b[0m         \u001b[0msuper\u001b[0m\u001b[1;33m(\u001b[0m\u001b[0mCounter\u001b[0m\u001b[1;33m,\u001b[0m \u001b[0mself\u001b[0m\u001b[1;33m)\u001b[0m\u001b[1;33m.\u001b[0m\u001b[0m__init__\u001b[0m\u001b[1;33m(\u001b[0m\u001b[1;33m)\u001b[0m\u001b[1;33m\u001b[0m\u001b[1;33m\u001b[0m\u001b[0m\n\u001b[1;32m--> 568\u001b[1;33m         \u001b[0mself\u001b[0m\u001b[1;33m.\u001b[0m\u001b[0mupdate\u001b[0m\u001b[1;33m(\u001b[0m\u001b[1;33m*\u001b[0m\u001b[0margs\u001b[0m\u001b[1;33m,\u001b[0m \u001b[1;33m**\u001b[0m\u001b[0mkwds\u001b[0m\u001b[1;33m)\u001b[0m\u001b[1;33m\u001b[0m\u001b[1;33m\u001b[0m\u001b[0m\n\u001b[0m\u001b[0;32m    569\u001b[0m \u001b[1;33m\u001b[0m\u001b[0m\n\u001b[0;32m    570\u001b[0m     \u001b[1;32mdef\u001b[0m \u001b[0m__missing__\u001b[0m\u001b[1;33m(\u001b[0m\u001b[0mself\u001b[0m\u001b[1;33m,\u001b[0m \u001b[0mkey\u001b[0m\u001b[1;33m)\u001b[0m\u001b[1;33m:\u001b[0m\u001b[1;33m\u001b[0m\u001b[1;33m\u001b[0m\u001b[0m\n",
      "\u001b[1;32m~\\Anaconda3\\lib\\collections\\__init__.py\u001b[0m in \u001b[0;36mupdate\u001b[1;34m(*args, **kwds)\u001b[0m\n\u001b[0;32m    653\u001b[0m                     \u001b[0msuper\u001b[0m\u001b[1;33m(\u001b[0m\u001b[0mCounter\u001b[0m\u001b[1;33m,\u001b[0m \u001b[0mself\u001b[0m\u001b[1;33m)\u001b[0m\u001b[1;33m.\u001b[0m\u001b[0mupdate\u001b[0m\u001b[1;33m(\u001b[0m\u001b[0miterable\u001b[0m\u001b[1;33m)\u001b[0m \u001b[1;31m# fast path when counter is empty\u001b[0m\u001b[1;33m\u001b[0m\u001b[1;33m\u001b[0m\u001b[0m\n\u001b[0;32m    654\u001b[0m             \u001b[1;32melse\u001b[0m\u001b[1;33m:\u001b[0m\u001b[1;33m\u001b[0m\u001b[1;33m\u001b[0m\u001b[0m\n\u001b[1;32m--> 655\u001b[1;33m                 \u001b[0m_count_elements\u001b[0m\u001b[1;33m(\u001b[0m\u001b[0mself\u001b[0m\u001b[1;33m,\u001b[0m \u001b[0miterable\u001b[0m\u001b[1;33m)\u001b[0m\u001b[1;33m\u001b[0m\u001b[1;33m\u001b[0m\u001b[0m\n\u001b[0m\u001b[0;32m    656\u001b[0m         \u001b[1;32mif\u001b[0m \u001b[0mkwds\u001b[0m\u001b[1;33m:\u001b[0m\u001b[1;33m\u001b[0m\u001b[1;33m\u001b[0m\u001b[0m\n\u001b[0;32m    657\u001b[0m             \u001b[0mself\u001b[0m\u001b[1;33m.\u001b[0m\u001b[0mupdate\u001b[0m\u001b[1;33m(\u001b[0m\u001b[0mkwds\u001b[0m\u001b[1;33m)\u001b[0m\u001b[1;33m\u001b[0m\u001b[1;33m\u001b[0m\u001b[0m\n",
      "\u001b[1;32mc:\\Users\\pil\\Python\\NLP\\review crawing\\textranks\\textrank\\utils.py\u001b[0m in \u001b[0;36m<genexpr>\u001b[1;34m(.0)\u001b[0m\n\u001b[0;32m     22\u001b[0m         \u001b[0mVocabulary\u001b[0m \u001b[0mto\u001b[0m \u001b[0mindex\u001b[0m \u001b[0mmapper\u001b[0m\u001b[1;33m.\u001b[0m\u001b[1;33m\u001b[0m\u001b[1;33m\u001b[0m\u001b[0m\n\u001b[0;32m     23\u001b[0m     \"\"\"\n\u001b[1;32m---> 24\u001b[1;33m     \u001b[0mcounter\u001b[0m \u001b[1;33m=\u001b[0m \u001b[0mCounter\u001b[0m\u001b[1;33m(\u001b[0m\u001b[0mw\u001b[0m \u001b[1;32mfor\u001b[0m \u001b[0msent\u001b[0m \u001b[1;32min\u001b[0m \u001b[0msents\u001b[0m \u001b[1;32mfor\u001b[0m \u001b[0mw\u001b[0m \u001b[1;32min\u001b[0m \u001b[0mtokenize\u001b[0m\u001b[1;33m(\u001b[0m\u001b[0msent\u001b[0m\u001b[1;33m)\u001b[0m\u001b[1;33m)\u001b[0m\u001b[1;33m\u001b[0m\u001b[1;33m\u001b[0m\u001b[0m\n\u001b[0m\u001b[0;32m     25\u001b[0m     \u001b[0mcounter\u001b[0m \u001b[1;33m=\u001b[0m \u001b[1;33m{\u001b[0m\u001b[0mw\u001b[0m\u001b[1;33m:\u001b[0m\u001b[0mc\u001b[0m \u001b[1;32mfor\u001b[0m \u001b[0mw\u001b[0m\u001b[1;33m,\u001b[0m\u001b[0mc\u001b[0m \u001b[1;32min\u001b[0m \u001b[0mcounter\u001b[0m\u001b[1;33m.\u001b[0m\u001b[0mitems\u001b[0m\u001b[1;33m(\u001b[0m\u001b[1;33m)\u001b[0m \u001b[1;32mif\u001b[0m \u001b[0mc\u001b[0m \u001b[1;33m>=\u001b[0m \u001b[0mmin_count\u001b[0m\u001b[1;33m}\u001b[0m\u001b[1;33m\u001b[0m\u001b[1;33m\u001b[0m\u001b[0m\n\u001b[0;32m     26\u001b[0m     \u001b[0midx_to_vocab\u001b[0m \u001b[1;33m=\u001b[0m \u001b[1;33m[\u001b[0m\u001b[0mw\u001b[0m \u001b[1;32mfor\u001b[0m \u001b[0mw\u001b[0m\u001b[1;33m,\u001b[0m \u001b[0m_\u001b[0m \u001b[1;32min\u001b[0m \u001b[0msorted\u001b[0m\u001b[1;33m(\u001b[0m\u001b[0mcounter\u001b[0m\u001b[1;33m.\u001b[0m\u001b[0mitems\u001b[0m\u001b[1;33m(\u001b[0m\u001b[1;33m)\u001b[0m\u001b[1;33m,\u001b[0m \u001b[0mkey\u001b[0m\u001b[1;33m=\u001b[0m\u001b[1;32mlambda\u001b[0m \u001b[0mx\u001b[0m\u001b[1;33m:\u001b[0m\u001b[1;33m-\u001b[0m\u001b[0mx\u001b[0m\u001b[1;33m[\u001b[0m\u001b[1;36m1\u001b[0m\u001b[1;33m]\u001b[0m\u001b[1;33m)\u001b[0m\u001b[1;33m]\u001b[0m\u001b[1;33m\u001b[0m\u001b[1;33m\u001b[0m\u001b[0m\n",
      "\u001b[1;32m<ipython-input-118-1c627371ef61>\u001b[0m in \u001b[0;36mkomoran_tokenizer\u001b[1;34m(sent)\u001b[0m\n\u001b[0;32m      6\u001b[0m \u001b[1;32mdef\u001b[0m \u001b[0mkomoran_tokenizer\u001b[0m\u001b[1;33m(\u001b[0m\u001b[0msent\u001b[0m\u001b[1;33m)\u001b[0m\u001b[1;33m:\u001b[0m\u001b[1;33m\u001b[0m\u001b[1;33m\u001b[0m\u001b[0m\n\u001b[0;32m      7\u001b[0m     \u001b[1;31m#words = komoran.pos(sent, join=True)\u001b[0m\u001b[1;33m\u001b[0m\u001b[1;33m\u001b[0m\u001b[1;33m\u001b[0m\u001b[0m\n\u001b[1;32m----> 8\u001b[1;33m     \u001b[0mwords\u001b[0m \u001b[1;33m=\u001b[0m \u001b[1;33m[\u001b[0m\u001b[0mw\u001b[0m \u001b[1;32mfor\u001b[0m \u001b[0mw\u001b[0m \u001b[1;32min\u001b[0m \u001b[0mwords\u001b[0m \u001b[1;32mif\u001b[0m \u001b[1;33m(\u001b[0m\u001b[1;34m'/NN'\u001b[0m \u001b[1;32min\u001b[0m \u001b[0mw\u001b[0m \u001b[1;32mor\u001b[0m \u001b[1;34m'/XR'\u001b[0m \u001b[1;32min\u001b[0m \u001b[0mw\u001b[0m \u001b[1;32mor\u001b[0m \u001b[1;34m'/VA'\u001b[0m \u001b[1;32min\u001b[0m \u001b[0mw\u001b[0m \u001b[1;32mor\u001b[0m \u001b[1;34m'/VV'\u001b[0m \u001b[1;32min\u001b[0m \u001b[0mw\u001b[0m\u001b[1;33m)\u001b[0m\u001b[1;33m]\u001b[0m\u001b[1;33m\u001b[0m\u001b[1;33m\u001b[0m\u001b[0m\n\u001b[0m\u001b[0;32m      9\u001b[0m     \u001b[1;31m#words = [w for w in words if ('/NN' in w )]\u001b[0m\u001b[1;33m\u001b[0m\u001b[1;33m\u001b[0m\u001b[1;33m\u001b[0m\u001b[0m\n\u001b[0;32m     10\u001b[0m     \u001b[1;32mreturn\u001b[0m \u001b[0mwords\u001b[0m\u001b[1;33m\u001b[0m\u001b[1;33m\u001b[0m\u001b[0m\n",
      "\u001b[1;31mUnboundLocalError\u001b[0m: local variable 'words' referenced before assignment"
     ]
    }
   ],
   "source": [
    "# TextRank 중요문장 10개 추출\n",
    "from textranks.textrank import KeysentenceSummarizer\n",
    "from konlpy.tag import Komoran\n",
    "\n",
    "komoran = Komoran()\n",
    "\n",
    "summarizer = KeysentenceSummarizer(\n",
    "    tokenize = komoran_tokenizer,\n",
    "    min_sim = 0.3,\n",
    "    verbose = False\n",
    ")\n",
    "\n",
    "keysents = summarizer.summarize(list(df2)[:], topk=3)\n",
    "print(keysents)"
   ]
  },
  {
   "cell_type": "code",
   "execution_count": null,
   "metadata": {},
   "outputs": [],
   "source": []
  }
 ],
 "metadata": {
  "kernelspec": {
   "name": "python374jvsc74a57bd0fc0dd9cb2f9514df2070d123e881f1c1ba8233769b87faa9f0e666abc050ad92",
   "display_name": "Python 3.7.4 64-bit ('base': conda)"
  },
  "language_info": {
   "codemirror_mode": {
    "name": "ipython",
    "version": 3
   },
   "file_extension": ".py",
   "mimetype": "text/x-python",
   "name": "python",
   "nbconvert_exporter": "python",
   "pygments_lexer": "ipython3",
   "version": "3.7.4"
  },
  "metadata": {
   "interpreter": {
    "hash": "63fd5069d213b44bf678585dea6b12cceca9941eaf7f819626cde1f2670de90d"
   }
  }
 },
 "nbformat": 4,
 "nbformat_minor": 5
}