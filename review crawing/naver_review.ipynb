{
 "cells": [
  {
   "cell_type": "code",
   "execution_count": null,
   "id": "marine-criterion",
   "metadata": {},
   "outputs": [],
   "source": [
    "# first_session\n",
    "# 교보문고 순위 가져오기\n",
    "\n",
    "import urllib.parse as rep\n",
    "import urllib.request as req\n",
    "from bs4 import BeautifulSoup\n",
    "from fake_useragent import UserAgent\n",
    "import gzip\n",
    "import pandas as pd\n",
    "import json"
   ]
  },
  {
   "cell_type": "code",
   "execution_count": null,
   "id": "sophisticated-judgment",
   "metadata": {},
   "outputs": [],
   "source": [
    "\n",
    "\n",
    "# Header 정보 초기화\n",
    "opener = req.build_opener()\n",
    "# User-Agent 정보\n",
    "opener.addheaders = [('User-agent', UserAgent().ie)]\n",
    "# Header 정보 삽입\n",
    "req.install_opener(opener)\n",
    "\n",
    "# 쇼핑 댓글 요청 헤더\n",
    "# https://search.shopping.naver.com/catalog/24178126692?cat_id=50000814&nv_mid=24178126692&NaPm=ct%3Dkmochwcg%7Cci%3D5fbcf90319f44a9577a7ba53d9afec4cf0af44e8%7Ctr%3Dsl%7Csn%3D95694%7Chk%3D180c476dc3ec1764ae9d356ee403773d5f2382ca\n",
    "# https://search.shopping.naver.com/catalog/14742158672?NaPm=ct%3Dkmyyltb4%7Cci%3D8fb2739c338be12299472ccff160ded9bc19122f%7Ctr%3Dslsl%7Csn%3D95694%7Chk%3D0186b9292ab060733115318dcfd65d3aefb527b7\n",
    "\n",
    "    \n",
    "# Request\n",
    "flag = True\n",
    "pageNum = 1\n",
    "result = []\n",
    "while flag:\n",
    "    try:\n",
    "        \n",
    "        # 쇼핑 댓글 요청 헤더\n",
    "        hdr = {'authority': 'search.shopping.naver.com', \\\n",
    "        'method': 'GET',\\\n",
    "        'path': '/review?nvMid=14742158672&reviewType=ALL&sort=QUALITY&isNeedAggregation=N&isApplyFilter=N&page='+str(pageNum)+'&pageSize=20',\\\n",
    "        'scheme': 'https',\\\n",
    "        'accept': 'application/json, text/plain, */*',\\\n",
    "        'accept-encoding': 'gzip, deflate, br',\\\n",
    "        'accept-language': 'ko-KR,ko;q=0.9,en-US;q=0.8,en;q=0.7',\\\n",
    "        'cache-control': 'no-cache',\\\n",
    "        'pragma': 'no-cache',\\\n",
    "        'referer': 'https://search.shopping.naver.com/catalog/14742158672?NaPm=ct%3Dkmyyltb4%7Cci%3D8fb2739c338be12299472ccff160ded9bc19122f%7Ctr%3Dslsl%7Csn%3D95694%7Chk%3D0186b9292ab060733115318dcfd65d3aefb527b7',\\\n",
    "        'sec-ch-ua': '\"Google Chrome\";v=\"89\", \"Chromium\";v=\"89\", \";Not A Brand\";v=\"99\"',\\\n",
    "        'sec-ch-ua-mobile': '?0',\\\n",
    "        'sec-fetch-dest': 'empty',\\\n",
    "        'sec-fetch-mode': 'cors',\\\n",
    "        'sec-fetch-site': 'same-origin',\\\n",
    "        'urlprefix': '/api',\\\n",
    "        'user-agent': 'M'}\n",
    "\n",
    "        url = 'https://search.shopping.naver.com/review?nvMid=14742158672&reviewType=ALL&sort=QUALITY&isNeedAggregation=N&isApplyFilter=N&page='+str(pageNum)+'&pageSize=20'        \n",
    "        \n",
    "        reqeust = req.Request(url,headers=hdr)\n",
    "        res = gzip.decompress(req.urlopen(reqeust).read()).decode('utf-8')\n",
    "        #print(res)\n",
    "        data = json.loads(res)\n",
    "        result.extend(data['reviews'])\n",
    "        pageNum = pageNum + 1\n",
    "    except:\n",
    "        print('더 없음')\n",
    "        flag = False\n",
    "\n",
    "\n",
    "#res = req.urlopen(reqeust).read().decode('utf-8')\n",
    "\n"
   ]
  },
  {
   "cell_type": "code",
   "execution_count": null,
   "id": "individual-checklist",
   "metadata": {},
   "outputs": [],
   "source": [
    "len(result)"
   ]
  },
  {
   "cell_type": "code",
   "execution_count": null,
   "id": "three-citation",
   "metadata": {},
   "outputs": [],
   "source": [
    "result[6]"
   ]
  },
  {
   "cell_type": "code",
   "execution_count": null,
   "id": "distributed-effect",
   "metadata": {},
   "outputs": [],
   "source": [
    "df = pd.DataFrame(result)\n",
    "df.info()"
   ]
  },
  {
   "cell_type": "code",
   "execution_count": null,
   "id": "earlier-mistress",
   "metadata": {},
   "outputs": [],
   "source": [
    "df.tail()"
   ]
  },
  {
   "cell_type": "code",
   "execution_count": null,
   "id": "closed-repair",
   "metadata": {},
   "outputs": [],
   "source": [
    "df = df[['content','starScore']]"
   ]
  },
  {
   "cell_type": "code",
   "execution_count": null,
   "id": "polished-lemon",
   "metadata": {},
   "outputs": [],
   "source": [
    "df.to_csv('review2.csv', index=False)"
   ]
  }
 ],
 "metadata": {
  "kernelspec": {
   "display_name": "Python 3",
   "language": "python",
   "name": "python3"
  },
  "language_info": {
   "codemirror_mode": {
    "name": "ipython",
    "version": 3
   },
   "file_extension": ".py",
   "mimetype": "text/x-python",
   "name": "python",
   "nbconvert_exporter": "python",
   "pygments_lexer": "ipython3",
   "version": "3.7.4"
  }
 },
 "nbformat": 4,
 "nbformat_minor": 5
}
